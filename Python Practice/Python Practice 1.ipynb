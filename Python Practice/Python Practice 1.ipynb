{
 "cells": [
  {
   "cell_type": "code",
   "execution_count": null,
   "id": "4e98b501",
   "metadata": {},
   "outputs": [],
   "source": []
  },
  {
   "cell_type": "code",
   "execution_count": 221,
   "id": "187a389a",
   "metadata": {},
   "outputs": [
    {
     "name": "stdout",
     "output_type": "stream",
     "text": [
      "[5, 10, 24, 27, 41, 50, 59, 67]\n",
      "27\n",
      "------------------------------\n",
      "[56, 34, 23, 22, 12, 4, 3, 1]\n",
      "23\n"
     ]
    }
   ],
   "source": [
    "\"\"\"\n",
    "Find the kth largest/smallest item from a list\n",
    "\"\"\"\n",
    "\n",
    "l1 = [50,24,59,67,10,5,41,27]\n",
    "k = 4\n",
    "l1_s = sorted(l1)\n",
    "print(l1_s)\n",
    "print(l1_s[k-1])\n",
    "\n",
    "print('-'*30)\n",
    "L = [12,23,1,4,56,34,22,3]\n",
    "k=3\n",
    "\n",
    "L.sort(reverse=True)\n",
    "print(L)\n",
    "print(L[k-1])"
   ]
  },
  {
   "cell_type": "code",
   "execution_count": 225,
   "id": "40c88736",
   "metadata": {},
   "outputs": [
    {
     "name": "stdout",
     "output_type": "stream",
     "text": [
      "Sorted\n"
     ]
    }
   ],
   "source": [
    "# 2. Check if an array is sorted\n",
    "l1 = [10,20,30,40,50]\n",
    "\n",
    "flag = False\n",
    "for x in range(1, len(l1)):\n",
    "    if l1[x-1] > l1[x]:\n",
    "        flag = True\n",
    "        \n",
    "        \n",
    "if flag:\n",
    "    print(\"Not Sorted\")\n",
    "else:\n",
    "    print(\"Sorted\")\n",
    "        "
   ]
  },
  {
   "cell_type": "code",
   "execution_count": 229,
   "id": "09eb695f",
   "metadata": {},
   "outputs": [
    {
     "name": "stdout",
     "output_type": "stream",
     "text": [
      "10 97\n",
      "Min is 10 and Max is 97\n"
     ]
    }
   ],
   "source": [
    "\"\"\"\n",
    "# 3. Find Min/Max in a given array\n",
    "\"\"\"\n",
    "\n",
    "l1 = [50,10,35,97,45,27,46]\n",
    "print(min(l1), max(l1))\n",
    "\n",
    "minv = l1[0]\n",
    "maxv = l1[0]\n",
    "for x in l1:\n",
    "    if x <= minv:\n",
    "        minv = x\n",
    "    \n",
    "    if x >= maxv:\n",
    "        maxv = x\n",
    "        \n",
    "print(\"Min is {} and Max is {}\".format(minv, maxv))"
   ]
  },
  {
   "cell_type": "code",
   "execution_count": 237,
   "id": "ea28da28",
   "metadata": {},
   "outputs": [
    {
     "name": "stdout",
     "output_type": "stream",
     "text": [
      "{50: 3, 10: 2, 46: 2, 27: 2, 35: 1, 97: 1, 45: 1}\n",
      "Element is  10\n"
     ]
    }
   ],
   "source": [
    "\"\"\"\n",
    "# 4. Find the first element to occur k times in an array\n",
    "\"\"\"\n",
    "\n",
    "l1 = [50,10,50,46,27,10,50,35,97,45,27,46]\n",
    "k = 2\n",
    "d = dict()\n",
    "for x in l1:\n",
    "    if x in d:\n",
    "        d[x] += 1\n",
    "    else:\n",
    "        d[x] = 1\n",
    "        \n",
    "elem = 0\n",
    "for y in d:\n",
    "    if d[y] == k:\n",
    "        elem = y\n",
    "        break\n",
    "print(d)\n",
    "print(\"Element is \", elem)"
   ]
  },
  {
   "cell_type": "code",
   "execution_count": 242,
   "id": "91aa1069",
   "metadata": {},
   "outputs": [
    {
     "name": "stdout",
     "output_type": "stream",
     "text": [
      "Duplicate values are 50 \n",
      "Duplicate values are 10 \n",
      "Duplicate values are 46 \n",
      "Duplicate values are 27 \n"
     ]
    }
   ],
   "source": [
    "\"\"\"\n",
    "# 5. Find duplicates in an array\n",
    "\"\"\"\n",
    "l1 = [50,10,50,46,27,10,50,35,97,45,27,46]\n",
    "d = dict()\n",
    "for x in l1:\n",
    "    if x in d:\n",
    "        d[x] += 1\n",
    "    else:\n",
    "        d[x] = 1\n",
    "        \n",
    "for y in d:\n",
    "    if d[y] > 1:\n",
    "        print(\"Duplicate values are {} \".format(y))"
   ]
  },
  {
   "cell_type": "code",
   "execution_count": 243,
   "id": "487788b9",
   "metadata": {},
   "outputs": [
    {
     "name": "stdout",
     "output_type": "stream",
     "text": [
      "[3, 4, 5, 1, 2]\n"
     ]
    }
   ],
   "source": [
    "# 6. Rotate array to left d items\n",
    "\n",
    "L = [1,2,3,4,5]   # 34512\n",
    "rotate = 2\n",
    "res = L[rotate:] + L[0:rotate]\n",
    "print(res)\n",
    "\n",
    "\n",
    "\n"
   ]
  },
  {
   "cell_type": "code",
   "execution_count": 244,
   "id": "564a8f94",
   "metadata": {},
   "outputs": [
    {
     "name": "stdout",
     "output_type": "stream",
     "text": [
      "[3, 8]\n"
     ]
    }
   ],
   "source": [
    "# 7. Find intersection of 2 sorted arrays\n",
    "\n",
    "a = [1,2,3,4,5,8]\n",
    "b = [3,6,7,8]\n",
    "\n",
    "res = []\n",
    "for x in a:\n",
    "    if x in b:\n",
    "        res.append(x)\n",
    "        \n",
    "print(res)"
   ]
  },
  {
   "cell_type": "code",
   "execution_count": 275,
   "id": "a4de7621",
   "metadata": {},
   "outputs": [
    {
     "name": "stdout",
     "output_type": "stream",
     "text": [
      "[7, 9]\n"
     ]
    }
   ],
   "source": [
    "# 8. Find continous subarray with a given sum(given non-negative numbers)\n",
    "# return the starting and ending index of the subarray\n",
    "# return 1st subarray in case of multiple\n",
    "\n",
    "L = [1,22,13,7,9,11,10]\n",
    "S = 16\n",
    "\n",
    "for x in range(0, len(L)):\n",
    "    res = []\n",
    "    for y in range(x, len(L)):\n",
    "        res.append(L[y])\n",
    "        if sum(res) == S:\n",
    "            print(res)\n",
    "        #print(res ,\"=====>\",sum(res))"
   ]
  },
  {
   "cell_type": "code",
   "execution_count": 282,
   "id": "cee0a5b4",
   "metadata": {},
   "outputs": [
    {
     "name": "stdout",
     "output_type": "stream",
     "text": [
      "5\n"
     ]
    }
   ],
   "source": [
    "# 9. Find element with left side smaller/right side greater in an array\n",
    "L = [3,1,2,5,8,7,9]\n",
    "\n",
    "for x in range(1,len(L)-1):\n",
    "    if max(L[:x]) < L[x] < min(L[x+1 : ]):\n",
    "        print(L[x])\n",
    "    \n"
   ]
  },
  {
   "cell_type": "code",
   "execution_count": 297,
   "id": "fce03e8b",
   "metadata": {},
   "outputs": [
    {
     "name": "stdout",
     "output_type": "stream",
     "text": [
      "73\n",
      "[1, 22, 13, 7, 9, 11, 10]\n",
      "[1, 22, 13, 7, 9, 11, 10]\n"
     ]
    }
   ],
   "source": [
    "\"\"\"\n",
    "# 10. Maximum sum subarray\n",
    "\"\"\"\n",
    "\n",
    "L = [1,22,13,7,9,11,10]\n",
    "d = dict()\n",
    "for x in range(0, len(L)):\n",
    "    res = []\n",
    "    for y in range(x, len(L)):\n",
    "        res.append(L[y])\n",
    "        d[sum(res)] = res\n",
    "\n",
    "max_val = max(d.keys())\n",
    "print(max_val)\n",
    "print(d[max_val]) \n",
    "print(d[sorted(d, reverse=True)[0]])"
   ]
  },
  {
   "cell_type": "code",
   "execution_count": 299,
   "id": "50db9433",
   "metadata": {},
   "outputs": [
    {
     "data": {
      "text/plain": [
       "[7, 6, 5, 4, 2, 0, -1, -2, -5, -7]"
      ]
     },
     "execution_count": 299,
     "metadata": {},
     "output_type": "execute_result"
    }
   ],
   "source": [
    "# 12. Move all -ve numbers to the end\n",
    "\n",
    "L = [-1,-2,4,5,7,-5,0,-7,6,2]\n",
    "sorted(L, reverse=True)\n"
   ]
  },
  {
   "cell_type": "code",
   "execution_count": 303,
   "id": "3cd75b2a",
   "metadata": {},
   "outputs": [
    {
     "name": "stdout",
     "output_type": "stream",
     "text": [
      "[1] =======> 1\n",
      "[1, 22] =======> 22\n",
      "[1, 22, 13] =======> 286\n",
      "[1, 22, 13, 7] =======> 2002\n",
      "[1, 22, 13, 7, 9] =======> 18018\n",
      "[1, 22, 13, 7, 9, 11] =======> 198198\n",
      "[1, 22, 13, 7, 9, 11, 10] =======> 1981980\n",
      "[22] =======> 22\n",
      "[22, 13] =======> 286\n",
      "[22, 13, 7] =======> 2002\n",
      "[22, 13, 7, 9] =======> 18018\n",
      "[22, 13, 7, 9, 11] =======> 198198\n",
      "[22, 13, 7, 9, 11, 10] =======> 1981980\n",
      "[13] =======> 13\n",
      "[13, 7] =======> 91\n",
      "[13, 7, 9] =======> 819\n",
      "[13, 7, 9, 11] =======> 9009\n",
      "[13, 7, 9, 11, 10] =======> 90090\n",
      "[7] =======> 7\n",
      "[7, 9] =======> 63\n",
      "[7, 9, 11] =======> 693\n",
      "[7, 9, 11, 10] =======> 6930\n",
      "[9] =======> 9\n",
      "[9, 11] =======> 99\n",
      "[9, 11, 10] =======> 990\n",
      "[11] =======> 11\n",
      "[11, 10] =======> 110\n",
      "[10] =======> 10\n",
      "1981980\n",
      "[22, 13, 7, 9, 11, 10]\n",
      "[22, 13, 7, 9, 11, 10]\n"
     ]
    }
   ],
   "source": [
    "\"\"\"\n",
    "# 10. Maximum product subarray\n",
    "\"\"\"\n",
    "L = [1,22,13,7,9,11,10]\n",
    "d = dict()\n",
    "for x in range(0, len(L)):\n",
    "    res = []\n",
    "    product = 1\n",
    "    for y in range(x, len(L)):\n",
    "        res.append(L[y])\n",
    "        product *= L[y]\n",
    "        d[product] = res\n",
    "        print(res, \"=======>\", product)\n",
    "\n",
    "max_val = max(d.keys())\n",
    "print(max_val)\n",
    "print(d[max_val]) \n",
    "print(d[sorted(d, reverse=True)[0]])"
   ]
  },
  {
   "cell_type": "code",
   "execution_count": 305,
   "id": "015a9244",
   "metadata": {},
   "outputs": [
    {
     "data": {
      "text/plain": [
       "{1, 2, 3, 4, 5, 6, 7, 8}"
      ]
     },
     "execution_count": 305,
     "metadata": {},
     "output_type": "execute_result"
    }
   ],
   "source": [
    "# 14. Find union of 2 arrays\n",
    "l1 = [1,2,3,4]\n",
    "l2 = [5,6,7,8]\n",
    "\n",
    "res = set(l1).union(set(l2))\n",
    "res"
   ]
  },
  {
   "cell_type": "code",
   "execution_count": 306,
   "id": "c97e4bec",
   "metadata": {},
   "outputs": [
    {
     "name": "stdout",
     "output_type": "stream",
     "text": [
      "[(3, 4, 5)]\n"
     ]
    }
   ],
   "source": [
    "def find_pythagorean_triplets(arr):\n",
    "    n = len(arr)\n",
    "    triplets = []\n",
    "    \n",
    "    # Check all triplets (a, b, c)\n",
    "    for i in range(n):\n",
    "        for j in range(i + 1, n):\n",
    "            for k in range(j + 1, n):\n",
    "                a, b, c = sorted([arr[i], arr[j], arr[k]])  # Ensure a ≤ b < c\n",
    "                if a**2 + b**2 == c**2:\n",
    "                    triplets.append((a, b, c))\n",
    "    \n",
    "    return triplets\n",
    "\n",
    "# Example\n",
    "arr = [3, 1, 4, 6, 5]\n",
    "print(find_pythagorean_triplets(arr))  # Output: [(3, 4, 5)]\n"
   ]
  },
  {
   "cell_type": "code",
   "execution_count": 307,
   "id": "ba331721",
   "metadata": {},
   "outputs": [
    {
     "name": "stdout",
     "output_type": "stream",
     "text": [
      "22 [4, 7, -1, 6, -11, 14, 3, -1, -6]\n"
     ]
    }
   ],
   "source": [
    "L = [-2,4,7,-1,6,-11,14,3,-1,-6]\n",
    "\n",
    "\n",
    "curr_sum = 0\n",
    "curr_seq = []\n",
    "best_sum = L[0]\n",
    "best_seq = []\n",
    "\n",
    "for i in L:\n",
    "  if i + curr_sum > i:\n",
    "    curr_sum = curr_sum + i\n",
    "    curr_seq.append(i)\n",
    "  else:\n",
    "    curr_sum = i\n",
    "    curr_seq.clear()\n",
    "    curr_seq.append(i)\n",
    "\n",
    "  if curr_sum > best_sum:\n",
    "    best_sum = curr_sum\n",
    "    best_seq = curr_seq\n",
    "\n",
    "print(best_sum,best_seq)\n"
   ]
  },
  {
   "cell_type": "code",
   "execution_count": 188,
   "id": "b174e140",
   "metadata": {},
   "outputs": [
    {
     "data": {
      "text/plain": [
       "3"
      ]
     },
     "execution_count": 188,
     "metadata": {},
     "output_type": "execute_result"
    }
   ],
   "source": [
    "class Car:\n",
    "    __no_of_instance = 0\n",
    "    def __init__(self):\n",
    "        Car.__no_of_instance += 1\n",
    "        \n",
    "    @staticmethod\n",
    "    def get_no_of_instance():\n",
    "        return Car.__no_of_instance\n",
    "    \n",
    "obj1 = Car()\n",
    "obj2 = Car()\n",
    "obj3 = Car()\n",
    "\n",
    "Car.get_no_of_instance()"
   ]
  },
  {
   "cell_type": "code",
   "execution_count": 195,
   "id": "ffa91930",
   "metadata": {},
   "outputs": [
    {
     "name": "stdout",
     "output_type": "stream",
     "text": [
      "Clubs->5\n",
      "Spades->6\n",
      "Hearts->8\n",
      "Spades->2\n",
      "Cards left 48\n"
     ]
    }
   ],
   "source": [
    "import random\n",
    "\n",
    "class Card:\n",
    "\n",
    "  def __init__(self,suit,value):\n",
    "    self.suit = suit\n",
    "    self.value = value\n",
    "\n",
    "  def __repr__(self):\n",
    "    return \"{}->{}\".format(self.suit,self.value)\n",
    "\n",
    "class Deck:\n",
    "\n",
    "  def __init__(self):\n",
    "    suits = ['Hearts','Diamonds','Clubs','Spades']\n",
    "    values = ['A','2','3','4','5','6','7','8','9','10','J','K','Q']\n",
    "    self.cards = [Card(suit,value) for suit in suits for value in values]\n",
    "\n",
    "  def __str__(self):\n",
    "    return \"Cards left \" + str(len(self.cards))\n",
    "\n",
    "  def shuffle(self):\n",
    "    if len(self.cards) < 52:\n",
    "      print('only full deck can be shuffled')\n",
    "    else:\n",
    "      random.shuffle(self.cards)\n",
    "    return self.cards\n",
    "\n",
    "  def deal(self):\n",
    "    if len(self.cards) == 0:\n",
    "      print('All cards have been dealt')\n",
    "    return self.cards.pop()\n",
    "\n",
    "\n",
    "deck = Deck()\n",
    "deck.shuffle()\n",
    "print(deck.deal())\n",
    "print(deck.deal())\n",
    "print(deck.deal())\n",
    "print(deck.deal())\n",
    "print(deck)"
   ]
  },
  {
   "cell_type": "code",
   "execution_count": 197,
   "id": "17f991b8",
   "metadata": {},
   "outputs": [
    {
     "name": "stdout",
     "output_type": "stream",
     "text": [
      "20\n",
      "False\n"
     ]
    }
   ],
   "source": [
    "class Rectangle:\n",
    "\n",
    "  def __init__(self,l,b):\n",
    "    self.length = l\n",
    "    self.breadth = b\n",
    "\n",
    "  @classmethod\n",
    "  def property(cls,length,bre):\n",
    "    return cls(length,bre)\n",
    "\n",
    "  def area(self):\n",
    "    return self.length*self.breadth\n",
    "\n",
    "  def is_square(self):\n",
    "    return True if self.length == self.breadth else False\n",
    "\n",
    "r = Rectangle.property(4,5)\n",
    "print(r.area())\n",
    "print(r.is_square())"
   ]
  },
  {
   "cell_type": "code",
   "execution_count": 199,
   "id": "291e24de",
   "metadata": {},
   "outputs": [
    {
     "name": "stdout",
     "output_type": "stream",
     "text": [
      "enter manufacturing date (MM/DD/YYYY)02/10/2025\n",
      "enter expiry date (MM/DD/YYYY)03/15/2026\n",
      "398 days, 0:00:00\n"
     ]
    }
   ],
   "source": [
    "\n",
    "import datetime\n",
    "\n",
    "class Product:\n",
    "\n",
    "  def __init__(self):\n",
    "    self.manufacture_date = input('enter manufacturing date (MM/DD/YYYY)')\n",
    "    self.expiry_date = input('enter expiry date (MM/DD/YYYY)')\n",
    "\n",
    "    self.manufacture_date = datetime.datetime.strptime(self.manufacture_date, '%m/%d/%Y')\n",
    "    self.expiry_date = datetime.datetime.strptime(self.expiry_date, '%m/%d/%Y')\n",
    "\n",
    "  def time_to_expire(self):\n",
    "    today = datetime.datetime.now()\n",
    "\n",
    "    if today > self.expiry_date:\n",
    "      print('product expired already')\n",
    "    else:\n",
    "      time_left = self.expiry_date.date() - today.date()\n",
    "      print(time_left)\n",
    "\n",
    "obj = Product()\n",
    "obj.time_to_expire()"
   ]
  },
  {
   "cell_type": "code",
   "execution_count": 200,
   "id": "7b5fbbdc",
   "metadata": {},
   "outputs": [
    {
     "name": "stdout",
     "output_type": "stream",
     "text": [
      "101\n",
      "66\n",
      "19\n"
     ]
    },
    {
     "data": {
      "text/plain": [
       "False"
      ]
     },
     "execution_count": 200,
     "metadata": {},
     "output_type": "execute_result"
    }
   ],
   "source": [
    "#Code here\n",
    "\n",
    "class Student:\n",
    "\n",
    "  def __init__(self):\n",
    "    self.__sid = None\n",
    "    self.__marks = None\n",
    "    self.__age = None\n",
    "\n",
    "  # setter methods\n",
    "  def set_sid(self,sid):\n",
    "    self.__sid = sid\n",
    "  def set_marks(self,marks):\n",
    "    self.__marks = marks\n",
    "  def set_age(self,age):\n",
    "    self.__age = age\n",
    "\n",
    "  # getters\n",
    "  def get_sid(self):\n",
    "    return self.__sid\n",
    "  def get_marks(self):\n",
    "    return self.__marks\n",
    "  def get_age(self):\n",
    "    return self.__age\n",
    "\n",
    "  def validate_age(self):\n",
    "    return self.__age>20\n",
    "\n",
    "  def validate_marks(self):\n",
    "    return self.__marks>=0 and self.__marks<=100\n",
    "\n",
    "  def check_qualification(self):\n",
    "    if self.validate_age() and self.validate_marks():\n",
    "      return self.__marks>= 65\n",
    "    else:\n",
    "      return False\n",
    "\n",
    "stu1 = Student()\n",
    "\n",
    "stu1.set_sid(101)\n",
    "stu1.set_marks(66)\n",
    "stu1.set_age(19)\n",
    "\n",
    "print(stu1.get_sid())\n",
    "print(stu1.get_marks())\n",
    "print(stu1.get_age())\n",
    "\n",
    "stu1.check_qualification()"
   ]
  },
  {
   "cell_type": "code",
   "execution_count": 202,
   "id": "41483b31",
   "metadata": {},
   "outputs": [],
   "source": [
    "#Write your code here\n",
    "\n",
    "class Scoop:\n",
    "\n",
    "  __counter = 0\n",
    "\n",
    "  def __init__(self,flavor):\n",
    "    self.flavor = flavor\n",
    "    self.__price = None\n",
    "    Scoop.__counter += 1\n",
    "\n",
    "\n",
    "  def get_price(self):\n",
    "    return self.__price\n",
    "\n",
    "  def set_price(self,price):\n",
    "    self.__price = price\n",
    "\n",
    "  def __str__(self):\n",
    "    return \"Flavor - {} and Price - {}\".format(self.flavor,self.__price)\n",
    "\n",
    "  @staticmethod\n",
    "  def sold():\n",
    "    return Scoop.__counter\n",
    "\n",
    "\n",
    "class Bowl:\n",
    "\n",
    "  __counter = 0\n",
    "\n",
    "  def __init__(self):\n",
    "    self.__scoop_list = []\n",
    "    Bowl.__counter += 1\n",
    "\n",
    "  def add_scoops(self,*new_scoops):\n",
    "    for scoop in new_scoops:\n",
    "      self.__scoop_list.append(scoop)\n",
    "\n",
    "  def display(self):\n",
    "    total = 0\n",
    "    for scoop in self.__scoop_list:\n",
    "      print(scoop)\n",
    "      total = total + scoop.get_price()\n",
    "\n",
    "    print('total price',total)\n",
    "\n",
    "  @staticmethod\n",
    "  def sold():\n",
    "    return Bowl.__counter\n",
    "    "
   ]
  },
  {
   "cell_type": "code",
   "execution_count": 203,
   "id": "e1330871",
   "metadata": {},
   "outputs": [
    {
     "name": "stdout",
     "output_type": "stream",
     "text": [
      "Flavor - chocolate and Price - None\n",
      "Flavor - berry and Price - 120\n",
      "<__main__.Bowl object at 0x785203fcd340>\n",
      "Flavor - chocolate and Price - 100\n",
      "Flavor - berry and Price - 120\n",
      "Flavor - vanilla and Price - 150\n",
      "total price 370\n",
      "3\n",
      "1\n"
     ]
    }
   ],
   "source": [
    "choco = Scoop('chocolate')\n",
    "print(choco)\n",
    "choco.set_price(100)\n",
    "\n",
    "berry = Scoop('berry')\n",
    "berry.set_price(120)\n",
    "print(berry)\n",
    "\n",
    "vanilla = Scoop('vanilla')\n",
    "vanilla.set_price(150)\n",
    "\n",
    "bowl = Bowl()\n",
    "\n",
    "bowl.add_scoops(choco) # Giving one parameter\n",
    "bowl.add_scoops(berry, vanilla) # Multiple\n",
    "# add_scoops should handle both scenerios\n",
    "\n",
    "print(bowl)\n",
    "\n",
    "bowl.display()\n",
    "\n",
    "print(Scoop.sold())\n",
    "print(Bowl.sold())"
   ]
  },
  {
   "cell_type": "code",
   "execution_count": 204,
   "id": "e283e285",
   "metadata": {},
   "outputs": [
    {
     "name": "stdout",
     "output_type": "stream",
     "text": [
      "5500.0\n"
     ]
    }
   ],
   "source": [
    "# Write code here\n",
    "\n",
    "class Vehicle:\n",
    "\n",
    "  def __init__(self,type,capacity):\n",
    "    self.type = type\n",
    "    self.capacity = capacity\n",
    "\n",
    "  def fare(self):\n",
    "    return 100*self.capacity\n",
    "\n",
    "class Bus(Vehicle):\n",
    "\n",
    "  def fare(self):\n",
    "    base_fare = super().fare()\n",
    "    bus_fare = base_fare + 0.1*base_fare\n",
    "    return bus_fare\n",
    "\n",
    "bus = Bus('school bus',50)\n",
    "print(bus.fare())"
   ]
  },
  {
   "cell_type": "code",
   "execution_count": null,
   "id": "33a41bfc",
   "metadata": {},
   "outputs": [],
   "source": [
    "\"\"\"  Write a program that has a class Point. \n",
    "Define another class Location which has two objects (Location & Destination) of class Point. \n",
    "Also define a function in Location that prints the reflection of Destination on the x axis. \"\"\"\n",
    "\n",
    "class Point:\n",
    "\n",
    "  def __init__(self,x,y):\n",
    "    self.x = x\n",
    "    self.y = y\n",
    "\n",
    "  def show_point(self):\n",
    "    return '{},{}'.format(self.x,self.y)\n",
    "\n",
    "class Location:\n",
    "\n",
    "  def __init__(self,x1,y1,x2,y2):\n",
    "    self.source = Point(x1,y1)\n",
    "    self.destination = Point(x2,y2)\n",
    "\n",
    "  def show(self):\n",
    "    print('source is',self.source.show_point())\n",
    "\n",
    "  def reflection(self):\n",
    "    self.destination.y = -self.destination.y\n",
    "    print('Relection is',self.destination.show_point())\n",
    "\n",
    "L = Location(0,0,1,1)\n",
    "L.show()\n",
    "L.reflection()"
   ]
  },
  {
   "cell_type": "code",
   "execution_count": 205,
   "id": "76107eb4",
   "metadata": {},
   "outputs": [
    {
     "name": "stdout",
     "output_type": "stream",
     "text": [
      "20\n"
     ]
    },
    {
     "data": {
      "text/plain": [
       "10.0"
      ]
     },
     "execution_count": 205,
     "metadata": {},
     "output_type": "execute_result"
    }
   ],
   "source": [
    "# Write code here\n",
    "\"\"\"\n",
    "Write a program that has an abstract class Polygon. \n",
    "Derive two classes Rectangle and Triamgle from Polygon \n",
    "and write methods to get the details of their dimensions and hence calculate the area.\n",
    "\n",
    "\"\"\"\n",
    "from abc import ABC,abstractmethod\n",
    "\n",
    "class Polygon(ABC):\n",
    "\n",
    "  @abstractmethod\n",
    "  def get_data():\n",
    "    pass\n",
    "\n",
    "  @abstractmethod\n",
    "  def area():\n",
    "    pass\n",
    "\n",
    "class Rectangle(Polygon):\n",
    "\n",
    "  def get_data(self,l,b):\n",
    "    self.l = l\n",
    "    self.b = b\n",
    "\n",
    "  def area(self):\n",
    "    return self.l*self.b\n",
    "\n",
    "class Triangle(Polygon):\n",
    "\n",
    "  def get_data(self,b,h):\n",
    "    self.b = b\n",
    "    self.h = h\n",
    "\n",
    "  def area(self):\n",
    "    return 0.5 * self.b*self.h\n",
    "\n",
    "rect = Rectangle()\n",
    "rect.get_data(4,5)\n",
    "print(rect.area())\n",
    "\n",
    "tri = Triangle()\n",
    "tri.get_data(4,5)\n",
    "tri.area()\n",
    "\n",
    "\n",
    "\n"
   ]
  },
  {
   "cell_type": "code",
   "execution_count": null,
   "id": "57ddb0b8",
   "metadata": {},
   "outputs": [],
   "source": []
  },
  {
   "cell_type": "code",
   "execution_count": 209,
   "id": "6a908bbb",
   "metadata": {},
   "outputs": [
    {
     "name": "stdout",
     "output_type": "stream",
     "text": [
      "Would you like to pay by cheque or cash (1/2): 2\n",
      "Item \t\t\t Price\n",
      "External Hard Disk \t 5000\n",
      "RAM \t 2000\n",
      "Printer \t 6000\n",
      "Pen Drive \t 800\n",
      "**********\n",
      "Total 13800\n",
      "10 * 1 = 10\n",
      "20 * 1 = 20\n",
      "50 * 1 = 50\n",
      "100 * 20 = 2000\n",
      "500 * 4 = 2000\n",
      "2000 * 5 = 10000\n"
     ]
    }
   ],
   "source": [
    "# Write code here\n",
    "\"\"\"\n",
    "Write a program with class Bill. The users have the option to pay the bill either by cheque or by cash. \n",
    "Use the inheritance to model this situation.\n",
    "\"\"\"\n",
    "class Bill:\n",
    "\n",
    "  def __init__(self,items,price):\n",
    "    self.total = 0\n",
    "    self.items = items\n",
    "    self.price = price\n",
    "\n",
    "    for i in self.price:\n",
    "      self.total = self.total + i\n",
    "\n",
    "  def display(self):\n",
    "    print('Item \\t\\t\\t Price')\n",
    "    for i in range(len(self.items)):\n",
    "      print(self.items[i],'\\t',self.price[i])\n",
    "    print(\"*\"*10)\n",
    "\n",
    "    print(\"Total\",self.total)\n",
    "\n",
    "class CashPayment(Bill):\n",
    "\n",
    "  def __init__(self,items,price,deno,value):\n",
    "    super().__init__(items,price)\n",
    "\n",
    "    self.deno = deno\n",
    "    self.value = value\n",
    "\n",
    "  def show_cash_payment(self):\n",
    "    super().display()\n",
    "    for i in range(len(self.deno)):\n",
    "      print(self.deno[i],\"*\",self.value[i],\"=\",self.deno[i]*self.value[i])\n",
    "\n",
    "class ChequePayment(Bill):\n",
    "\n",
    "  def __init__(self,items,price,cno,name):\n",
    "    super().__init__(items,price)\n",
    "\n",
    "    self.cno = cno\n",
    "    self.name = name\n",
    "\n",
    "  def show_cheque_payment(self):\n",
    "    super().display()\n",
    "    print('Cheque no',self.cno)\n",
    "    print('Bank name',self.name)\n",
    "    \n",
    "    \n",
    "    \n",
    "items = [\"External Hard Disk\", \"RAM\", \"Printer\", \"Pen Drive\"]\n",
    "price = [5000, 2000, 6000, 800]\n",
    "option = int(input(\"Would you like to pay by cheque or cash (1/2): \"))\n",
    "\n",
    "if option == 1:\n",
    "    name = input(\"Enter the name of the bank: \")\n",
    "    cno = input(\"Enter the cheque number: \")\n",
    "    cheque = ChequePayment(items, price, cno, name)\n",
    "    cheque.show_cheque_payment()\n",
    "\n",
    "else:\n",
    "    deno = [10, 20, 50, 100, 500, 2000]\n",
    "    value = [1, 1, 1, 20, 4, 5]\n",
    "    cash = CashPayment(items, price, deno, value)\n",
    "    cash.show_cash_payment()\n",
    "    \n",
    "    \n",
    "    \n",
    "    "
   ]
  },
  {
   "cell_type": "code",
   "execution_count": null,
   "id": "a4a20c5c",
   "metadata": {},
   "outputs": [],
   "source": []
  },
  {
   "cell_type": "code",
   "execution_count": 64,
   "id": "b9530fa3",
   "metadata": {},
   "outputs": [
    {
     "data": {
      "text/plain": [
       "{'Lenght': 3, 'width': 4, 'Area': 12, 'Peremeter': 14}"
      ]
     },
     "execution_count": 64,
     "metadata": {},
     "output_type": "execute_result"
    }
   ],
   "source": [
    "class Rectangle:\n",
    "    def __init__(self, length, width):\n",
    "        self.__length = length\n",
    "        self.__width = width\n",
    "\n",
    "    \n",
    "    def __perimeter(self):\n",
    "        return  2* (self.__length +  self.__width)\n",
    "    \n",
    "    \n",
    "    def __area(self):\n",
    "        return  self.__length * self.__width\n",
    "    \n",
    "    \n",
    "    def display(self):\n",
    "        return { \"Lenght\" : self.__length, \n",
    "                 \"width\": self.__width, \n",
    "                 \"Area\": self.__area(), \n",
    "                \"Peremeter\": self.__perimeter()\n",
    "               }\n",
    "        \n",
    "obj1 = Rectangle(3,4)\n",
    "obj1.display()"
   ]
  },
  {
   "cell_type": "code",
   "execution_count": 99,
   "id": "d06c0eaa",
   "metadata": {},
   "outputs": [
    {
     "data": {
      "text/plain": [
       "{'Account Number :': '123456', 'Name :': 'nitin', 'Balance:': 3065.0}"
      ]
     },
     "execution_count": 99,
     "metadata": {},
     "output_type": "execute_result"
    }
   ],
   "source": [
    "class BankAccount:\n",
    "    def __init__(self, ac_no, name, bal):\n",
    "        self.__ac_no = ac_no\n",
    "        self.__name = name\n",
    "        self.__bal = bal\n",
    "\n",
    "    def deposit(self, amount):\n",
    "        self.__bal = self.__bal + amount\n",
    "        \n",
    "    def bankFees(self, amount):\n",
    "        self.__bal =  self.__bal - (amount * 0.05)\n",
    "        \n",
    "    def withdraw(self, amount):\n",
    "        if amount > self.__bal:\n",
    "            return \"Insufficient Funds\"\n",
    "        self.bankFees(amount)\n",
    "        \n",
    "#         print( self.__bal)\n",
    "        self.__bal = self.__bal - amount\n",
    "#         print( self.__bal)\n",
    "        \n",
    "        \n",
    "        \n",
    "\n",
    "    def display(self):\n",
    "        return {\n",
    "            \"Account Number :\" : self.__ac_no,\n",
    "            \"Name :\" : self.__name,\n",
    "            \"Balance:\" : self.__bal,\n",
    "        }\n",
    "        \n",
    "bobj1 = BankAccount(\"123456\", \"nitin\", 2800)\n",
    "bobj1.display()\n",
    "\n",
    "bobj1.withdraw(700)\n",
    "bobj1.display()\n",
    "\n",
    "\n",
    "bobj1.deposit(1000)\n",
    "bobj1.display()\n",
    "\n",
    "\n",
    "\n"
   ]
  },
  {
   "cell_type": "code",
   "execution_count": 131,
   "id": "eba6f53a",
   "metadata": {},
   "outputs": [
    {
     "data": {
      "text/plain": [
       "[2, 4, 6, 8, 10, 12, 14]"
      ]
     },
     "execution_count": 131,
     "metadata": {},
     "output_type": "execute_result"
    }
   ],
   "source": [
    "class Computation:\n",
    "    \n",
    "    def Factorial(self, n):\n",
    "        res = 1\n",
    "        for x in range(1,n+1):\n",
    "            res *= x\n",
    "            \n",
    "        return res\n",
    "    \n",
    "    def naturalSum(self, n):\n",
    "        res = 0\n",
    "        for x in range(1,n+1):\n",
    "            res += x\n",
    "            \n",
    "        return res\n",
    "    \n",
    "    def testPrime(self, n):\n",
    "        flag = True\n",
    "        for x in range(2, n // 2+1):\n",
    "            if n % x == 0:\n",
    "                flag = False\n",
    "        return flag\n",
    "    \n",
    "    def testPrims(self, n, k):\n",
    "        fd = 1\n",
    "        ld = 1\n",
    "        for x in range(2, n // 2+1):\n",
    "            if n % x == 0:\n",
    "                fd = x\n",
    "        \n",
    "        for y in range(2, k // 2+1):\n",
    "            if k % y == 0:\n",
    "                ld = y\n",
    "                \n",
    "        if abs(fd - ld) == 1:\n",
    "            return True\n",
    "        else:\n",
    "            return False\n",
    "    \n",
    "    def __tableMult(self, n):\n",
    "        return [x*n  for x in range(1, 11) ]\n",
    "    \n",
    "    def allTablesMult(self, n):\n",
    "        return self.__tableMult(n)\n",
    "    \n",
    "    def __listDiv(self, n):\n",
    "        res = []\n",
    "        for x in range(1,n+1) :\n",
    "            if x % 2 == 0:\n",
    "                res.append(x)\n",
    "        \n",
    "        return res\n",
    "    \n",
    "    \n",
    "    def listDivPrim(self, n ):\n",
    "        return self.__listDiv(n)\n",
    "    \n",
    "cobj = Computation()\n",
    "cobj.Factorial(7)\n",
    "cobj.naturalSum(5)\n",
    "cobj.testPrime(7)\n",
    "cobj.testPrims(5,6)\n",
    "cobj.allTablesMult(15)\n",
    "cobj.listDivPrim(15)"
   ]
  },
  {
   "cell_type": "code",
   "execution_count": 165,
   "id": "a9d4edd7",
   "metadata": {},
   "outputs": [
    {
     "name": "stdout",
     "output_type": "stream",
     "text": [
      "Welcome to fruit quiz \n",
      "\n",
      "            What is color of Banana ?\n",
      "            green\n",
      "Wrong Answer\n",
      "Enter 0 to play again 1\n"
     ]
    }
   ],
   "source": [
    "import random\n",
    "class FlashCard:\n",
    "    def __init__(self):\n",
    "        print(\"Welcome to fruit quiz \")\n",
    "        self.__fruits = {\n",
    "            \"Banana\" : \"Yellow\",\n",
    "            \"Grapes\" : \"Green\",\n",
    "            \"Orange\" : \"Orange\",\n",
    "            \"Strawberries\" : \"Pink\"\n",
    "        }\n",
    "        \n",
    "        self.__fruit = random.choice( list(self.__fruits.items()) )[0]\n",
    "        self.__color = random.choice( list(self.__fruits.items()) )[1]\n",
    "        \n",
    "    def display(self):\n",
    "        \n",
    "        while True:\n",
    "            input_val = input(\"\"\"\n",
    "            What is color of {} ?\n",
    "            \"\"\".format(self.__fruit))\n",
    "            \n",
    "            if input_val.lower() == self.__color.lower():\n",
    "                print(\"Correct Answer\")\n",
    "                break\n",
    "            else:\n",
    "                print(\"Wrong Answer\")\n",
    "            \n",
    "            que = input(\"Enter 0 to play again \")\n",
    "            if que == \"0\":\n",
    "                self.display()\n",
    "                \n",
    "            else:\n",
    "                break\n",
    "\n",
    "obj12 = FlashCard()\n",
    "obj12.display()"
   ]
  },
  {
   "cell_type": "raw",
   "id": "acbd484f",
   "metadata": {},
   "source": []
  },
  {
   "cell_type": "code",
   "execution_count": 163,
   "id": "15927289",
   "metadata": {},
   "outputs": [
    {
     "data": {
      "text/plain": [
       "'Allocated'"
      ]
     },
     "execution_count": 163,
     "metadata": {},
     "output_type": "execute_result"
    }
   ],
   "source": [
    "class TechWorld:\n",
    "    def __init__(self, name, skill, exp, feedback):\n",
    "        self.__name = name\n",
    "        self.__skill = skill\n",
    "        self.__exp = exp\n",
    "        self.__feedback = feedback\n",
    "    \n",
    "    def check_eligibility(self):\n",
    "        if self.__exp > 3 and self.__feedback >= 4.5:\n",
    "            return True\n",
    "        elif self.__exp <= 3 and self.__feedback >= 4:\n",
    "            return True\n",
    "        else:\n",
    "            return False\n",
    "        \n",
    "        \n",
    "    def allocate_course(self, technology):\n",
    "        if self.check_eligibility() == True:\n",
    "            if technology in  self.__skill:\n",
    "                return \"Allocated\"\n",
    "            else:\n",
    "                return \"Not Allocated\"\n",
    "        else:\n",
    "            return \"Not Eligible\"\n",
    "\n",
    "        \n",
    "        \n",
    "    \n",
    "\n",
    "tobj = TechWorld(\"Nitin\", [\"PHP\",\"Python\",\"Data Science\",\"Machine Learning\",\"MERN\",\"ROR\"],5,4.9)\n",
    "\n",
    "tobj.check_eligibility()\n",
    "tobj.allocate_course(\"ROR\")\n",
    "    \n",
    "    "
   ]
  },
  {
   "cell_type": "code",
   "execution_count": null,
   "id": "279d6a6f",
   "metadata": {},
   "outputs": [],
   "source": []
  },
  {
   "cell_type": "code",
   "execution_count": null,
   "id": "82ec04fe",
   "metadata": {},
   "outputs": [],
   "source": []
  },
  {
   "cell_type": "code",
   "execution_count": 1,
   "id": "1c9e8e0f",
   "metadata": {},
   "outputs": [],
   "source": [
    "# interchange first and last element "
   ]
  },
  {
   "cell_type": "code",
   "execution_count": 19,
   "id": "2e2c05da",
   "metadata": {},
   "outputs": [],
   "source": [
    "my_list = [1, 2, 3, 4, 5]"
   ]
  },
  {
   "cell_type": "code",
   "execution_count": 20,
   "id": "2bf889e3",
   "metadata": {},
   "outputs": [
    {
     "data": {
      "text/plain": [
       "[5, 2, 3, 4, 1]"
      ]
     },
     "execution_count": 20,
     "metadata": {},
     "output_type": "execute_result"
    }
   ],
   "source": [
    "my_list[0] , my_list[-1] = my_list[-1], my_list[0]\n",
    "my_list\n"
   ]
  },
  {
   "cell_type": "markdown",
   "id": "2f2526c9",
   "metadata": {},
   "source": [
    "##  Write a program that will give you in hand monthly salary after deduction on CTC - HRA(10%), DA(5%), PF(3%) and taxes deduction as below:\n",
    "\n",
    "Salary(Lakhs) : Tax(%)\n",
    "\n",
    "Below 5 : 0%\n",
    "\n",
    "5-10 : 10%\n",
    "\n",
    "10-20 : 20%\n",
    "\n",
    "aboove 20 : 30%\n",
    "\n"
   ]
  },
  {
   "cell_type": "code",
   "execution_count": 175,
   "id": "ab63ab69",
   "metadata": {},
   "outputs": [
    {
     "name": "stdout",
     "output_type": "stream",
     "text": [
      "Enter your ctc :800000\n",
      "656000.0\n",
      "Salary is :  49200.0\n"
     ]
    }
   ],
   "source": [
    "ctc = float(input(\"Enter your ctc :\"))\n",
    "ctc_after_deduction = ctc - ctc * 0.18\n",
    "\n",
    "print(ctc_after_deduction)\n",
    "\n",
    "if ctc < 500000:\n",
    "    print(\"Salary is : \", ctc_after_deduction / 12)\n",
    "elif ctc >= 500000 and ctc < 1000000:\n",
    "    print(\"Salary is : \", (ctc_after_deduction - ctc_after_deduction*0.10) / 12)\n",
    "elif ctc >= 1000000 and ctc < 2000000:\n",
    "    print('gg')\n",
    "    print(\"Salary is : \", (ctc_after_deduction - ctc_after_deduction*0.20) / 12)\n",
    "elif ctc >= 2000000:\n",
    "    print(\"Salary is : \", (ctc_after_deduction - ctc_after_deduction*0.30) / 12)"
   ]
  },
  {
   "cell_type": "code",
   "execution_count": 22,
   "id": "d71f0eea",
   "metadata": {},
   "outputs": [
    {
     "data": {
      "text/plain": [
       "list"
      ]
     },
     "execution_count": 22,
     "metadata": {},
     "output_type": "execute_result"
    }
   ],
   "source": [
    "type([1,2,3])"
   ]
  },
  {
   "cell_type": "code",
   "execution_count": 23,
   "id": "337f3a05",
   "metadata": {},
   "outputs": [
    {
     "data": {
      "text/plain": [
       "['__add__',\n",
       " '__class__',\n",
       " '__class_getitem__',\n",
       " '__contains__',\n",
       " '__delattr__',\n",
       " '__delitem__',\n",
       " '__dir__',\n",
       " '__doc__',\n",
       " '__eq__',\n",
       " '__format__',\n",
       " '__ge__',\n",
       " '__getattribute__',\n",
       " '__getitem__',\n",
       " '__getstate__',\n",
       " '__gt__',\n",
       " '__hash__',\n",
       " '__iadd__',\n",
       " '__imul__',\n",
       " '__init__',\n",
       " '__init_subclass__',\n",
       " '__iter__',\n",
       " '__le__',\n",
       " '__len__',\n",
       " '__lt__',\n",
       " '__mul__',\n",
       " '__ne__',\n",
       " '__new__',\n",
       " '__reduce__',\n",
       " '__reduce_ex__',\n",
       " '__repr__',\n",
       " '__reversed__',\n",
       " '__rmul__',\n",
       " '__setattr__',\n",
       " '__setitem__',\n",
       " '__sizeof__',\n",
       " '__str__',\n",
       " '__subclasshook__',\n",
       " 'append',\n",
       " 'clear',\n",
       " 'copy',\n",
       " 'count',\n",
       " 'extend',\n",
       " 'index',\n",
       " 'insert',\n",
       " 'pop',\n",
       " 'remove',\n",
       " 'reverse',\n",
       " 'sort']"
      ]
     },
     "execution_count": 23,
     "metadata": {},
     "output_type": "execute_result"
    }
   ],
   "source": [
    "dir([1,2,3])"
   ]
  },
  {
   "cell_type": "code",
   "execution_count": 29,
   "id": "e076d894",
   "metadata": {},
   "outputs": [
    {
     "name": "stdout",
     "output_type": "stream",
     "text": [
      "Help on list object:\n",
      "\n",
      "class list(object)\n",
      " |  list(iterable=(), /)\n",
      " |\n",
      " |  Built-in mutable sequence.\n",
      " |\n",
      " |  If no argument is given, the constructor creates a new empty list.\n",
      " |  The argument must be an iterable if specified.\n",
      " |\n",
      " |  Methods defined here:\n",
      " |\n",
      " |  __add__(self, value, /)\n",
      " |      Return self+value.\n",
      " |\n",
      " |  __contains__(self, key, /)\n",
      " |      Return bool(key in self).\n",
      " |\n",
      " |  __delitem__(self, key, /)\n",
      " |      Delete self[key].\n",
      " |\n",
      " |  __eq__(self, value, /)\n",
      " |      Return self==value.\n",
      " |\n",
      " |  __ge__(self, value, /)\n",
      " |      Return self>=value.\n",
      " |\n",
      " |  __getattribute__(self, name, /)\n",
      " |      Return getattr(self, name).\n",
      " |\n",
      " |  __getitem__(self, index, /)\n",
      " |      Return self[index].\n",
      " |\n",
      " |  __gt__(self, value, /)\n",
      " |      Return self>value.\n",
      " |\n",
      " |  __iadd__(self, value, /)\n",
      " |      Implement self+=value.\n",
      " |\n",
      " |  __imul__(self, value, /)\n",
      " |      Implement self*=value.\n",
      " |\n",
      " |  __init__(self, /, *args, **kwargs)\n",
      " |      Initialize self.  See help(type(self)) for accurate signature.\n",
      " |\n",
      " |  __iter__(self, /)\n",
      " |      Implement iter(self).\n",
      " |\n",
      " |  __le__(self, value, /)\n",
      " |      Return self<=value.\n",
      " |\n",
      " |  __len__(self, /)\n",
      " |      Return len(self).\n",
      " |\n",
      " |  __lt__(self, value, /)\n",
      " |      Return self<value.\n",
      " |\n",
      " |  __mul__(self, value, /)\n",
      " |      Return self*value.\n",
      " |\n",
      " |  __ne__(self, value, /)\n",
      " |      Return self!=value.\n",
      " |\n",
      " |  __repr__(self, /)\n",
      " |      Return repr(self).\n",
      " |\n",
      " |  __reversed__(self, /)\n",
      " |      Return a reverse iterator over the list.\n",
      " |\n",
      " |  __rmul__(self, value, /)\n",
      " |      Return value*self.\n",
      " |\n",
      " |  __setitem__(self, key, value, /)\n",
      " |      Set self[key] to value.\n",
      " |\n",
      " |  __sizeof__(self, /)\n",
      " |      Return the size of the list in memory, in bytes.\n",
      " |\n",
      " |  append(self, object, /)\n",
      " |      Append object to the end of the list.\n",
      " |\n",
      " |  clear(self, /)\n",
      " |      Remove all items from list.\n",
      " |\n",
      " |  copy(self, /)\n",
      " |      Return a shallow copy of the list.\n",
      " |\n",
      " |  count(self, value, /)\n",
      " |      Return number of occurrences of value.\n",
      " |\n",
      " |  extend(self, iterable, /)\n",
      " |      Extend list by appending elements from the iterable.\n",
      " |\n",
      " |  index(self, value, start=0, stop=9223372036854775807, /)\n",
      " |      Return first index of value.\n",
      " |\n",
      " |      Raises ValueError if the value is not present.\n",
      " |\n",
      " |  insert(self, index, object, /)\n",
      " |      Insert object before index.\n",
      " |\n",
      " |  pop(self, index=-1, /)\n",
      " |      Remove and return item at index (default last).\n",
      " |\n",
      " |      Raises IndexError if list is empty or index is out of range.\n",
      " |\n",
      " |  remove(self, value, /)\n",
      " |      Remove first occurrence of value.\n",
      " |\n",
      " |      Raises ValueError if the value is not present.\n",
      " |\n",
      " |  reverse(self, /)\n",
      " |      Reverse *IN PLACE*.\n",
      " |\n",
      " |  sort(self, /, *, key=None, reverse=False)\n",
      " |      Sort the list in ascending order and return None.\n",
      " |\n",
      " |      The sort is in-place (i.e. the list itself is modified) and stable (i.e. the\n",
      " |      order of two equal elements is maintained).\n",
      " |\n",
      " |      If a key function is given, apply it once to each list item and sort them,\n",
      " |      ascending or descending, according to their function values.\n",
      " |\n",
      " |      The reverse flag can be set to sort in descending order.\n",
      " |\n",
      " |  ----------------------------------------------------------------------\n",
      " |  Class methods defined here:\n",
      " |\n",
      " |  __class_getitem__(...)\n",
      " |      See PEP 585\n",
      " |\n",
      " |  ----------------------------------------------------------------------\n",
      " |  Static methods defined here:\n",
      " |\n",
      " |  __new__(*args, **kwargs)\n",
      " |      Create and return a new object.  See help(type) for accurate signature.\n",
      " |\n",
      " |  ----------------------------------------------------------------------\n",
      " |  Data and other attributes defined here:\n",
      " |\n",
      " |  __hash__ = None\n",
      "\n"
     ]
    }
   ],
   "source": [
    "help([1,2,3])\n"
   ]
  },
  {
   "cell_type": "code",
   "execution_count": 51,
   "id": "be1ec928",
   "metadata": {},
   "outputs": [
    {
     "name": "stdout",
     "output_type": "stream",
     "text": [
      "HI----FI\tFI\n"
     ]
    }
   ],
   "source": [
    "a = \"HI\"\n",
    "b = \"FI\"\n",
    "print(a ,b , sep=\"----\", end=\"\\t\")\n",
    "print(b)"
   ]
  },
  {
   "cell_type": "code",
   "execution_count": 167,
   "id": "9056ba7e",
   "metadata": {},
   "outputs": [
    {
     "name": "stdout",
     "output_type": "stream",
     "text": [
      "DataScienceMentorshipProgram-ByCampusX"
     ]
    }
   ],
   "source": [
    "x = \"Data\" \"Science\" \"Mentorship\" \"Program\"\n",
    "y = \"By\" \"CampusX\"\n",
    "\n",
    "print(x, y, sep=\"-\", end=\"\")"
   ]
  },
  {
   "cell_type": "code",
   "execution_count": 95,
   "id": "13da358d",
   "metadata": {},
   "outputs": [
    {
     "name": "stdout",
     "output_type": "stream",
     "text": [
      "1e+308\n"
     ]
    }
   ],
   "source": [
    "print(1e308)"
   ]
  },
  {
   "cell_type": "code",
   "execution_count": 97,
   "id": "45adb0df",
   "metadata": {},
   "outputs": [
    {
     "name": "stdout",
     "output_type": "stream",
     "text": [
      "Enter celsius value 50\n",
      "122.0\n"
     ]
    }
   ],
   "source": [
    "celcius = float(input(\"Enter celsius value \"))\n",
    "\n",
    "farenheit = celcius * (9/5) + 32\n",
    "print(farenheit)\n"
   ]
  },
  {
   "cell_type": "code",
   "execution_count": 100,
   "id": "d7aa8d5f",
   "metadata": {},
   "outputs": [
    {
     "name": "stdout",
     "output_type": "stream",
     "text": [
      "Enter first number 10\n",
      "Enter second number 20\n",
      "After swapping values are 20, 10\n"
     ]
    }
   ],
   "source": [
    "first_num = input(\"Enter first number \")\n",
    "second_num = input(\"Enter second number \")\n",
    "\n",
    "temp = first_num\n",
    "first_num = second_num\n",
    "second_num = temp\n",
    "\n",
    "print(\"After swapping values are {}, {}\".format(first_num, second_num))"
   ]
  },
  {
   "cell_type": "code",
   "execution_count": 119,
   "id": "7b0215ff",
   "metadata": {},
   "outputs": [
    {
     "name": "stdout",
     "output_type": "stream",
     "text": [
      "Enter first coordinate 1,1\n",
      "Enter second coordinate 2,2\n",
      "Euclidean Distance 1.4142135623730951\n"
     ]
    }
   ],
   "source": [
    "import math\n",
    "first = input(\"Enter first coordinate \")\n",
    "second = input(\"Enter second coordinate \")\n",
    "\n",
    "first_c_list = list(map(int, first.split(',')))\n",
    "second_c_list = list(map(int, second.split(',')))\n",
    "\n",
    "#print(first_c_list)\n",
    "#print(second_c_list)\n",
    "\n",
    "euclidean_distance =  math.sqrt((second_c_list[0] - first_c_list[0]) + (second_c_list[1] - first_c_list[1]))\n",
    "\n",
    "print(\"Euclidean Distance {}\".format(euclidean_distance))"
   ]
  },
  {
   "cell_type": "code",
   "execution_count": 122,
   "id": "1d3470cd",
   "metadata": {},
   "outputs": [
    {
     "name": "stdout",
     "output_type": "stream",
     "text": [
      " Enter priniciple100000\n",
      "enter time 2\n",
      "enter interest rate5\n",
      "Simple interest rate is  10000.0\n"
     ]
    }
   ],
   "source": [
    "p = float(input(\" Enter priniciple\"))\n",
    "t = int(input(\"enter time \"))\n",
    "r = float(input(\"enter interest rate\"))\n",
    "\n",
    "si = p*r*t / 100\n",
    "\n",
    "print(\"Simple interest rate is \", si)"
   ]
  },
  {
   "cell_type": "code",
   "execution_count": 161,
   "id": "1225a5ba",
   "metadata": {},
   "outputs": [
    {
     "name": "stdout",
     "output_type": "stream",
     "text": [
      "Enter total head 4\n",
      "Enter total legs 12\n",
      "res  2 2\n"
     ]
    }
   ],
   "source": [
    "total_head = int(input(\"Enter total head \"))\n",
    "total_legs = int(input(\"Enter total legs \"))\n",
    "\n",
    "dogs = (total_legs - 2 * total_head) // 2\n",
    "chiken = total_head - dogs\n",
    "\n",
    "print('res ', dogs, chiken)\n",
    "#no_of_dogs =  total_legs % total_head\n",
    "\n",
    "#no_of_chicken = total_head - no_of_dogs\n",
    "#print(\" Dogs are {} and chickens are {}\".format(no_of_dogs, no_of_chicken))"
   ]
  },
  {
   "cell_type": "code",
   "execution_count": 131,
   "id": "c5679db6",
   "metadata": {},
   "outputs": [
    {
     "name": "stdout",
     "output_type": "stream",
     "text": [
      "Enter the value of n 5\n",
      "55\n"
     ]
    }
   ],
   "source": [
    "n = int(input(\"Enter the value of n \"))\n",
    "sum = 0\n",
    "for x in range(1, n+1):\n",
    "    sum += x**2\n",
    "\n",
    "print(sum)"
   ]
  },
  {
   "cell_type": "code",
   "execution_count": 139,
   "id": "44080117",
   "metadata": {},
   "outputs": [
    {
     "name": "stdout",
     "output_type": "stream",
     "text": [
      "Enter first num 2\n",
      "Enter second num 4\n",
      "Enter result term 9\n",
      "18\n"
     ]
    }
   ],
   "source": [
    "st = int(input(\"Enter first num \"))\n",
    "sn = int(input(\"Enter second num \"))\n",
    "rt = int(input(\"Enter result term \"))\n",
    "res = st +(rt-1)*(sn - st)\n",
    "\n",
    "print(res)"
   ]
  },
  {
   "cell_type": "code",
   "execution_count": 145,
   "id": "c67c3dd7",
   "metadata": {},
   "outputs": [
    {
     "name": "stdout",
     "output_type": "stream",
     "text": [
      "Enter first numerator1\n",
      "Enter first denominator2\n",
      "Enter second numerator1\n",
      "Enter second denominator3\n",
      "0.8333333333333334\n",
      " result is 5 / 6\n"
     ]
    }
   ],
   "source": [
    "fn = int(input(\"Enter first numerator\"))\n",
    "fd = int(input(\"Enter first denominator\"))\n",
    "sn = int(input(\"Enter second numerator\"))\n",
    "sd = int(input(\"Enter second denominator\"))\n",
    "\n",
    "res = (fn * sd + fd * sn) /  (fd * sd) \n",
    "print(res)\n",
    "print(\" result is {} / {}\".format( (fn * sd + fd * sn), (fd * sd) ))"
   ]
  },
  {
   "cell_type": "code",
   "execution_count": null,
   "id": "4c8508b8",
   "metadata": {},
   "outputs": [],
   "source": [
    "th = int(input(\"Enter height of tank\"))\n",
    "tw = int(input(\"Enter width of tank\"))\n",
    "tb = int(input(\"Enter breadth of tank \"))\n",
    "\n",
    "\n",
    "gh = int(input(\"Enter height of glass\"))\n",
    "gr = int(input(\"Enter radius of glass\"))\n",
    "\n",
    "\n",
    "\n",
    "tv = th * tw * tb\n",
    "gv = 3.14 * gr**2 * gh\n",
    "\n",
    "print(\"Result is \", tv // gv)\n"
   ]
  },
  {
   "cell_type": "code",
   "execution_count": 180,
   "id": "ce945fa5",
   "metadata": {},
   "outputs": [
    {
     "name": "stdout",
     "output_type": "stream",
     "text": [
      "Enter angle 1st 60\n",
      "Enter angle 2nd70\n",
      "Enter angle 3rd30\n",
      "Triangle\n"
     ]
    }
   ],
   "source": [
    "a1 = int(input(\"Enter angle 1st \"))\n",
    "a2 = int(input(\"Enter angle 2nd\"))\n",
    "a3 = int(input(\"Enter angle 3rd\"))\n",
    "\n",
    "if (a1+a2) > a3:\n",
    "    print('Triangle')\n",
    "else:\n",
    "    print('Not triangle')"
   ]
  },
  {
   "cell_type": "code",
   "execution_count": 184,
   "id": "d36e04ef",
   "metadata": {},
   "outputs": [
    {
     "ename": "KeyboardInterrupt",
     "evalue": "Interrupted by user",
     "output_type": "error",
     "traceback": [
      "\u001b[0;31m---------------------------------------------------------------------------\u001b[0m",
      "\u001b[0;31mKeyboardInterrupt\u001b[0m                         Traceback (most recent call last)",
      "Cell \u001b[0;32mIn[184], line 1\u001b[0m\n\u001b[0;32m----> 1\u001b[0m cp \u001b[38;5;241m=\u001b[39m \u001b[38;5;28mfloat\u001b[39m(\u001b[38;5;28;43minput\u001b[39;49m\u001b[43m(\u001b[49m\u001b[38;5;124;43m\"\u001b[39;49m\u001b[38;5;124;43mEnter cost price \u001b[39;49m\u001b[38;5;124;43m\"\u001b[39;49m\u001b[43m)\u001b[49m)\n\u001b[1;32m      2\u001b[0m sp \u001b[38;5;241m=\u001b[39m \u001b[38;5;28mfloat\u001b[39m(\u001b[38;5;28minput\u001b[39m(\u001b[38;5;124m\"\u001b[39m\u001b[38;5;124mEnter selling price\u001b[39m\u001b[38;5;124m\"\u001b[39m))\n\u001b[1;32m      4\u001b[0m \u001b[38;5;28;01mif\u001b[39;00m sp \u001b[38;5;241m>\u001b[39m cp:\n",
      "File \u001b[0;32m/usr/lib/python3/dist-packages/ipykernel/kernelbase.py:1282\u001b[0m, in \u001b[0;36mKernel.raw_input\u001b[0;34m(self, prompt)\u001b[0m\n\u001b[1;32m   1280\u001b[0m     msg \u001b[38;5;241m=\u001b[39m \u001b[38;5;124m\"\u001b[39m\u001b[38;5;124mraw_input was called, but this frontend does not support input requests.\u001b[39m\u001b[38;5;124m\"\u001b[39m\n\u001b[1;32m   1281\u001b[0m     \u001b[38;5;28;01mraise\u001b[39;00m StdinNotImplementedError(msg)\n\u001b[0;32m-> 1282\u001b[0m \u001b[38;5;28;01mreturn\u001b[39;00m \u001b[38;5;28;43mself\u001b[39;49m\u001b[38;5;241;43m.\u001b[39;49m\u001b[43m_input_request\u001b[49m\u001b[43m(\u001b[49m\n\u001b[1;32m   1283\u001b[0m \u001b[43m    \u001b[49m\u001b[38;5;28;43mstr\u001b[39;49m\u001b[43m(\u001b[49m\u001b[43mprompt\u001b[49m\u001b[43m)\u001b[49m\u001b[43m,\u001b[49m\n\u001b[1;32m   1284\u001b[0m \u001b[43m    \u001b[49m\u001b[38;5;28;43mself\u001b[39;49m\u001b[38;5;241;43m.\u001b[39;49m\u001b[43m_parent_ident\u001b[49m\u001b[43m[\u001b[49m\u001b[38;5;124;43m\"\u001b[39;49m\u001b[38;5;124;43mshell\u001b[39;49m\u001b[38;5;124;43m\"\u001b[39;49m\u001b[43m]\u001b[49m\u001b[43m,\u001b[49m\n\u001b[1;32m   1285\u001b[0m \u001b[43m    \u001b[49m\u001b[38;5;28;43mself\u001b[39;49m\u001b[38;5;241;43m.\u001b[39;49m\u001b[43mget_parent\u001b[49m\u001b[43m(\u001b[49m\u001b[38;5;124;43m\"\u001b[39;49m\u001b[38;5;124;43mshell\u001b[39;49m\u001b[38;5;124;43m\"\u001b[39;49m\u001b[43m)\u001b[49m\u001b[43m,\u001b[49m\n\u001b[1;32m   1286\u001b[0m \u001b[43m    \u001b[49m\u001b[43mpassword\u001b[49m\u001b[38;5;241;43m=\u001b[39;49m\u001b[38;5;28;43;01mFalse\u001b[39;49;00m\u001b[43m,\u001b[49m\n\u001b[1;32m   1287\u001b[0m \u001b[43m\u001b[49m\u001b[43m)\u001b[49m\n",
      "File \u001b[0;32m/usr/lib/python3/dist-packages/ipykernel/kernelbase.py:1325\u001b[0m, in \u001b[0;36mKernel._input_request\u001b[0;34m(self, prompt, ident, parent, password)\u001b[0m\n\u001b[1;32m   1322\u001b[0m \u001b[38;5;28;01mexcept\u001b[39;00m \u001b[38;5;167;01mKeyboardInterrupt\u001b[39;00m:\n\u001b[1;32m   1323\u001b[0m     \u001b[38;5;66;03m# re-raise KeyboardInterrupt, to truncate traceback\u001b[39;00m\n\u001b[1;32m   1324\u001b[0m     msg \u001b[38;5;241m=\u001b[39m \u001b[38;5;124m\"\u001b[39m\u001b[38;5;124mInterrupted by user\u001b[39m\u001b[38;5;124m\"\u001b[39m\n\u001b[0;32m-> 1325\u001b[0m     \u001b[38;5;28;01mraise\u001b[39;00m \u001b[38;5;167;01mKeyboardInterrupt\u001b[39;00m(msg) \u001b[38;5;28;01mfrom\u001b[39;00m \u001b[38;5;28;01mNone\u001b[39;00m\n\u001b[1;32m   1326\u001b[0m \u001b[38;5;28;01mexcept\u001b[39;00m \u001b[38;5;167;01mException\u001b[39;00m:\n\u001b[1;32m   1327\u001b[0m     \u001b[38;5;28mself\u001b[39m\u001b[38;5;241m.\u001b[39mlog\u001b[38;5;241m.\u001b[39mwarning(\u001b[38;5;124m\"\u001b[39m\u001b[38;5;124mInvalid Message:\u001b[39m\u001b[38;5;124m\"\u001b[39m, exc_info\u001b[38;5;241m=\u001b[39m\u001b[38;5;28;01mTrue\u001b[39;00m)\n",
      "\u001b[0;31mKeyboardInterrupt\u001b[0m: Interrupted by user"
     ]
    }
   ],
   "source": [
    "cp = float(input(\"Enter cost price \"))\n",
    "sp = float(input(\"Enter selling price\"))\n",
    "\n",
    "if sp > cp:\n",
    "    print(\"Profit\")\n",
    "else :\n",
    "    print(\"Loss\")"
   ]
  },
  {
   "cell_type": "code",
   "execution_count": 3,
   "id": "ed9521f9",
   "metadata": {},
   "outputs": [
    {
     "name": "stdout",
     "output_type": "stream",
     "text": [
      "\n",
      "        1. cm to ft\n",
      "        2. km to miles\n",
      "        3. USD to INR\n",
      "        4. exit\n",
      "    1\n",
      "Enter value in Centimeter5\n",
      "CM to Feet 0.164\n",
      "\n",
      "        1. cm to ft\n",
      "        2. km to miles\n",
      "        3. USD to INR\n",
      "        4. exit\n",
      "    5\n",
      "\n",
      "        1. cm to ft\n",
      "        2. km to miles\n",
      "        3. USD to INR\n",
      "        4. exit\n",
      "    3\n",
      "Enter value in usd to inr48\n",
      "USD to INR 4176.0\n",
      "\n",
      "        1. cm to ft\n",
      "        2. km to miles\n",
      "        3. USD to INR\n",
      "        4. exit\n",
      "    4\n"
     ]
    }
   ],
   "source": [
    "import sys\n",
    "while True:\n",
    "    input_val = input(\"\"\"\n",
    "        1. cm to ft\n",
    "        2. km to miles\n",
    "        3. USD to INR\n",
    "        4. exit\n",
    "    \"\"\")\n",
    "    \n",
    "    if input_val == \"1\":\n",
    "        cm = float(input(\"Enter value in Centimeter\"))\n",
    "        print(\"CM to Feet {}\".format(cm*0.0328))\n",
    "    elif input_val == \"2\":\n",
    "\n",
    "        km = float(input(\"Enter value in km to miles\"))\n",
    "        print(\"KM to Miles {}\".format(km*0.621371))\n",
    "    elif input_val == \"3\":\n",
    "        usd = float(input(\"Enter value in usd to inr\"))\n",
    "        print(\"USD to INR {}\".format(usd * 87))\n",
    "    elif input_val == \"4\":\n",
    "        break\n",
    "        \n",
    "    \n",
    "    "
   ]
  },
  {
   "cell_type": "code",
   "execution_count": 25,
   "id": "3ad017ab",
   "metadata": {
    "scrolled": true
   },
   "outputs": [
    {
     "name": "stdout",
     "output_type": "stream",
     "text": [
      "Enter maximum length10\n",
      "0 1 1 2 3 5 8 13 21 34\n"
     ]
    }
   ],
   "source": [
    "n = int(input(\"Enter maximum length\"))\n",
    "l = []\n",
    "for x in range(n):\n",
    "    \n",
    "    if x == 0 or x == 1:\n",
    "        l.append(x)       \n",
    "    else:\n",
    "        res = l[-1] + l[-2]\n",
    "        l.append(res)\n",
    "        \n",
    "\n",
    "print( \" \".join( list(map(str, l)) ))\n",
    "        \n",
    "        \n",
    "        \n",
    "    "
   ]
  },
  {
   "cell_type": "code",
   "execution_count": 29,
   "id": "f9459463",
   "metadata": {},
   "outputs": [
    {
     "name": "stdout",
     "output_type": "stream",
     "text": [
      "Enter number5\n",
      "Total  120\n"
     ]
    }
   ],
   "source": [
    "n = int(input(\"Enter number\"))\n",
    "total = 1\n",
    "for x in range(1,n+1):\n",
    "    total *= x\n",
    "    \n",
    "print(\"Total \",total)\n",
    "        \n",
    "        \n",
    "        \n",
    "    "
   ]
  },
  {
   "cell_type": "code",
   "execution_count": 32,
   "id": "ed74ac05",
   "metadata": {},
   "outputs": [
    {
     "name": "stdout",
     "output_type": "stream",
     "text": [
      "Rev  2025648\n"
     ]
    }
   ],
   "source": [
    "a = 8465202\n",
    "\n",
    "rev = 0\n",
    "while a > 0:\n",
    "    remainer = a % 10\n",
    "    rev = rev*10 + remainer\n",
    "    a = a // 10\n",
    "\n",
    "print(\"Rev \", rev)"
   ]
  },
  {
   "cell_type": "code",
   "execution_count": 45,
   "id": "f05e5f3a",
   "metadata": {},
   "outputs": [
    {
     "ename": "KeyboardInterrupt",
     "evalue": "Interrupted by user",
     "output_type": "error",
     "traceback": [
      "\u001b[0;31m---------------------------------------------------------------------------\u001b[0m",
      "\u001b[0;31mKeyboardInterrupt\u001b[0m                         Traceback (most recent call last)",
      "Cell \u001b[0;32mIn[45], line 1\u001b[0m\n\u001b[0;32m----> 1\u001b[0m n \u001b[38;5;241m=\u001b[39m \u001b[38;5;28mint\u001b[39m(\u001b[38;5;28;43minput\u001b[39;49m\u001b[43m(\u001b[49m\u001b[38;5;124;43m\"\u001b[39;49m\u001b[38;5;124;43mEnter n \u001b[39;49m\u001b[38;5;124;43m\"\u001b[39;49m\u001b[43m)\u001b[49m)\n\u001b[1;32m      2\u001b[0m total \u001b[38;5;241m=\u001b[39m \u001b[38;5;241m1\u001b[39m\n\u001b[1;32m      3\u001b[0m \u001b[38;5;28;01mfor\u001b[39;00m x \u001b[38;5;129;01min\u001b[39;00m \u001b[38;5;28mrange\u001b[39m(\u001b[38;5;241m1\u001b[39m,n\u001b[38;5;241m+\u001b[39m\u001b[38;5;241m1\u001b[39m):\n",
      "File \u001b[0;32m/usr/lib/python3/dist-packages/ipykernel/kernelbase.py:1282\u001b[0m, in \u001b[0;36mKernel.raw_input\u001b[0;34m(self, prompt)\u001b[0m\n\u001b[1;32m   1280\u001b[0m     msg \u001b[38;5;241m=\u001b[39m \u001b[38;5;124m\"\u001b[39m\u001b[38;5;124mraw_input was called, but this frontend does not support input requests.\u001b[39m\u001b[38;5;124m\"\u001b[39m\n\u001b[1;32m   1281\u001b[0m     \u001b[38;5;28;01mraise\u001b[39;00m StdinNotImplementedError(msg)\n\u001b[0;32m-> 1282\u001b[0m \u001b[38;5;28;01mreturn\u001b[39;00m \u001b[38;5;28;43mself\u001b[39;49m\u001b[38;5;241;43m.\u001b[39;49m\u001b[43m_input_request\u001b[49m\u001b[43m(\u001b[49m\n\u001b[1;32m   1283\u001b[0m \u001b[43m    \u001b[49m\u001b[38;5;28;43mstr\u001b[39;49m\u001b[43m(\u001b[49m\u001b[43mprompt\u001b[49m\u001b[43m)\u001b[49m\u001b[43m,\u001b[49m\n\u001b[1;32m   1284\u001b[0m \u001b[43m    \u001b[49m\u001b[38;5;28;43mself\u001b[39;49m\u001b[38;5;241;43m.\u001b[39;49m\u001b[43m_parent_ident\u001b[49m\u001b[43m[\u001b[49m\u001b[38;5;124;43m\"\u001b[39;49m\u001b[38;5;124;43mshell\u001b[39;49m\u001b[38;5;124;43m\"\u001b[39;49m\u001b[43m]\u001b[49m\u001b[43m,\u001b[49m\n\u001b[1;32m   1285\u001b[0m \u001b[43m    \u001b[49m\u001b[38;5;28;43mself\u001b[39;49m\u001b[38;5;241;43m.\u001b[39;49m\u001b[43mget_parent\u001b[49m\u001b[43m(\u001b[49m\u001b[38;5;124;43m\"\u001b[39;49m\u001b[38;5;124;43mshell\u001b[39;49m\u001b[38;5;124;43m\"\u001b[39;49m\u001b[43m)\u001b[49m\u001b[43m,\u001b[49m\n\u001b[1;32m   1286\u001b[0m \u001b[43m    \u001b[49m\u001b[43mpassword\u001b[49m\u001b[38;5;241;43m=\u001b[39;49m\u001b[38;5;28;43;01mFalse\u001b[39;49;00m\u001b[43m,\u001b[49m\n\u001b[1;32m   1287\u001b[0m \u001b[43m\u001b[49m\u001b[43m)\u001b[49m\n",
      "File \u001b[0;32m/usr/lib/python3/dist-packages/ipykernel/kernelbase.py:1325\u001b[0m, in \u001b[0;36mKernel._input_request\u001b[0;34m(self, prompt, ident, parent, password)\u001b[0m\n\u001b[1;32m   1322\u001b[0m \u001b[38;5;28;01mexcept\u001b[39;00m \u001b[38;5;167;01mKeyboardInterrupt\u001b[39;00m:\n\u001b[1;32m   1323\u001b[0m     \u001b[38;5;66;03m# re-raise KeyboardInterrupt, to truncate traceback\u001b[39;00m\n\u001b[1;32m   1324\u001b[0m     msg \u001b[38;5;241m=\u001b[39m \u001b[38;5;124m\"\u001b[39m\u001b[38;5;124mInterrupted by user\u001b[39m\u001b[38;5;124m\"\u001b[39m\n\u001b[0;32m-> 1325\u001b[0m     \u001b[38;5;28;01mraise\u001b[39;00m \u001b[38;5;167;01mKeyboardInterrupt\u001b[39;00m(msg) \u001b[38;5;28;01mfrom\u001b[39;00m \u001b[38;5;28;01mNone\u001b[39;00m\n\u001b[1;32m   1326\u001b[0m \u001b[38;5;28;01mexcept\u001b[39;00m \u001b[38;5;167;01mException\u001b[39;00m:\n\u001b[1;32m   1327\u001b[0m     \u001b[38;5;28mself\u001b[39m\u001b[38;5;241m.\u001b[39mlog\u001b[38;5;241m.\u001b[39mwarning(\u001b[38;5;124m\"\u001b[39m\u001b[38;5;124mInvalid Message:\u001b[39m\u001b[38;5;124m\"\u001b[39m, exc_info\u001b[38;5;241m=\u001b[39m\u001b[38;5;28;01mTrue\u001b[39;00m)\n",
      "\u001b[0;31mKeyboardInterrupt\u001b[0m: Interrupted by user"
     ]
    }
   ],
   "source": [
    "n = int(input(\"Enter n \"))\n",
    "total = 1\n",
    "for x in range(1,n+1):\n",
    "    if x % 5 == 0:\n",
    "        continue\n",
    "    else :\n",
    "        total = total + x\n",
    "        \n",
    "    if total > 300:\n",
    "        total = total - x\n",
    "        break\n",
    "    \n",
    "print(\"Total \",total)"
   ]
  },
  {
   "cell_type": "code",
   "execution_count": 47,
   "id": "b9c2244f",
   "metadata": {},
   "outputs": [
    {
     "name": "stdout",
     "output_type": "stream",
     "text": [
      "\n",
      "        Enter any number \n",
      "        Press 0 for exit \n",
      "    1\n",
      "\n",
      "        Enter any number \n",
      "        Press 0 for exit \n",
      "    2\n",
      "\n",
      "        Enter any number \n",
      "        Press 0 for exit \n",
      "    3\n",
      "\n",
      "        Enter any number \n",
      "        Press 0 for exit \n",
      "    4\n",
      "\n",
      "        Enter any number \n",
      "        Press 0 for exit \n",
      "    5\n",
      "\n",
      "        Enter any number \n",
      "        Press 0 for exit \n",
      "    0\n",
      "Sum and Avg is 15.0 / 3.0\n"
     ]
    }
   ],
   "source": [
    "sum = 0\n",
    "count = 0\n",
    "while True:\n",
    "    input_val = input(\"\"\"\n",
    "        Enter any number \n",
    "        Press 0 for exit \n",
    "    \"\"\")\n",
    "    \n",
    "    if input_val == \"0\":\n",
    "       break\n",
    "    else:\n",
    "        sum += float(input_val)\n",
    "        count += 1\n",
    "    \n",
    "print(\"Sum and Avg is {} / {}\".format(sum, sum / count))\n",
    "        \n",
    "    \n",
    "    "
   ]
  },
  {
   "cell_type": "code",
   "execution_count": 52,
   "id": "d26a4468",
   "metadata": {},
   "outputs": [
    {
     "name": "stdout",
     "output_type": "stream",
     "text": [
      "2002\n",
      "2009\n",
      "2016\n",
      "2023\n",
      "2037\n",
      "2044\n",
      "2051\n",
      "2058\n",
      "2072\n",
      "2079\n",
      "2086\n",
      "2093\n",
      "2107\n",
      "2114\n",
      "2121\n",
      "2128\n",
      "2142\n",
      "2149\n",
      "2156\n",
      "2163\n",
      "2177\n",
      "2184\n",
      "2191\n",
      "2198\n",
      "2212\n",
      "2219\n",
      "2226\n",
      "2233\n",
      "2247\n",
      "2254\n",
      "2261\n",
      "2268\n",
      "2282\n",
      "2289\n",
      "2296\n",
      "2303\n",
      "2317\n",
      "2324\n",
      "2331\n",
      "2338\n",
      "2352\n",
      "2359\n",
      "2366\n",
      "2373\n",
      "2387\n",
      "2394\n",
      "2401\n",
      "2408\n",
      "2422\n",
      "2429\n",
      "2436\n",
      "2443\n",
      "2457\n",
      "2464\n",
      "2471\n",
      "2478\n",
      "2492\n",
      "2499\n",
      "2506\n",
      "2513\n",
      "2527\n",
      "2534\n",
      "2541\n",
      "2548\n",
      "2562\n",
      "2569\n",
      "2576\n",
      "2583\n",
      "2597\n",
      "2604\n",
      "2611\n",
      "2618\n",
      "2632\n",
      "2639\n",
      "2646\n",
      "2653\n",
      "2667\n",
      "2674\n",
      "2681\n",
      "2688\n",
      "2702\n",
      "2709\n",
      "2716\n",
      "2723\n",
      "2737\n",
      "2744\n",
      "2751\n",
      "2758\n",
      "2772\n",
      "2779\n",
      "2786\n",
      "2793\n",
      "2807\n",
      "2814\n",
      "2821\n",
      "2828\n",
      "2842\n",
      "2849\n",
      "2856\n",
      "2863\n",
      "2877\n",
      "2884\n",
      "2891\n",
      "2898\n",
      "2912\n",
      "2919\n",
      "2926\n",
      "2933\n",
      "2947\n",
      "2954\n",
      "2961\n",
      "2968\n",
      "2982\n",
      "2989\n",
      "2996\n",
      "3003\n",
      "3017\n",
      "3024\n",
      "3031\n",
      "3038\n",
      "3052\n",
      "3059\n",
      "3066\n",
      "3073\n",
      "3087\n",
      "3094\n",
      "3101\n",
      "3108\n",
      "3122\n",
      "3129\n",
      "3136\n",
      "3143\n",
      "3157\n",
      "3164\n",
      "3171\n",
      "3178\n",
      "3192\n",
      "3199\n"
     ]
    }
   ],
   "source": [
    "for x in range(2000,3201):\n",
    "    if x % 5 != 0  and x % 7 == 0:\n",
    "        print(x)"
   ]
  },
  {
   "cell_type": "code",
   "execution_count": 57,
   "id": "287f022c",
   "metadata": {},
   "outputs": [
    {
     "name": "stdout",
     "output_type": "stream",
     "text": [
      "1000 1002 1004 1006 1008 1010 1012 1014 1016 1018 1020 1022 1024 1026 1028 1030 1032 1034 1036 1038 1040 1042 1044 1046 1048 1050 1052 1054 1056 1058 1060 1062 1064 1066 1068 1070 1072 1074 1076 1078 1080 1082 1084 1086 1088 1090 1092 1094 1096 1098 1100 1102 1104 1106 1108 1110 1112 1114 1116 1118 1120 1122 1124 1126 1128 1130 1132 1134 1136 1138 1140 1142 1144 1146 1148 1150 1152 1154 1156 1158 1160 1162 1164 1166 1168 1170 1172 1174 1176 1178 1180 1182 1184 1186 1188 1190 1192 1194 1196 1198 1200 1202 1204 1206 1208 1210 1212 1214 1216 1218 1220 1222 1224 1226 1228 1230 1232 1234 1236 1238 1240 1242 1244 1246 1248 1250 1252 1254 1256 1258 1260 1262 1264 1266 1268 1270 1272 1274 1276 1278 1280 1282 1284 1286 1288 1290 1292 1294 1296 1298 1300 1302 1304 1306 1308 1310 1312 1314 1316 1318 1320 1322 1324 1326 1328 1330 1332 1334 1336 1338 1340 1342 1344 1346 1348 1350 1352 1354 1356 1358 1360 1362 1364 1366 1368 1370 1372 1374 1376 1378 1380 1382 1384 1386 1388 1390 1392 1394 1396 1398 1400 1402 1404 1406 1408 1410 1412 1414 1416 1418 1420 1422 1424 1426 1428 1430 1432 1434 1436 1438 1440 1442 1444 1446 1448 1450 1452 1454 1456 1458 1460 1462 1464 1466 1468 1470 1472 1474 1476 1478 1480 1482 1484 1486 1488 1490 1492 1494 1496 1498 1500 1502 1504 1506 1508 1510 1512 1514 1516 1518 1520 1522 1524 1526 1528 1530 1532 1534 1536 1538 1540 1542 1544 1546 1548 1550 1552 1554 1556 1558 1560 1562 1564 1566 1568 1570 1572 1574 1576 1578 1580 1582 1584 1586 1588 1590 1592 1594 1596 1598 1600 1602 1604 1606 1608 1610 1612 1614 1616 1618 1620 1622 1624 1626 1628 1630 1632 1634 1636 1638 1640 1642 1644 1646 1648 1650 1652 1654 1656 1658 1660 1662 1664 1666 1668 1670 1672 1674 1676 1678 1680 1682 1684 1686 1688 1690 1692 1694 1696 1698 1700 1702 1704 1706 1708 1710 1712 1714 1716 1718 1720 1722 1724 1726 1728 1730 1732 1734 1736 1738 1740 1742 1744 1746 1748 1750 1752 1754 1756 1758 1760 1762 1764 1766 1768 1770 1772 1774 1776 1778 1780 1782 1784 1786 1788 1790 1792 1794 1796 1798 1800 1802 1804 1806 1808 1810 1812 1814 1816 1818 1820 1822 1824 1826 1828 1830 1832 1834 1836 1838 1840 1842 1844 1846 1848 1850 1852 1854 1856 1858 1860 1862 1864 1866 1868 1870 1872 1874 1876 1878 1880 1882 1884 1886 1888 1890 1892 1894 1896 1898 1900 1902 1904 1906 1908 1910 1912 1914 1916 1918 1920 1922 1924 1926 1928 1930 1932 1934 1936 1938 1940 1942 1944 1946 1948 1950 1952 1954 1956 1958 1960 1962 1964 1966 1968 1970 1972 1974 1976 1978 1980 1982 1984 1986 1988 1990 1992 1994 1996 1998 2000 2002 2004 2006 2008 2010 2012 2014 2016 2018 2020 2022 2024 2026 2028 2030 2032 2034 2036 2038 2040 2042 2044 2046 2048 2050 2052 2054 2056 2058 2060 2062 2064 2066 2068 2070 2072 2074 2076 2078 2080 2082 2084 2086 2088 2090 2092 2094 2096 2098 2100 2102 2104 2106 2108 2110 2112 2114 2116 2118 2120 2122 2124 2126 2128 2130 2132 2134 2136 2138 2140 2142 2144 2146 2148 2150 2152 2154 2156 2158 2160 2162 2164 2166 2168 2170 2172 2174 2176 2178 2180 2182 2184 2186 2188 2190 2192 2194 2196 2198 2200 2202 2204 2206 2208 2210 2212 2214 2216 2218 2220 2222 2224 2226 2228 2230 2232 2234 2236 2238 2240 2242 2244 2246 2248 2250 2252 2254 2256 2258 2260 2262 2264 2266 2268 2270 2272 2274 2276 2278 2280 2282 2284 2286 2288 2290 2292 2294 2296 2298 2300 2302 2304 2306 2308 2310 2312 2314 2316 2318 2320 2322 2324 2326 2328 2330 2332 2334 2336 2338 2340 2342 2344 2346 2348 2350 2352 2354 2356 2358 2360 2362 2364 2366 2368 2370 2372 2374 2376 2378 2380 2382 2384 2386 2388 2390 2392 2394 2396 2398 2400 2402 2404 2406 2408 2410 2412 2414 2416 2418 2420 2422 2424 2426 2428 2430 2432 2434 2436 2438 2440 2442 2444 2446 2448 2450 2452 2454 2456 2458 2460 2462 2464 2466 2468 2470 2472 2474 2476 2478 2480 2482 2484 2486 2488 2490 2492 2494 2496 2498 2500 2502 2504 2506 2508 2510 2512 2514 2516 2518 2520 2522 2524 2526 2528 2530 2532 2534 2536 2538 2540 2542 2544 2546 2548 2550 2552 2554 2556 2558 2560 2562 2564 2566 2568 2570 2572 2574 2576 2578 2580 2582 2584 2586 2588 2590 2592 2594 2596 2598 2600 2602 2604 2606 2608 2610 2612 2614 2616 2618 2620 2622 2624 2626 2628 2630 2632 2634 2636 2638 2640 2642 2644 2646 2648 2650 2652 2654 2656 2658 2660 2662 2664 2666 2668 2670 2672 2674 2676 2678 2680 2682 2684 2686 2688 2690 2692 2694 2696 2698 2700 2702 2704 2706 2708 2710 2712 2714 2716 2718 2720 2722 2724 2726 2728 2730 2732 2734 2736 2738 2740 2742 2744 2746 2748 2750 2752 2754 2756 2758 2760 2762 2764 2766 2768 2770 2772 2774 2776 2778 2780 2782 2784 2786 2788 2790 2792 2794 2796 2798 2800 2802 2804 2806 2808 2810 2812 2814 2816 2818 2820 2822 2824 2826 2828 2830 2832 2834 2836 2838 2840 2842 2844 2846 2848 2850 2852 2854 2856 2858 2860 2862 2864 2866 2868 2870 2872 2874 2876 2878 2880 2882 2884 2886 2888 2890 2892 2894 2896 2898 2900 2902 2904 2906 2908 2910 2912 2914 2916 2918 2920 2922 2924 2926 2928 2930 2932 2934 2936 2938 2940 2942 2944 2946 2948 2950 2952 2954 2956 2958 2960 2962 2964 2966 2968 2970 2972 2974 2976 2978 2980 2982 2984 2986 2988 2990 2992 2994 2996 2998 3000\n"
     ]
    }
   ],
   "source": [
    "l = []\n",
    "for x in range(1000,3001):\n",
    "    if x % 2 == 0 :\n",
    "        l.append(x)\n",
    "\n",
    "print(\" \".join(  list(map(str, l))  ))"
   ]
  },
  {
   "cell_type": "code",
   "execution_count": 59,
   "id": "cdeb5010",
   "metadata": {},
   "outputs": [
    {
     "name": "stdout",
     "output_type": "stream",
     "text": [
      "\n",
      "        Enter UP, DOWN, LEFT, RIGHT\n",
      "    UP\n",
      "\n",
      "        Enter UP, DOWN, LEFT, RIGHT\n",
      "    UP\n",
      "\n",
      "        Enter UP, DOWN, LEFT, RIGHT\n",
      "    RIGHT\n",
      "\n",
      "        Enter UP, DOWN, LEFT, RIGHT\n",
      "    RIGHT\n",
      "\n",
      "        Enter UP, DOWN, LEFT, RIGHT\n",
      "    !\n",
      "Distance is  2.8284271247461903\n"
     ]
    }
   ],
   "source": [
    "initial_point = [0,0]\n",
    "while True:\n",
    "    input_val = input(\"\"\"\n",
    "        Enter UP, DOWN, LEFT, RIGHT\n",
    "    \"\"\")\n",
    "    \n",
    "    if input_val == \"UP\":\n",
    "        initial_point[1] += 1\n",
    "    elif input_val == \"DOWN\":\n",
    "        initial_point[1] -= 1\n",
    "    elif input_val == \"LEFT\":\n",
    "        initial_point[0] -= 1\n",
    "    elif input_val == \"RIGHT\":\n",
    "        initial_point[0] += 1\n",
    "    elif input_val == \"!\":\n",
    "        break\n",
    "        \n",
    "distance =  (initial_point[0] **2 + initial_point[1]**2) ** 0.5\n",
    "\n",
    "print(\"Distance is \", distance)\n",
    "        \n",
    "    "
   ]
  },
  {
   "cell_type": "code",
   "execution_count": 79,
   "id": "2a2cba7d",
   "metadata": {},
   "outputs": [
    {
     "name": "stdout",
     "output_type": "stream",
     "text": [
      "Prime\n"
     ]
    }
   ],
   "source": [
    "a = 13\n",
    "flag = False\n",
    "for x in range(2, a//2+1):\n",
    "    if a % x == 0:\n",
    "        flag = True\n",
    "        break\n",
    "if not flag:\n",
    "    print(\"Prime\")\n",
    "else:\n",
    "    print(\"Not Prime\")\n",
    "        "
   ]
  },
  {
   "cell_type": "code",
   "execution_count": 94,
   "id": "d31fdab7",
   "metadata": {
    "scrolled": true
   },
   "outputs": [
    {
     "name": "stdout",
     "output_type": "stream",
     "text": [
      "354\n"
     ]
    }
   ],
   "source": [
    "n = 1234\n",
    "power = len(str(n))\n",
    "l = []\n",
    "res = 0\n",
    "while n > 0:\n",
    "    res += (n % 10) ** power \n",
    "    n = n // 10\n",
    "    \n",
    "\n",
    "print( res )\n"
   ]
  },
  {
   "cell_type": "code",
   "execution_count": 113,
   "id": "0bb9e5f0",
   "metadata": {
    "scrolled": true
   },
   "outputs": [
    {
     "name": "stdout",
     "output_type": "stream",
     "text": [
      "enter hour 9\n",
      "enter minute 30\n",
      "Degree is  105.0\n"
     ]
    }
   ],
   "source": [
    "hour = int(input(\"enter hour \"))\n",
    "minute = int(input(\"enter minute \"))\n",
    "\n",
    "degree = 30 * hour - 5.5 * minute \n",
    "\n",
    "print(\"Degree is \", degree)"
   ]
  },
  {
   "cell_type": "code",
   "execution_count": 114,
   "id": "28d0a6a3",
   "metadata": {},
   "outputs": [
    {
     "ename": "KeyboardInterrupt",
     "evalue": "Interrupted by user",
     "output_type": "error",
     "traceback": [
      "\u001b[0;31m---------------------------------------------------------------------------\u001b[0m",
      "\u001b[0;31mKeyboardInterrupt\u001b[0m                         Traceback (most recent call last)",
      "Cell \u001b[0;32mIn[114], line 1\u001b[0m\n\u001b[0;32m----> 1\u001b[0m l1 \u001b[38;5;241m=\u001b[39m \u001b[38;5;28mlist\u001b[39m(\u001b[38;5;28mmap\u001b[39m(\u001b[38;5;28mint\u001b[39m, \u001b[38;5;28;43minput\u001b[39;49m\u001b[43m(\u001b[49m\u001b[38;5;124;43m\"\u001b[39;49m\u001b[38;5;124;43mEnter L1 \u001b[39;49m\u001b[38;5;124;43m\"\u001b[39;49m\u001b[43m)\u001b[49m\u001b[38;5;241m.\u001b[39msplit(\u001b[38;5;124m\"\u001b[39m\u001b[38;5;124m,\u001b[39m\u001b[38;5;124m\"\u001b[39m)))\n\u001b[1;32m      2\u001b[0m r1 \u001b[38;5;241m=\u001b[39m \u001b[38;5;28mlist\u001b[39m(\u001b[38;5;28mmap\u001b[39m(\u001b[38;5;28mint\u001b[39m,\u001b[38;5;28minput\u001b[39m(\u001b[38;5;124m\"\u001b[39m\u001b[38;5;124mEnter R1 \u001b[39m\u001b[38;5;124m\"\u001b[39m)\u001b[38;5;241m.\u001b[39msplit(\u001b[38;5;124m\"\u001b[39m\u001b[38;5;124m,\u001b[39m\u001b[38;5;124m\"\u001b[39m)))\n\u001b[1;32m      3\u001b[0m l2 \u001b[38;5;241m=\u001b[39m \u001b[38;5;28mlist\u001b[39m(\u001b[38;5;28mmap\u001b[39m(\u001b[38;5;28mint\u001b[39m,\u001b[38;5;28minput\u001b[39m(\u001b[38;5;124m\"\u001b[39m\u001b[38;5;124mEnter L2 \u001b[39m\u001b[38;5;124m\"\u001b[39m)\u001b[38;5;241m.\u001b[39msplit(\u001b[38;5;124m\"\u001b[39m\u001b[38;5;124m,\u001b[39m\u001b[38;5;124m\"\u001b[39m)))\n",
      "File \u001b[0;32m/usr/lib/python3/dist-packages/ipykernel/kernelbase.py:1282\u001b[0m, in \u001b[0;36mKernel.raw_input\u001b[0;34m(self, prompt)\u001b[0m\n\u001b[1;32m   1280\u001b[0m     msg \u001b[38;5;241m=\u001b[39m \u001b[38;5;124m\"\u001b[39m\u001b[38;5;124mraw_input was called, but this frontend does not support input requests.\u001b[39m\u001b[38;5;124m\"\u001b[39m\n\u001b[1;32m   1281\u001b[0m     \u001b[38;5;28;01mraise\u001b[39;00m StdinNotImplementedError(msg)\n\u001b[0;32m-> 1282\u001b[0m \u001b[38;5;28;01mreturn\u001b[39;00m \u001b[38;5;28;43mself\u001b[39;49m\u001b[38;5;241;43m.\u001b[39;49m\u001b[43m_input_request\u001b[49m\u001b[43m(\u001b[49m\n\u001b[1;32m   1283\u001b[0m \u001b[43m    \u001b[49m\u001b[38;5;28;43mstr\u001b[39;49m\u001b[43m(\u001b[49m\u001b[43mprompt\u001b[49m\u001b[43m)\u001b[49m\u001b[43m,\u001b[49m\n\u001b[1;32m   1284\u001b[0m \u001b[43m    \u001b[49m\u001b[38;5;28;43mself\u001b[39;49m\u001b[38;5;241;43m.\u001b[39;49m\u001b[43m_parent_ident\u001b[49m\u001b[43m[\u001b[49m\u001b[38;5;124;43m\"\u001b[39;49m\u001b[38;5;124;43mshell\u001b[39;49m\u001b[38;5;124;43m\"\u001b[39;49m\u001b[43m]\u001b[49m\u001b[43m,\u001b[49m\n\u001b[1;32m   1285\u001b[0m \u001b[43m    \u001b[49m\u001b[38;5;28;43mself\u001b[39;49m\u001b[38;5;241;43m.\u001b[39;49m\u001b[43mget_parent\u001b[49m\u001b[43m(\u001b[49m\u001b[38;5;124;43m\"\u001b[39;49m\u001b[38;5;124;43mshell\u001b[39;49m\u001b[38;5;124;43m\"\u001b[39;49m\u001b[43m)\u001b[49m\u001b[43m,\u001b[49m\n\u001b[1;32m   1286\u001b[0m \u001b[43m    \u001b[49m\u001b[43mpassword\u001b[49m\u001b[38;5;241;43m=\u001b[39;49m\u001b[38;5;28;43;01mFalse\u001b[39;49;00m\u001b[43m,\u001b[49m\n\u001b[1;32m   1287\u001b[0m \u001b[43m\u001b[49m\u001b[43m)\u001b[49m\n",
      "File \u001b[0;32m/usr/lib/python3/dist-packages/ipykernel/kernelbase.py:1325\u001b[0m, in \u001b[0;36mKernel._input_request\u001b[0;34m(self, prompt, ident, parent, password)\u001b[0m\n\u001b[1;32m   1322\u001b[0m \u001b[38;5;28;01mexcept\u001b[39;00m \u001b[38;5;167;01mKeyboardInterrupt\u001b[39;00m:\n\u001b[1;32m   1323\u001b[0m     \u001b[38;5;66;03m# re-raise KeyboardInterrupt, to truncate traceback\u001b[39;00m\n\u001b[1;32m   1324\u001b[0m     msg \u001b[38;5;241m=\u001b[39m \u001b[38;5;124m\"\u001b[39m\u001b[38;5;124mInterrupted by user\u001b[39m\u001b[38;5;124m\"\u001b[39m\n\u001b[0;32m-> 1325\u001b[0m     \u001b[38;5;28;01mraise\u001b[39;00m \u001b[38;5;167;01mKeyboardInterrupt\u001b[39;00m(msg) \u001b[38;5;28;01mfrom\u001b[39;00m \u001b[38;5;28;01mNone\u001b[39;00m\n\u001b[1;32m   1326\u001b[0m \u001b[38;5;28;01mexcept\u001b[39;00m \u001b[38;5;167;01mException\u001b[39;00m:\n\u001b[1;32m   1327\u001b[0m     \u001b[38;5;28mself\u001b[39m\u001b[38;5;241m.\u001b[39mlog\u001b[38;5;241m.\u001b[39mwarning(\u001b[38;5;124m\"\u001b[39m\u001b[38;5;124mInvalid Message:\u001b[39m\u001b[38;5;124m\"\u001b[39m, exc_info\u001b[38;5;241m=\u001b[39m\u001b[38;5;28;01mTrue\u001b[39;00m)\n",
      "\u001b[0;31mKeyboardInterrupt\u001b[0m: Interrupted by user"
     ]
    }
   ],
   "source": [
    "l1 = list(map(int, input(\"Enter L1 \").split(\",\")))\n",
    "r1 = list(map(int,input(\"Enter R1 \").split(\",\")))\n",
    "l2 = list(map(int,input(\"Enter L2 \").split(\",\")))\n",
    "r2 = list(map(int, input(\"Enter R2 \").split(\",\")))\n",
    "\n",
    "x1, y1 = l1  # Top-left of Rect1\n",
    "x2, y2 = r1  # Bottom-right of Rect1\n",
    "x3, y3 = l2  # Top-left of Rect2\n",
    "x4, y4 = r2  # Bottom-right of Rect2\n",
    "\n",
    "\n",
    "if not (x3 > x2 or x1 > x4)  or (y2 > y1 or y4 > y3):\n",
    "    print(\"Overlapping\")\n",
    "else:\n",
    "    print(\"Not overlapping\")\n"
   ]
  },
  {
   "cell_type": "code",
   "execution_count": 138,
   "id": "751b7384",
   "metadata": {},
   "outputs": [
    {
     "name": "stdout",
     "output_type": "stream",
     "text": [
      "Enter n10\n",
      "10 9 8 7 6 5 4 3 2 1 \n",
      "9 8 7 6 5 4 3 2 1 \n",
      "8 7 6 5 4 3 2 1 \n",
      "7 6 5 4 3 2 1 \n",
      "6 5 4 3 2 1 \n",
      "5 4 3 2 1 \n",
      "4 3 2 1 \n",
      "3 2 1 \n",
      "2 1 \n",
      "1 \n"
     ]
    }
   ],
   "source": [
    "n = int(input(\"Enter n\"))\n",
    "for i in range(n,0,-1):\n",
    "    for j in range(i):\n",
    "        print(i-j, end=\" \")\n",
    "    print()"
   ]
  },
  {
   "cell_type": "code",
   "execution_count": 140,
   "id": "185ab112",
   "metadata": {},
   "outputs": [
    {
     "name": "stdout",
     "output_type": "stream",
     "text": [
      "Enter n10\n",
      "\n",
      "* \n",
      "* * \n",
      "* * * \n",
      "* * * * \n",
      "* * * * * \n",
      "* * * * * * \n",
      "* * * * * * * \n",
      "* * * * * * * * \n",
      "* * * * * * * * * \n",
      "* * * * * * * * * * \n",
      "* * * * * * * * * \n",
      "* * * * * * * * \n",
      "* * * * * * * \n",
      "* * * * * * \n",
      "* * * * * \n",
      "* * * * \n",
      "* * * \n",
      "* * \n",
      "* \n"
     ]
    }
   ],
   "source": [
    "n = int(input(\"Enter n\"))\n",
    "for i in range(0,n):\n",
    "    for j in range(i):\n",
    "        print('*', end=\" \")\n",
    "    print()\n",
    "\n",
    "for i in range(n,0,-1):\n",
    "    for j in range(i):\n",
    "        print('*', end=\" \")\n",
    "    print()"
   ]
  },
  {
   "cell_type": "code",
   "execution_count": 7,
   "id": "6c8b3ea8",
   "metadata": {},
   "outputs": [
    {
     "name": "stdout",
     "output_type": "stream",
     "text": [
      "Enter n10\n",
      "          * \n",
      "         * * \n",
      "        * * * \n",
      "       * * * * \n",
      "      * * * * * \n",
      "     * * * * * * \n",
      "    * * * * * * * \n",
      "   * * * * * * * * \n",
      "  * * * * * * * * * \n",
      " * * * * * * * * * * \n"
     ]
    }
   ],
   "source": [
    "n = int(input(\"Enter n\"))\n",
    "for i in range(1,n+1):\n",
    "    print(\" \"*n, end=\"\")\n",
    "    print(\"* \"*i)\n",
    "    n =n -1\n",
    "\n",
    "    \n",
    "    "
   ]
  },
  {
   "cell_type": "code",
   "execution_count": 12,
   "id": "8a178171",
   "metadata": {},
   "outputs": [
    {
     "name": "stdout",
     "output_type": "stream",
     "text": [
      "Enter n5\n",
      "1 \n",
      "2 1 \n",
      "3 2 1 \n",
      "4 3 2 1 \n",
      "5 4 3 2 1 \n"
     ]
    }
   ],
   "source": [
    "n = int(input(\"Enter n\"))\n",
    "for i in range(1, n+1):\n",
    "    for j in range(i):\n",
    "        print(i-j, end=\" \")\n",
    "    print(\"\")"
   ]
  },
  {
   "cell_type": "code",
   "execution_count": 157,
   "id": "a6f284a4",
   "metadata": {},
   "outputs": [],
   "source": [
    "x = 7"
   ]
  },
  {
   "cell_type": "code",
   "execution_count": 13,
   "id": "3462dbc4",
   "metadata": {},
   "outputs": [
    {
     "name": "stdout",
     "output_type": "stream",
     "text": [
      "Enter value of n 5\n",
      "Enter value of t 10\n",
      "Sum is  22884.333333333332\n"
     ]
    }
   ],
   "source": [
    "sum = 1\n",
    "n = int(input(\"Enter value of n \"))\n",
    "t = int(input(\"Enter value of t \"))\n",
    "for x in range(2,n+1):\n",
    "    sum += (t**x / x)\n",
    "    \n",
    "print(\"Sum is \", sum)"
   ]
  },
  {
   "cell_type": "code",
   "execution_count": 15,
   "id": "42d1d138",
   "metadata": {},
   "outputs": [
    {
     "name": "stdout",
     "output_type": "stream",
     "text": [
      "Enter value of n 5\n",
      "Enter value of x 10\n",
      "Sum is  1.8301230000000004\n"
     ]
    }
   ],
   "source": [
    "n = int(input(\"Enter value of n \"))\n",
    "x = int(input(\"Enter value of x \"))\n",
    "\n",
    "sum = (x - 1) / x\n",
    "for i in range(2, n+1):\n",
    "    sum += 1/i*(((x-1) / x)**i)\n",
    "\n",
    "print(\"Sum is \", sum)"
   ]
  },
  {
   "cell_type": "code",
   "execution_count": 38,
   "id": "e7235f91",
   "metadata": {},
   "outputs": [
    {
     "name": "stdout",
     "output_type": "stream",
     "text": [
      "Enter n 5\n",
      "2+22+222+2222+22222 \n",
      "Sum : 24690\n"
     ]
    }
   ],
   "source": [
    "n = int(input(\"Enter n \"))\n",
    "start = 2\n",
    "sum = 0\n",
    "for x in range(1, n+1):\n",
    "    sum += start\n",
    "    if x > n-1:\n",
    "        print(start , end=\"\")\n",
    "    else:\n",
    "        print(start , end=\"+\")\n",
    "    start = start * 10 + 2\n",
    " \n",
    "print(\" \")\n",
    "print(\"Sum :\", sum)"
   ]
  },
  {
   "cell_type": "code",
   "execution_count": 41,
   "id": "f880c96b",
   "metadata": {},
   "outputs": [
    {
     "name": "stdout",
     "output_type": "stream",
     "text": [
      "1 1 1 1\n",
      "1 1 1 2\n",
      "1 1 1 3\n",
      "1 1 1 4\n",
      "1 1 2 1\n",
      "1 1 2 2\n",
      "1 1 2 3\n",
      "1 1 2 4\n",
      "1 1 3 1\n",
      "1 1 3 2\n",
      "1 1 3 3\n",
      "1 1 3 4\n",
      "1 1 4 1\n",
      "1 1 4 2\n",
      "1 1 4 3\n",
      "1 1 4 4\n",
      "1 2 1 1\n",
      "1 2 1 2\n",
      "1 2 1 3\n",
      "1 2 1 4\n",
      "1 2 2 1\n",
      "1 2 2 2\n",
      "1 2 2 3\n",
      "1 2 2 4\n",
      "1 2 3 1\n",
      "1 2 3 2\n",
      "1 2 3 3\n",
      "1 2 3 4\n",
      "1 2 4 1\n",
      "1 2 4 2\n",
      "1 2 4 3\n",
      "1 2 4 4\n",
      "1 3 1 1\n",
      "1 3 1 2\n",
      "1 3 1 3\n",
      "1 3 1 4\n",
      "1 3 2 1\n",
      "1 3 2 2\n",
      "1 3 2 3\n",
      "1 3 2 4\n",
      "1 3 3 1\n",
      "1 3 3 2\n",
      "1 3 3 3\n",
      "1 3 3 4\n",
      "1 3 4 1\n",
      "1 3 4 2\n",
      "1 3 4 3\n",
      "1 3 4 4\n",
      "1 4 1 1\n",
      "1 4 1 2\n",
      "1 4 1 3\n",
      "1 4 1 4\n",
      "1 4 2 1\n",
      "1 4 2 2\n",
      "1 4 2 3\n",
      "1 4 2 4\n",
      "1 4 3 1\n",
      "1 4 3 2\n",
      "1 4 3 3\n",
      "1 4 3 4\n",
      "1 4 4 1\n",
      "1 4 4 2\n",
      "1 4 4 3\n",
      "1 4 4 4\n",
      "2 1 1 1\n",
      "2 1 1 2\n",
      "2 1 1 3\n",
      "2 1 1 4\n",
      "2 1 2 1\n",
      "2 1 2 2\n",
      "2 1 2 3\n",
      "2 1 2 4\n",
      "2 1 3 1\n",
      "2 1 3 2\n",
      "2 1 3 3\n",
      "2 1 3 4\n",
      "2 1 4 1\n",
      "2 1 4 2\n",
      "2 1 4 3\n",
      "2 1 4 4\n",
      "2 2 1 1\n",
      "2 2 1 2\n",
      "2 2 1 3\n",
      "2 2 1 4\n",
      "2 2 2 1\n",
      "2 2 2 2\n",
      "2 2 2 3\n",
      "2 2 2 4\n",
      "2 2 3 1\n",
      "2 2 3 2\n",
      "2 2 3 3\n",
      "2 2 3 4\n",
      "2 2 4 1\n",
      "2 2 4 2\n",
      "2 2 4 3\n",
      "2 2 4 4\n",
      "2 3 1 1\n",
      "2 3 1 2\n",
      "2 3 1 3\n",
      "2 3 1 4\n",
      "2 3 2 1\n",
      "2 3 2 2\n",
      "2 3 2 3\n",
      "2 3 2 4\n",
      "2 3 3 1\n",
      "2 3 3 2\n",
      "2 3 3 3\n",
      "2 3 3 4\n",
      "2 3 4 1\n",
      "2 3 4 2\n",
      "2 3 4 3\n",
      "2 3 4 4\n",
      "2 4 1 1\n",
      "2 4 1 2\n",
      "2 4 1 3\n",
      "2 4 1 4\n",
      "2 4 2 1\n",
      "2 4 2 2\n",
      "2 4 2 3\n",
      "2 4 2 4\n",
      "2 4 3 1\n",
      "2 4 3 2\n",
      "2 4 3 3\n",
      "2 4 3 4\n",
      "2 4 4 1\n",
      "2 4 4 2\n",
      "2 4 4 3\n",
      "2 4 4 4\n",
      "3 1 1 1\n",
      "3 1 1 2\n",
      "3 1 1 3\n",
      "3 1 1 4\n",
      "3 1 2 1\n",
      "3 1 2 2\n",
      "3 1 2 3\n",
      "3 1 2 4\n",
      "3 1 3 1\n",
      "3 1 3 2\n",
      "3 1 3 3\n",
      "3 1 3 4\n",
      "3 1 4 1\n",
      "3 1 4 2\n",
      "3 1 4 3\n",
      "3 1 4 4\n",
      "3 2 1 1\n",
      "3 2 1 2\n",
      "3 2 1 3\n",
      "3 2 1 4\n",
      "3 2 2 1\n",
      "3 2 2 2\n",
      "3 2 2 3\n",
      "3 2 2 4\n",
      "3 2 3 1\n",
      "3 2 3 2\n",
      "3 2 3 3\n",
      "3 2 3 4\n",
      "3 2 4 1\n",
      "3 2 4 2\n",
      "3 2 4 3\n",
      "3 2 4 4\n",
      "3 3 1 1\n",
      "3 3 1 2\n",
      "3 3 1 3\n",
      "3 3 1 4\n",
      "3 3 2 1\n",
      "3 3 2 2\n",
      "3 3 2 3\n",
      "3 3 2 4\n",
      "3 3 3 1\n",
      "3 3 3 2\n",
      "3 3 3 3\n",
      "3 3 3 4\n",
      "3 3 4 1\n",
      "3 3 4 2\n",
      "3 3 4 3\n",
      "3 3 4 4\n",
      "3 4 1 1\n",
      "3 4 1 2\n",
      "3 4 1 3\n",
      "3 4 1 4\n",
      "3 4 2 1\n",
      "3 4 2 2\n",
      "3 4 2 3\n",
      "3 4 2 4\n",
      "3 4 3 1\n",
      "3 4 3 2\n",
      "3 4 3 3\n",
      "3 4 3 4\n",
      "3 4 4 1\n",
      "3 4 4 2\n",
      "3 4 4 3\n",
      "3 4 4 4\n",
      "4 1 1 1\n",
      "4 1 1 2\n",
      "4 1 1 3\n",
      "4 1 1 4\n",
      "4 1 2 1\n",
      "4 1 2 2\n",
      "4 1 2 3\n",
      "4 1 2 4\n",
      "4 1 3 1\n",
      "4 1 3 2\n",
      "4 1 3 3\n",
      "4 1 3 4\n",
      "4 1 4 1\n",
      "4 1 4 2\n",
      "4 1 4 3\n",
      "4 1 4 4\n",
      "4 2 1 1\n",
      "4 2 1 2\n",
      "4 2 1 3\n",
      "4 2 1 4\n",
      "4 2 2 1\n",
      "4 2 2 2\n",
      "4 2 2 3\n",
      "4 2 2 4\n",
      "4 2 3 1\n",
      "4 2 3 2\n",
      "4 2 3 3\n",
      "4 2 3 4\n",
      "4 2 4 1\n",
      "4 2 4 2\n",
      "4 2 4 3\n",
      "4 2 4 4\n",
      "4 3 1 1\n",
      "4 3 1 2\n",
      "4 3 1 3\n",
      "4 3 1 4\n",
      "4 3 2 1\n",
      "4 3 2 2\n",
      "4 3 2 3\n",
      "4 3 2 4\n",
      "4 3 3 1\n",
      "4 3 3 2\n",
      "4 3 3 3\n",
      "4 3 3 4\n",
      "4 3 4 1\n",
      "4 3 4 2\n",
      "4 3 4 3\n",
      "4 3 4 4\n",
      "4 4 1 1\n",
      "4 4 1 2\n",
      "4 4 1 3\n",
      "4 4 1 4\n",
      "4 4 2 1\n",
      "4 4 2 2\n",
      "4 4 2 3\n",
      "4 4 2 4\n",
      "4 4 3 1\n",
      "4 4 3 2\n",
      "4 4 3 3\n",
      "4 4 3 4\n",
      "4 4 4 1\n",
      "4 4 4 2\n",
      "4 4 4 3\n",
      "4 4 4 4\n"
     ]
    }
   ],
   "source": [
    "for i in range(1,5):\n",
    "    for j in range(1,5):\n",
    "        for k in range(1,5):\n",
    "            for l in range(1,5):\n",
    "                print(i,j,k,l)"
   ]
  },
  {
   "cell_type": "code",
   "execution_count": 49,
   "id": "ebb594b5",
   "metadata": {},
   "outputs": [
    {
     "name": "stdout",
     "output_type": "stream",
     "text": [
      "Enter value of n 54\n",
      "110110\n"
     ]
    }
   ],
   "source": [
    "n = int(input(\"Enter value of n \"))\n",
    "l = []\n",
    "while n > 0:\n",
    "    l.append(str(n % 2))\n",
    "    n = n // 2\n",
    "    \n",
    "print(\"\".join(l[::-1]))"
   ]
  },
  {
   "cell_type": "code",
   "execution_count": 53,
   "id": "dfa60d31",
   "metadata": {},
   "outputs": [
    {
     "name": "stdout",
     "output_type": "stream",
     "text": [
      "Enter value of x 5\n",
      "Enter value of y 15\n",
      "LCM is  15\n"
     ]
    }
   ],
   "source": [
    "x = int(input(\"Enter value of x \"))\n",
    "y = int(input(\"Enter value of y \"))\n",
    "\n",
    "if x > y:\n",
    "    greater = x\n",
    "else:\n",
    "    greater = y\n",
    "    \n",
    "lcm = 0\n",
    "while True :\n",
    "    if greater % x == 0 and greater % y == 0:\n",
    "        lcm = greater\n",
    "        break\n",
    "        \n",
    "    greater += 1\n",
    "    \n",
    "print(\"LCM is \", lcm)\n",
    "        "
   ]
  },
  {
   "cell_type": "code",
   "execution_count": 57,
   "id": "a4346878",
   "metadata": {},
   "outputs": [
    {
     "name": "stdout",
     "output_type": "stream",
     "text": [
      "Enter value of x 12\n",
      "Enter value of y 16\n",
      "HCF  4\n"
     ]
    }
   ],
   "source": [
    "x = int(input(\"Enter value of x \"))\n",
    "y = int(input(\"Enter value of y \"))\n",
    "\n",
    "if x < y:\n",
    "    smaller = x\n",
    "else:\n",
    "    smaller = y\n",
    "hcf = 0\n",
    "for i in range(1, smaller + 1):\n",
    "    if x % i == 0 and y % i == 0:\n",
    "        hcf = i\n",
    "        continue\n",
    "        \n",
    "        \n",
    "print(\"HCF \", hcf)"
   ]
  },
  {
   "cell_type": "code",
   "execution_count": 61,
   "id": "2d2a8967",
   "metadata": {},
   "outputs": [
    {
     "name": "stdout",
     "output_type": "stream",
     "text": [
      "DSMP\n"
     ]
    }
   ],
   "source": [
    "string = \"Data science mentorship program\"\n",
    "sl = string.split(\" \")\n",
    "print(\"\".join([ x[0].upper()  for x in sl]))"
   ]
  },
  {
   "cell_type": "code",
   "execution_count": 65,
   "id": "dd7be8ca",
   "metadata": {},
   "outputs": [
    {
     "name": "stdout",
     "output_type": "stream",
     "text": [
      "camdatapusx\n"
     ]
    }
   ],
   "source": [
    "str1 = 'campusx'\n",
    "str2 = 'data'\n",
    "\n",
    "str1_length = len(str1)\n",
    "middle = str1_length // 2\n",
    "\n",
    "print(str1[0:middle] +  str2 + str1[middle:])"
   ]
  },
  {
   "cell_type": "code",
   "execution_count": 66,
   "id": "ee8bac44",
   "metadata": {},
   "outputs": [
    {
     "name": "stdout",
     "output_type": "stream",
     "text": [
      "yaivePNT\n"
     ]
    }
   ],
   "source": [
    "str1 = 'PyNaTive'\n",
    "resl = \"\"\n",
    "resu = \"\"\n",
    "for x in str1:\n",
    "    if x.islower():\n",
    "        resl += x\n",
    "    else:\n",
    "        resu += x\n",
    "        \n",
    "print(resl + resu)"
   ]
  },
  {
   "cell_type": "code",
   "execution_count": 89,
   "id": "fd3fc888",
   "metadata": {},
   "outputs": [
    {
     "name": "stdout",
     "output_type": "stream",
     "text": [
      "[1, 2, 3, 4, 0, 9, 3]\n",
      "Sum is 22 and average is 3.142857142857143\n"
     ]
    }
   ],
   "source": [
    "str1 = 'hel123O4every093'\n",
    "sum1 = 0\n",
    "counter = 0\n",
    "for x in str1:\n",
    "    if x.isdigit():\n",
    "        sum1 += int(x)\n",
    "        counter += 1\n",
    "\n",
    "print(l)  # Output: [1, 2, 3, 4, 0, 9, 3]\n",
    "print(\"Sum is\", sum1, \"and average is\", sum1 / counter)  # Corrected sum usage\n"
   ]
  },
  {
   "cell_type": "code",
   "execution_count": 85,
   "id": "fdfda64e",
   "metadata": {},
   "outputs": [
    {
     "ename": "AttributeError",
     "evalue": "'list' object has no attribute 'sum'",
     "output_type": "error",
     "traceback": [
      "\u001b[0;31m---------------------------------------------------------------------------\u001b[0m",
      "\u001b[0;31mAttributeError\u001b[0m                            Traceback (most recent call last)",
      "Cell \u001b[0;32mIn[85], line 1\u001b[0m\n\u001b[0;32m----> 1\u001b[0m \u001b[38;5;28mprint\u001b[39m(\u001b[43m[\u001b[49m\u001b[38;5;241;43m1\u001b[39;49m\u001b[43m,\u001b[49m\u001b[38;5;241;43m2\u001b[39;49m\u001b[43m,\u001b[49m\u001b[38;5;241;43m3\u001b[39;49m\u001b[43m]\u001b[49m\u001b[38;5;241;43m.\u001b[39;49m\u001b[43msum\u001b[49m())\n",
      "\u001b[0;31mAttributeError\u001b[0m: 'list' object has no attribute 'sum'"
     ]
    }
   ],
   "source": [
    "print(sum([1,2,3]))"
   ]
  },
  {
   "cell_type": "code",
   "execution_count": 90,
   "id": "48bf5e6a",
   "metadata": {},
   "outputs": [
    {
     "name": "stdout",
     "output_type": "stream",
     "text": [
      "2510\n"
     ]
    }
   ],
   "source": [
    "str1 = 'I am 25 years and 10 months old'\n",
    "\n",
    "res = \"\"\n",
    "for x in str1:\n",
    "    if x.isdigit():\n",
    "        res += x\n",
    "\n",
    "print(res)"
   ]
  },
  {
   "cell_type": "code",
   "execution_count": 93,
   "id": "317ee167",
   "metadata": {},
   "outputs": [
    {
     "name": "stdout",
     "output_type": "stream",
     "text": [
      "Enter StringNitin\n",
      "Not Symetrical\n"
     ]
    }
   ],
   "source": [
    "str1 = input(\"Enter String\")\n",
    "mid = len(str1) // 2\n",
    "if str1[0 : mid] == str1[mid:]:\n",
    "    print(\"Symatrical\")\n",
    "else:\n",
    "    print(\"Not Symetrical\")"
   ]
  },
  {
   "cell_type": "code",
   "execution_count": 96,
   "id": "8180028a",
   "metadata": {},
   "outputs": [
    {
     "name": "stdout",
     "output_type": "stream",
     "text": [
      "['my', 'name', 'is', 'laxmi']\n",
      "laxmi is name my\n"
     ]
    }
   ],
   "source": [
    "str1 = \"my name is laxmi\"\n",
    "ls = str1.split(\" \")\n",
    "print(ls)\n",
    "print(\" \".join(ls[::-1]))"
   ]
  },
  {
   "cell_type": "code",
   "execution_count": 104,
   "id": "9bf26caf",
   "metadata": {},
   "outputs": [
    {
     "name": "stdout",
     "output_type": "stream",
     "text": [
      "['apple', 'fruits']\n"
     ]
    }
   ],
   "source": [
    "A = \"apple banana mango\" \n",
    "B = \"banana fruits mango\"\n",
    "\n",
    "fl = A.split(\" \") + B.split(\" \")\n",
    "print([ x for x in fl if fl.count(x) == 1])"
   ]
  },
  {
   "cell_type": "code",
   "execution_count": 116,
   "id": "ac68b398",
   "metadata": {},
   "outputs": [
    {
     "name": "stdout",
     "output_type": "stream",
     "text": [
      "Location is  7\n",
      "\n"
     ]
    }
   ],
   "source": [
    "sen = \"We can learn data science through campusx mentorship program.\"\n",
    "word = \"campusx\"\n",
    "sen_l = sen.split(\" \")\n",
    "counter = 0\n",
    "for x in sen_l:\n",
    "    counter += 1\n",
    "    if word == x:\n",
    "        print(\"Location is \", counter)\n",
    "        break\n",
    "        \n",
    "print(\"\")"
   ]
  },
  {
   "cell_type": "code",
   "execution_count": 118,
   "id": "7956e26d",
   "metadata": {},
   "outputs": [
    {
     "name": "stdout",
     "output_type": "stream",
     "text": [
      "{'n', 'o', 'm', 't', 'W', 'a', 'i', 'p', '.', 'h', 's', 'g', 'l', 'c', 'd', 'r', 'x', ' ', 'e', 'u'}\n"
     ]
    }
   ],
   "source": [
    "str1 = \"We can learn data science through campusx mentorship program.\"\n",
    "\n",
    "print(set(list(str1)))"
   ]
  },
  {
   "cell_type": "code",
   "execution_count": 119,
   "id": "028dd277",
   "metadata": {},
   "outputs": [
    {
     "name": "stdout",
     "output_type": "stream",
     "text": [
      "[('M', 'y'), ('na', 'me'), ('i', 's'), ('Kh', 'an')]\n"
     ]
    }
   ],
   "source": [
    "list1 = [\"M\", \"na\", \"i\", \"Kh\"]\n",
    "list2 = [\"y\", \"me\", \"s\", \"an\"]\n",
    "\n",
    "print(list(zip(list1, list2)))"
   ]
  },
  {
   "cell_type": "code",
   "execution_count": 126,
   "id": "b9797ba8",
   "metadata": {},
   "outputs": [
    {
     "name": "stdout",
     "output_type": "stream",
     "text": [
      "[10, 20, [300, 400, [5000, 6000, 7000], 500], 30, 40]\n"
     ]
    }
   ],
   "source": [
    "list1 = [10, 20, [300, 400, [5000, 6000], 500], 30, 40]\n",
    "list1[2][-2].append(7000)\n",
    "print(list1)"
   ]
  },
  {
   "cell_type": "code",
   "execution_count": 127,
   "id": "721f9e49",
   "metadata": {},
   "outputs": [
    {
     "name": "stdout",
     "output_type": "stream",
     "text": [
      "Jelly Belly - 10\n",
      "Kit Kat - 20\n",
      "Double Bubble - 34\n",
      "Milky Way - 74\n",
      "Three Musketeers - 32\n"
     ]
    }
   ],
   "source": [
    "candy_list = ['Jelly Belly','Kit Kat','Double Bubble','Milky Way','Three Musketeers']\n",
    "no_of_items = [10,20,34,74,32]\n",
    "\n",
    "for x,y in list(zip(candy_list, no_of_items)):\n",
    "    print(x , '-', y)"
   ]
  },
  {
   "cell_type": "code",
   "execution_count": 129,
   "id": "272350a5",
   "metadata": {},
   "outputs": [
    {
     "name": "stdout",
     "output_type": "stream",
     "text": [
      "[1, 3, 6, 10, 15, 21]\n"
     ]
    }
   ],
   "source": [
    "list1 = [1,2,3,4,5,6]\n",
    "sum_res = 0\n",
    "res=[]\n",
    "for x in list1:\n",
    "    sum_res += x\n",
    "    res.append(sum_res)\n",
    "\n",
    "print(res)\n",
    "\n"
   ]
  },
  {
   "cell_type": "code",
   "execution_count": 135,
   "id": "fcbce05f",
   "metadata": {},
   "outputs": [
    {
     "name": "stdout",
     "output_type": "stream",
     "text": [
      "[22, 20, 16, 10, 23]\n"
     ]
    }
   ],
   "source": [
    "l1 = [2,4,6,10,1]\n",
    "res= []\n",
    "for x in l1:\n",
    "    sum1 = 0\n",
    "    for j in l1:\n",
    "        if j >= x:\n",
    "            sum1 += j\n",
    "    res.append(sum1)\n",
    "    \n",
    "print(res)\n",
    "    "
   ]
  },
  {
   "cell_type": "code",
   "execution_count": 139,
   "id": "91e5980a",
   "metadata": {},
   "outputs": [
    {
     "name": "stdout",
     "output_type": "stream",
     "text": [
      "[67, 89, 34]\n"
     ]
    }
   ],
   "source": [
    "num1 = [23,45,67,78,89,34]\n",
    "num2 = [34,89,55,56,39,67, 34]\n",
    "res = []\n",
    "for x in num1:\n",
    "    if x in num2:\n",
    "        res.append(x)\n",
    "print(res)        "
   ]
  },
  {
   "cell_type": "code",
   "execution_count": 184,
   "id": "aac94bb0",
   "metadata": {},
   "outputs": [
    {
     "name": "stdout",
     "output_type": "stream",
     "text": [
      "Res  [(120, '456'), (6, '23fg'), (2, '1ac21'), (1, 'kls'), (1, '1'), (0, '098d')]\n",
      "['456', '23fg', '1ac21', 'kls', '1', '098d']\n"
     ]
    }
   ],
   "source": [
    "l1 = ['1ac21', '23fg', '456', '098d','1','kls']\n",
    "res = []\n",
    "for x in l1:\n",
    "    product = 1\n",
    "    for y in x:\n",
    "        if y.isdigit():\n",
    "            product = product * int(y)\n",
    "            \n",
    "    res.append(product)\n",
    "    \n",
    "l3 = sorted(list(zip(res, l1)), reverse=True)\n",
    "\n",
    "print(\"Res \",l3)\n",
    "print( [i[1] for i in sorted(list(zip(res, l1)), reverse=True)])"
   ]
  },
  {
   "cell_type": "code",
   "execution_count": 154,
   "id": "dbd57c6b",
   "metadata": {},
   "outputs": [
    {
     "name": "stdout",
     "output_type": "stream",
     "text": [
      "CampusX is a channel for data-science aspirants.\n",
      "['CampusX', 'is', 'a', 'channel', 'for', 'data-science', 'aspirants.']\n"
     ]
    }
   ],
   "source": [
    "str1 = \" \".join(['CampusX is a channel', 'for data-science', 'aspirants.'])\n",
    "print(str1)\n",
    "inputval = \" \"\n",
    "\n",
    "print(str1.split(inputval))"
   ]
  },
  {
   "cell_type": "code",
   "execution_count": 202,
   "id": "07786c08",
   "metadata": {},
   "outputs": [
    {
     "name": "stdout",
     "output_type": "stream",
     "text": [
      "campux is best channel\n"
     ]
    }
   ],
   "source": [
    "l1 = [['c', 'a', 'm', 'p', 'u', 'x'], ['i', 's'], ['b', 'e', 's', 't'], ['c', 'h', 'a', 'n', 'n', 'e', 'l']]\n",
    "\n",
    "print(\" \".join([ \"\".join(x) for x in l1 ]))"
   ]
  },
  {
   "cell_type": "code",
   "execution_count": 205,
   "id": "2c03a2ea",
   "metadata": {},
   "outputs": [
    {
     "name": "stdout",
     "output_type": "stream",
     "text": [
      "['campusx Is', 'best For', 'data Scientist']\n"
     ]
    }
   ],
   "source": [
    "l1 = ['campusxIs', 'bestFor', 'dataScientist']\n",
    "res = []\n",
    "for x in l1:\n",
    "    str1 = \"\"\n",
    "    for y in x:\n",
    "        if y.isupper():\n",
    "            str1 += \" \"+y\n",
    "        else:\n",
    "            str1 += y\n",
    "            \n",
    "    res.append(str1)\n",
    "    \n",
    "print(res)\n",
    "            \n",
    "        "
   ]
  },
  {
   "cell_type": "code",
   "execution_count": 208,
   "id": "5fd1ccbd",
   "metadata": {},
   "outputs": [
    {
     "name": "stdout",
     "output_type": "stream",
     "text": [
      "{1, 2, 3, 4, 5, 7, 8}\n"
     ]
    }
   ],
   "source": [
    "l1 = [1,2,3,4,5,1]\n",
    "l2 = [2,3,5,7,8]\n",
    "\n",
    "print(set(l1+l2))"
   ]
  },
  {
   "cell_type": "code",
   "execution_count": 209,
   "id": "aa333367",
   "metadata": {},
   "outputs": [
    {
     "name": "stdout",
     "output_type": "stream",
     "text": [
      "[3, 6, 9]\n"
     ]
    }
   ],
   "source": [
    "l1 = [[1,2,3],[4,5,6],[7,8,9]]\n",
    "res = []\n",
    "for x in l1:\n",
    "    res.append(max(x))\n",
    "print(res)"
   ]
  },
  {
   "cell_type": "code",
   "execution_count": 260,
   "id": "099313ec",
   "metadata": {},
   "outputs": [
    {
     "name": "stdout",
     "output_type": "stream",
     "text": [
      "[[0, 1, 2], [3, 4, 5], [6, 7, 8]]\n"
     ]
    }
   ],
   "source": [
    "l1 = [[0, 1, 2], [3, 4, 5], [6, 7, 8]]\n",
    "\n",
    "\n",
    "print( [  [ (y+3*x) for y in range(0,3) ]  for x in range(0,3)   ] )"
   ]
  },
  {
   "cell_type": "code",
   "execution_count": 275,
   "id": "7779f047",
   "metadata": {},
   "outputs": [
    {
     "name": "stdout",
     "output_type": "stream",
     "text": [
      "[[1, 2, 3, 5], [4, 5, 6, 1], [7, 8, 9, 3]]\n",
      "[[1, 4, 7], [2, 5, 8], [3, 6, 9]]\n"
     ]
    }
   ],
   "source": [
    "matrix = [\n",
    "[1,2,3,5],\n",
    "[4,5,6,1],\n",
    "[7,8,9,3]\n",
    "]\n",
    "\n",
    "print([ [ row[i]  for row in matrix ] for i in range(len(matrix))  ])"
   ]
  },
  {
   "cell_type": "code",
   "execution_count": 274,
   "id": "269883fa",
   "metadata": {},
   "outputs": [
    {
     "name": "stdout",
     "output_type": "stream",
     "text": [
      "[1, 2, 3, 4, 5, 6, 7, 8, 9]\n"
     ]
    }
   ],
   "source": [
    "matrix = [\n",
    "[1,2,3],\n",
    "[4,5,6],\n",
    "[7,8,9]\n",
    "]\n",
    "\n",
    "print([ y  for x in matrix for y in x   ])"
   ]
  },
  {
   "cell_type": "code",
   "execution_count": 427,
   "id": "1e229f6a",
   "metadata": {},
   "outputs": [
    {
     "name": "stdout",
     "output_type": "stream",
     "text": [
      "[[5, 6, 7, 8], [6, 10], [7, 13]]\n"
     ]
    }
   ],
   "source": [
    "test_list = [(5, 6), (5, 7), (5, 8), (6, 10), (7, 13)] \n",
    "\n",
    "\n",
    "unique = []\n",
    "for x in test_list:\n",
    "    unique.append(x[0])\n",
    "\n",
    "unique = set(unique)\n",
    "\n",
    "opt = []\n",
    "for y in unique:\n",
    "    opt.append([y])\n",
    "    for z in test_list:\n",
    "        if y == z[0]:\n",
    "            opt[-1].append((z[1]))\n",
    "            \n",
    "print(opt)\n",
    "            \n",
    "    "
   ]
  },
  {
   "cell_type": "code",
   "execution_count": 291,
   "id": "cd557b83",
   "metadata": {},
   "outputs": [
    {
     "name": "stdout",
     "output_type": "stream",
     "text": [
      "[12, 54, 98, 136, 230, 450, 300]\n"
     ]
    }
   ],
   "source": [
    "t = (2, 6, 7, 8, 10,15,20)\n",
    "res = [t[0] * t[1]]\n",
    "for x in range(1 , len(t) - 1):\n",
    "    res.append( t[x-1] * t[x] + t[x+1] * t[x]  )\n",
    "    \n",
    "res.append(t[-1]*t[-2])\n",
    "\n",
    "print(res)"
   ]
  },
  {
   "cell_type": "code",
   "execution_count": 301,
   "id": "788e8cf1",
   "metadata": {},
   "outputs": [
    {
     "name": "stdout",
     "output_type": "stream",
     "text": [
      "Not Same\n"
     ]
    }
   ],
   "source": [
    "t1 = (1,2,3,0)\n",
    "t2 = (1,2,1,0)\n",
    "\n",
    "res = list(zip(t1,t2))\n",
    "flag = True\n",
    "for x in res:\n",
    "    if x[0] != x[1]:\n",
    "        flag=False\n",
    "        \n",
    "if flag:\n",
    "    print(\"Same\")\n",
    "else:\n",
    "    print(\"Not Same\")\n",
    "\n",
    "\n",
    "    \n",
    "            \n",
    "    "
   ]
  },
  {
   "cell_type": "code",
   "execution_count": 302,
   "id": "509e16c7",
   "metadata": {},
   "outputs": [
    {
     "name": "stdout",
     "output_type": "stream",
     "text": [
      "\n",
      "    List Count 2\n",
      "    Tuple Count 1\n",
      "    Set Count 2\n",
      "\n"
     ]
    }
   ],
   "source": [
    "list1 = [{'hi', 'bye'},{'Geeks', 'forGeeks'},('a', 'b'),['hi', 'bye'],['a', 'b']]\n",
    "\n",
    "lc = 0\n",
    "tc = 0\n",
    "sc = 0\n",
    "\n",
    "for x in list1:\n",
    "    if type(x) == list:\n",
    "        lc += 1\n",
    "    elif type(x) == tuple:\n",
    "        tc += 1\n",
    "    elif type(x) == set:\n",
    "        sc += 1\n",
    "        \n",
    "print(\"\"\"\n",
    "    List Count {}\n",
    "    Tuple Count {}\n",
    "    Set Count {}\n",
    "\"\"\".format(lc,tc,sc))\n",
    "    "
   ]
  },
  {
   "cell_type": "code",
   "execution_count": 314,
   "id": "8b301209",
   "metadata": {},
   "outputs": [
    {
     "name": "stdout",
     "output_type": "stream",
     "text": [
      "[80, 20]\n"
     ]
    }
   ],
   "source": [
    "ar1 = [1, 5, 10, 20, 40, 80]\n",
    "ar2 = [6, 7, 20, 80, 100]\n",
    "ar3 = [3, 4, 15, 20, 30, 70, 80, 120]\n",
    "\n",
    "# res = []\n",
    "# for x in ar1:\n",
    "#     if x in ar2 and x in ar3:\n",
    "#         res.append(x)\n",
    "        \n",
    "# print(res)\n",
    "\n",
    "res = set(ar1).union(set(ar2)).intersection(ar3)\n",
    "print(list(res))"
   ]
  },
  {
   "cell_type": "code",
   "execution_count": 323,
   "id": "588253fe",
   "metadata": {},
   "outputs": [
    {
     "name": "stdout",
     "output_type": "stream",
     "text": [
      "{'A', 'i', 'o', 'a', 'e', 'u'},  Count 6 "
     ]
    }
   ],
   "source": [
    "Str1 = \"hands-on data science mentorship progrAm with live classes at affordable fee only on CampusX\"\n",
    "vowel = \"aeiouAEIOU\"\n",
    "\n",
    "res = set(vowel).intersection(Str1\n",
    "print(res, len(res), end=\" \", sep=\",  Count \")"
   ]
  },
  {
   "cell_type": "code",
   "execution_count": 330,
   "id": "4eb2b05d",
   "metadata": {},
   "outputs": [
    {
     "name": "stdout",
     "output_type": "stream",
     "text": [
      "Binary\n"
     ]
    }
   ],
   "source": [
    " str = \"101010\"\n",
    "    \n",
    "tc = set(str)\n",
    "if len(tc) == 2:\n",
    "    print(\"Binary\")\n",
    "else:\n",
    "    print(\"Not Binary\")"
   ]
  },
  {
   "cell_type": "code",
   "execution_count": 349,
   "id": "23adf39b",
   "metadata": {},
   "outputs": [
    {
     "name": "stdout",
     "output_type": "stream",
     "text": [
      "{1, 2, 3, 4, 5, 6, 7, 9}\n"
     ]
    }
   ],
   "source": [
    "m = [[1, 2, 2, 4, 3, 6],\n",
    " [5, 1, 3, 4],\n",
    " [9, 5, 7, 1],\n",
    " [2, 4, 1, 3]]\n",
    "\n",
    "# print(*m)\n",
    "\n",
    "print(set([ y for x in m for y in x]))\n"
   ]
  },
  {
   "cell_type": "code",
   "execution_count": 361,
   "id": "f7ec7d6f",
   "metadata": {},
   "outputs": [
    {
     "name": "stdout",
     "output_type": "stream",
     "text": [
      "[9, 11, 26, 28]\n"
     ]
    }
   ],
   "source": [
    "lst1 = {4, 9, 1, 17, 11, 26, 28, 54, 69}\n",
    "lst2 = {9, 9, 74, 21, 45, 11, 63, 28, 26}\n",
    "\n",
    "\n",
    "print([ y  for x in lst1 for y in lst2 if x == y ])"
   ]
  },
  {
   "cell_type": "code",
   "execution_count": 372,
   "id": "346aa764",
   "metadata": {},
   "outputs": [
    {
     "name": "stdout",
     "output_type": "stream",
     "text": [
      "CampusX :  [5, 7, 7, 7, 7] ,  2\n",
      "is :  [6, 7, 7, 7] ,  2\n",
      "Best :  [9, 9, 6, 5, 5] ,  3\n",
      "Best\n"
     ]
    }
   ],
   "source": [
    "test_dict = {\"CampusX\" : [5, 7, 7, 7, 7], \"is\" : [6, 7, 7, 7], \"Best\" : [9, 9, 6, 5, 5]}\n",
    "\n",
    "res = dict()\n",
    "for x in test_dict:\n",
    "    res[len(set(test_dict[x]))] = x\n",
    "    print(x, ': ' ,test_dict[x], \", \", len(set(test_dict[x])))\n",
    "    \n",
    "sortedval = sorted(res, reverse=True)[0]\n",
    "print(res[sortedval])\n"
   ]
  },
  {
   "cell_type": "code",
   "execution_count": 380,
   "id": "26ab0c55",
   "metadata": {},
   "outputs": [
    {
     "name": "stdout",
     "output_type": "stream",
     "text": [
      "CampusX best for DS students. \n"
     ]
    }
   ],
   "source": [
    "test_str = 'CampusX best for DS students.'\n",
    "repl_dict = {\"good\" : \"is the best channel\", \"ds\" : \"Data-Science\"}\n",
    "res = \"\"\n",
    "for x in test_str.split(\" \"):\n",
    "    if x in repl_dict:\n",
    "        res +=  repl_dict[x] + \" \"\n",
    "    else:\n",
    "        res += x+\" \"\n",
    "        \n",
    "print(res)\n"
   ]
  },
  {
   "cell_type": "code",
   "execution_count": 387,
   "id": "656d91f7",
   "metadata": {},
   "outputs": [
    {
     "name": "stdout",
     "output_type": "stream",
     "text": [
      "[{'name': 8}, {'name': 8}, {'name': 8}, {'name': 8}, {'id': 8}, {'id': 8}, {'id': 8}, {'id': 8}]\n"
     ]
    }
   ],
   "source": [
    "test_list = [\"DataScience\", 3, \"is\", 8]\n",
    "key_list = [\"name\", \"id\"]\n",
    "\n",
    "res = []\n",
    "\n",
    "for x in key_list:\n",
    "    d = dict()\n",
    "    for y in test_list:\n",
    "        d[x] = y\n",
    "        res.append(d)\n",
    "    \n",
    "print(res)\n",
    "        "
   ]
  },
  {
   "cell_type": "code",
   "execution_count": 393,
   "id": "37d68327",
   "metadata": {},
   "outputs": [
    {
     "name": "stdout",
     "output_type": "stream",
     "text": [
      "{'A': [1], 'B': [2], 'C': [3]}\n"
     ]
    }
   ],
   "source": [
    "L1 = [('A', 1), ('B', 2), ('C', 3)]\n",
    "d = dict()\n",
    "for x in L1:\n",
    "    d[x[0]] = [x[1]]\n",
    "    #print(x)\n",
    "print(d)"
   ]
  },
  {
   "cell_type": "code",
   "execution_count": 399,
   "id": "15f2568b",
   "metadata": {},
   "outputs": [
    {
     "name": "stdout",
     "output_type": "stream",
     "text": [
      "{'c': [3, 10, 34]}\n"
     ]
    }
   ],
   "source": [
    "d1 = {'c': [10, 34, 3]}\n",
    "\n",
    "res = dict()\n",
    "for x in sorted( d1):\n",
    "    res[x] = sorted(d1[x])\n",
    "    #print(d1[x])\n",
    "print(res)"
   ]
  },
  {
   "cell_type": "code",
   "execution_count": 429,
   "id": "22484a6d",
   "metadata": {},
   "outputs": [
    {
     "name": "stdout",
     "output_type": "stream",
     "text": [
      "List is  [1, 2, 3, 4, 5]\n"
     ]
    }
   ],
   "source": [
    "def uniqueList(arg):\n",
    "    return list(set(arg))\n",
    "    \n",
    "    \n",
    "resp = uniqueList([1,2,3,3,3,3,4,5])\n",
    "print(\"List is \", resp)"
   ]
  },
  {
   "cell_type": "code",
   "execution_count": 434,
   "id": "e36fb13b",
   "metadata": {},
   "outputs": [
    {
     "name": "stdout",
     "output_type": "stream",
     "text": [
      "Res is : black-green-red-white-yellow\n"
     ]
    }
   ],
   "source": [
    "def sortString(arg):\n",
    "    return \"-\".join(sorted(arg.split('-')))\n",
    "    \n",
    "\n",
    "res = sortString(\"green-red-yellow-black-white\")\n",
    "print(\"Res is :\", res)"
   ]
  },
  {
   "cell_type": "code",
   "execution_count": 436,
   "id": "c0be5259",
   "metadata": {},
   "outputs": [
    {
     "name": "stdout",
     "output_type": "stream",
     "text": [
      "Res is  {'Upper Letter Count': 9, 'Lower letter Count': 47}\n"
     ]
    }
   ],
   "source": [
    "def countUpperLower(arg):\n",
    "    lc =0\n",
    "    uc = 0\n",
    "    for x in arg:\n",
    "        if x.isupper():\n",
    "            uc += 1\n",
    "        elif x.islower():\n",
    "            lc += 1\n",
    "    \n",
    "    return {\n",
    "        \"Upper Letter Count\": uc,\n",
    "        \"Lower letter Count\": lc\n",
    "    }\n",
    "\n",
    "\n",
    "res = countUpperLower('CampusX is an Online Mentorship Program fOr EnginEering studentS.')\n",
    "print('Res is ', res)"
   ]
  },
  {
   "cell_type": "code",
   "execution_count": 438,
   "id": "cedef97e",
   "metadata": {},
   "outputs": [
    {
     "name": "stdout",
     "output_type": "stream",
     "text": [
      "Res is  [2, 4, 6, 8]\n"
     ]
    }
   ],
   "source": [
    "def getEven(arg):\n",
    "    res = []\n",
    "    for x in arg:\n",
    "        if x % 2 == 0:\n",
    "            res.append(x)\n",
    "            \n",
    "    return res\n",
    "    \n",
    "    \n",
    "res = getEven( [1, 2, 3, 4, 5, 6, 7, 8, 9])\n",
    "print(\"Res is \", res)"
   ]
  },
  {
   "cell_type": "raw",
   "id": "2135087e",
   "metadata": {},
   "source": []
  },
  {
   "cell_type": "code",
   "execution_count": 450,
   "id": "c6c31daa",
   "metadata": {},
   "outputs": [
    {
     "name": "stdout",
     "output_type": "stream",
     "text": [
      "{1: 10, 2: 20, 3: 30, 4: 40, 7: 500, 8: 600}\n"
     ]
    }
   ],
   "source": [
    "\n",
    "def concateDict(*d):\n",
    "    newd = {}\n",
    "    for x in d:\n",
    "        for y in x:\n",
    "            newd[y] = x[y]\n",
    "            #print(y, x[y])\n",
    "            \n",
    "    return newd\n",
    "    \n",
    "\n",
    "\n",
    "d1={1:10, 2:20}\n",
    "d2={3:30, 4:40}\n",
    "d3={5:50, 6:60}\n",
    "d3={7:500, 8:600}\n",
    "res = concateDict(d1,d2, d3)\n",
    "print(res)\n",
    "\n"
   ]
  },
  {
   "cell_type": "code",
   "execution_count": 31,
   "id": "18e9ebe0",
   "metadata": {},
   "outputs": [
    {
     "name": "stdout",
     "output_type": "stream",
     "text": [
      "10\n"
     ]
    }
   ],
   "source": [
    "x = 10\n",
    "print(str(x))  # Output: '10'\n"
   ]
  },
  {
   "cell_type": "code",
   "execution_count": 1,
   "id": "296c9e4e",
   "metadata": {},
   "outputs": [
    {
     "name": "stdout",
     "output_type": "stream",
     "text": [
      "{'11-20': 2, '21-30': 1, '31-40': 2, '41-50': 3}\n"
     ]
    }
   ],
   "source": [
    "import math\n",
    "def getHisto(arg):\n",
    "    d = dict()\n",
    "    min_val = math.floor(min(arg) / 10) * 10\n",
    "    max_val = math.ceil(max(arg) / 10) * 10\n",
    "    \n",
    "    d = {}\n",
    "    for x in range(min_val , max_val, 10):\n",
    "        count = 0\n",
    "        for j in arg:\n",
    "            if x+1 <= j <= x+10:\n",
    "                count += 1\n",
    "        \n",
    "        keyval = str(x+1) + \"-\" + str(x+10)\n",
    "        d[keyval] = count\n",
    "              \n",
    "    return d\n",
    "\n",
    "\n",
    "res = getHisto([13,42,15,37,22,39,41,50])\n",
    "print(res)"
   ]
  },
  {
   "cell_type": "code",
   "execution_count": 525,
   "id": "0694c840",
   "metadata": {},
   "outputs": [],
   "source": [
    "employees = [\n",
    "    {\n",
    "        'fname':'Nitish',\n",
    "        'lname':'Singh',\n",
    "        'age' : 33,\n",
    "        'grade':'skilled'\n",
    "    },\n",
    "    {\n",
    "        'fname':'Ankit',\n",
    "        'lname':'Verma',\n",
    "        'age' : 34,\n",
    "        'grade':'semi-skilled'\n",
    "    },\n",
    "    {\n",
    "        'fname':'Neha',\n",
    "        'lname':'Singh',\n",
    "        'age' : 35,\n",
    "        'grade':'highly-skilled'\n",
    "    },\n",
    "    {\n",
    "        'fname':'Anurag',\n",
    "        'lname':'Kumar',\n",
    "        'age' : 30,\n",
    "        'grade':'skilled'\n",
    "    },\n",
    "    {\n",
    "        'fname':'Abhinav',\n",
    "        'lname':'Sharma',\n",
    "        'age' : 37,\n",
    "        'grade':'highly-skilled'\n",
    "    }\n",
    "    \n",
    "]"
   ]
  },
  {
   "cell_type": "code",
   "execution_count": 543,
   "id": "799ba5cb",
   "metadata": {},
   "outputs": [
    {
     "name": "stdout",
     "output_type": "stream",
     "text": [
      "['NehaSingh', 'AbhinavSharma']\n"
     ]
    }
   ],
   "source": [
    "print([ x['fname'] + x['lname'] for x in  list(filter(lambda x : x['grade'] == \"highly-skilled\"  , employees ))   ] )"
   ]
  },
  {
   "cell_type": "code",
   "execution_count": 547,
   "id": "c33bbb92",
   "metadata": {},
   "outputs": [
    {
     "name": "stdout",
     "output_type": "stream",
     "text": [
      "[15]\n"
     ]
    }
   ],
   "source": [
    "from functools import reduce\n",
    "l1 = [1,2,3,4,5]\n",
    "\n",
    "print( [ reduce( lambda x,y: x+y  , l1 ) ] )"
   ]
  },
  {
   "cell_type": "code",
   "execution_count": 551,
   "id": "98de1f0d",
   "metadata": {},
   "outputs": [
    {
     "name": "stdout",
     "output_type": "stream",
     "text": [
      "[3, 4, 5]\n"
     ]
    }
   ],
   "source": [
    "print( list( filter( lambda x: x>2  , l1 ) ) )"
   ]
  },
  {
   "cell_type": "code",
   "execution_count": 553,
   "id": "c54455ab",
   "metadata": {},
   "outputs": [
    {
     "name": "stdout",
     "output_type": "stream",
     "text": [
      "[1, 4, 9, 16, 25]\n"
     ]
    }
   ],
   "source": [
    "print( list(map( lambda x :x**2  , l1) ) )"
   ]
  },
  {
   "cell_type": "code",
   "execution_count": 567,
   "id": "6fbbc261",
   "metadata": {},
   "outputs": [
    {
     "name": "stdout",
     "output_type": "stream",
     "text": [
      "True\n"
     ]
    }
   ],
   "source": [
    "def getPerfect(num):\n",
    "    sum = 0\n",
    "    for i in range(1, num):\n",
    "        if num % i == 0:\n",
    "            sum += i\n",
    "            \n",
    "            \n",
    "    return sum == num\n",
    "    \n",
    "res = getPerfect(6)\n",
    "print(res)"
   ]
  },
  {
   "cell_type": "code",
   "execution_count": 16,
   "id": "8415946e",
   "metadata": {},
   "outputs": [
    {
     "name": "stdout",
     "output_type": "stream",
     "text": [
      "(1, 1)\n"
     ]
    }
   ],
   "source": [
    "def getClosest(param, criteria):\n",
    "    d = dict()\n",
    "    for x in param:\n",
    "        res = ((x[0] - criteria[0])**2 + (x[1] - criteria[1])**2 ) ** 0.5\n",
    "        d[res] = x\n",
    "        \n",
    "    return d[sorted(d)[0]]\n",
    "\n",
    "res = getClosest([(1,1),(2,2),(3,3),(4,4)], (1,1))\n",
    "print(res)"
   ]
  },
  {
   "cell_type": "code",
   "execution_count": 21,
   "id": "7e182977",
   "metadata": {},
   "outputs": [
    {
     "name": "stdout",
     "output_type": "stream",
     "text": [
      "[1, 2, 3, 4, 5, 6, 7, 8, 9]\n",
      "[12, 15, 18]\n"
     ]
    }
   ],
   "source": [
    "l1 = [1,2,3]\n",
    "l2 = [4,5,6]\n",
    "l3 = [7,8,9]\n",
    "\n",
    "res = lambda l1,l2,l3 : l1+l2+l3\n",
    "\n",
    "print(res(l1, l2, l3))\n",
    "\n",
    "print(list( map( lambda l1,l2,l3 : l1+l2+l3  , l1,l2,l3  )   )) \n",
    "\n"
   ]
  },
  {
   "cell_type": "code",
   "execution_count": 30,
   "id": "cdac755f",
   "metadata": {
    "scrolled": true
   },
   "outputs": [
    {
     "name": "stdout",
     "output_type": "stream",
     "text": [
      "[1, 2, 9, 64, 625, 7776]\n"
     ]
    }
   ],
   "source": [
    "list1 = [1,2,3,4,5,6]\n",
    "\n",
    "\n",
    "print(list( map( lambda value: value[1]**value[0] , enumerate(list1)) ))"
   ]
  },
  {
   "cell_type": "code",
   "execution_count": 37,
   "id": "90987c00",
   "metadata": {
    "scrolled": false
   },
   "outputs": [
    {
     "name": "stdout",
     "output_type": "stream",
     "text": [
      "['e', 'o', 'o', 'o', 'i', 'a', 'a', 'i']\n"
     ]
    }
   ],
   "source": [
    "str1 = \"Hello World, Python is Amazing!\"\n",
    "vowels = \"aeiou\"\n",
    "print( list(  filter( lambda x : x in vowels   , str1.lower() )   )  "
   ]
  },
  {
   "cell_type": "code",
   "execution_count": 41,
   "id": "aec9a9a3",
   "metadata": {
    "scrolled": true
   },
   "outputs": [
    {
     "name": "stdout",
     "output_type": "stream",
     "text": [
      "[1, 2, 3, 4, 5, 6, 7, 8, 9]\n"
     ]
    }
   ],
   "source": [
    "from functools import reduce\n",
    "\n",
    "l1 = [[1,2,3],[4,5,6],[7,8,9]]\n",
    "\n",
    "print(list( reduce( lambda x,y: x+y   , l1  )  ))"
   ]
  },
  {
   "cell_type": "code",
   "execution_count": 49,
   "id": "87ec2a01",
   "metadata": {},
   "outputs": [
    {
     "name": "stdout",
     "output_type": "stream",
     "text": [
      "['cat mat rat sat', 'hat bat fat kat', 'lat rat cat sat']\n",
      "{'bat', 'hat', 'lat', 'kat', 'mat', 'cat', 'sat', 'fat', 'rat'}\n",
      "Result is  [[0, 0, 0, 0, 1, 1, 1, 0, 1], [1, 1, 0, 1, 0, 0, 0, 1, 0], [0, 0, 1, 0, 0, 1, 1, 0, 1]]\n"
     ]
    }
   ],
   "source": [
    "def bow(l):\n",
    "    vocab = set()\n",
    "    for x in l:\n",
    "        vocab.update(x.split(' '))\n",
    "        \n",
    "    print(l)\n",
    "    print(vocab)\n",
    "    \n",
    "    result = []\n",
    "    for y in l:\n",
    "        result.append([])\n",
    "        for z in vocab:\n",
    "            result[-1].append(y.count(z))\n",
    "            \n",
    "\n",
    "    return result\n",
    "\n",
    "\n",
    "\n",
    "l = [\n",
    "    'cat mat rat sat',\n",
    "    'hat bat fat kat',\n",
    "    'lat rat cat sat'\n",
    "]\n",
    "res = bow(l)\n",
    "print(\"Result is \", res)\n"
   ]
  },
  {
   "cell_type": "code",
   "execution_count": null,
   "id": "44ca7afa",
   "metadata": {},
   "outputs": [],
   "source": []
  }
 ],
 "metadata": {
  "kernelspec": {
   "display_name": "Python 3 (ipykernel)",
   "language": "python",
   "name": "python3"
  },
  "language_info": {
   "codemirror_mode": {
    "name": "ipython",
    "version": 3
   },
   "file_extension": ".py",
   "mimetype": "text/x-python",
   "name": "python",
   "nbconvert_exporter": "python",
   "pygments_lexer": "ipython3",
   "version": "3.12.3"
  }
 },
 "nbformat": 4,
 "nbformat_minor": 5
}
