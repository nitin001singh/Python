{
 "cells": [
  {
   "cell_type": "code",
   "execution_count": 3,
   "id": "e07a3870",
   "metadata": {},
   "outputs": [],
   "source": [
    "import numpy as np"
   ]
  },
  {
   "cell_type": "code",
   "execution_count": 202,
   "id": "f1437326",
   "metadata": {},
   "outputs": [
    {
     "data": {
      "text/plain": [
       "array([nan, nan, nan, nan,  1., nan, nan, nan, nan, nan])"
      ]
     },
     "execution_count": 202,
     "metadata": {},
     "output_type": "execute_result"
    }
   ],
   "source": [
    "# a = np.array([0,0,0,0,1,0,0,0,0,0], dtype='int32')\n",
    "# a\n",
    "\n",
    "a = np.empty(10) * np.nan\n",
    "a[4] = 1\n",
    "a"
   ]
  },
  {
   "cell_type": "code",
   "execution_count": 203,
   "id": "a0a16803",
   "metadata": {},
   "outputs": [
    {
     "name": "stdout",
     "output_type": "stream",
     "text": [
      "Enter Two number with comma seperated2,5\n",
      "[[94.25126749 88.69696255 28.25373188 16.68631217 82.26633269]\n",
      " [22.68476339 81.97936003 38.77419026 57.19037012  1.13752906]]\n",
      "2\n",
      "51.19208196521806\n",
      "511.92081965218057\n",
      "94.25126749340902\n",
      "1.1375290561085105\n",
      "51.19208196521806\n"
     ]
    }
   ],
   "source": [
    "a,b = map(int, input(\"Enter Two number with comma seperated\").split(\",\"))\n",
    "a1 = np.random.random((a,b)) * 100\n",
    "print(a1)\n",
    "print(len(a1))\n",
    "avg = np.mean(a1)\n",
    "print(avg)\n",
    "sum1 = np.sum(a1)\n",
    "print(sum1)\n",
    "max1 = np.max(a1)\n",
    "print(max1)\n",
    "min1 = np.min(a1)\n",
    "print(min1)\n",
    "print(a1.mean())"
   ]
  },
  {
   "cell_type": "code",
   "execution_count": 206,
   "id": "3f3d935f",
   "metadata": {},
   "outputs": [
    {
     "name": "stdout",
     "output_type": "stream",
     "text": [
      "[[1. 1. 1. 1. 1.]\n",
      " [1. 0. 0. 0. 1.]\n",
      " [1. 0. 0. 0. 1.]\n",
      " [1. 0. 0. 0. 1.]\n",
      " [1. 1. 1. 1. 1.]]\n"
     ]
    }
   ],
   "source": [
    "def make2d(a,b):\n",
    "    ones =  np.ones((a,b))\n",
    "    ones[1:-1, 1:-1] = 0\n",
    "    return ones\n",
    "\n",
    "res =make2d(5,5)\n",
    "print(res)"
   ]
  },
  {
   "cell_type": "code",
   "execution_count": 56,
   "id": "6f2ece1c",
   "metadata": {},
   "outputs": [
    {
     "data": {
      "text/plain": [
       "array([0.09090909, 0.18181818, 0.27272727, 0.36363636, 0.45454545,\n",
       "       0.54545455, 0.63636364, 0.72727273, 0.81818182, 0.90909091])"
      ]
     },
     "execution_count": 56,
     "metadata": {},
     "output_type": "execute_result"
    }
   ],
   "source": [
    "a2 = np.linspace(0,1,12)[1:-1]\n",
    "a2"
   ]
  },
  {
   "cell_type": "code",
   "execution_count": 68,
   "id": "71f41c1e",
   "metadata": {},
   "outputs": [
    {
     "data": {
      "text/plain": [
       "array([[0, 1, 2, 3, 4],\n",
       "       [0, 1, 2, 3, 4],\n",
       "       [0, 1, 2, 3, 4],\n",
       "       [0, 1, 2, 3, 4],\n",
       "       [0, 1, 2, 3, 4]])"
      ]
     },
     "execution_count": 68,
     "metadata": {},
     "output_type": "execute_result"
    }
   ],
   "source": [
    "a = np.zeros((5,5) , dtype=\"int32\")\n",
    "b = np.arange(5)\n",
    "c = a + b\n",
    "c"
   ]
  },
  {
   "cell_type": "code",
   "execution_count": 74,
   "id": "671ec165",
   "metadata": {},
   "outputs": [
    {
     "data": {
      "text/plain": [
       "array([[70, 49],\n",
       "       [81, 52],\n",
       "       [32, 63],\n",
       "       [56, 43],\n",
       "       [ 7, 20],\n",
       "       [67, 78],\n",
       "       [29, 25],\n",
       "       [73, 65],\n",
       "       [92, 93],\n",
       "       [91, 24]])"
      ]
     },
     "execution_count": 74,
     "metadata": {},
     "output_type": "execute_result"
    }
   ],
   "source": [
    "a = np.random.randint(1,101, size=(10,2))\n",
    "\n",
    "point = np.array([2,3])\n",
    "point\n",
    "distance = a - point\n",
    "distance"
   ]
  },
  {
   "cell_type": "code",
   "execution_count": 209,
   "id": "cce55ebf",
   "metadata": {},
   "outputs": [
    {
     "data": {
      "text/plain": [
       "(1, 5, 4)"
      ]
     },
     "execution_count": 209,
     "metadata": {},
     "output_type": "execute_result"
    }
   ],
   "source": [
    "# a = np.arange(336).reshape(6,7,8)\n",
    "# a\n",
    "\n",
    "np.unravel_index(100, (6,7,8))"
   ]
  },
  {
   "cell_type": "code",
   "execution_count": 208,
   "id": "28f09f43",
   "metadata": {},
   "outputs": [
    {
     "data": {
      "text/plain": [
       "array([100])"
      ]
     },
     "execution_count": 208,
     "metadata": {},
     "output_type": "execute_result"
    }
   ],
   "source": [
    "a[1,5:6,4]"
   ]
  },
  {
   "cell_type": "code",
   "execution_count": 89,
   "id": "e0f5ae65",
   "metadata": {},
   "outputs": [
    {
     "data": {
      "text/plain": [
       "array([-10.,  -8.,   4.,   3.,   2.,   1.])"
      ]
     },
     "execution_count": 89,
     "metadata": {},
     "output_type": "execute_result"
    }
   ],
   "source": [
    "l = \"1 2 3 4 -8 -10\".split(\" \")\n",
    "l1 = np.array(l , dtype=\"float\")\n",
    "l1[::-1]"
   ]
  },
  {
   "cell_type": "code",
   "execution_count": 211,
   "id": "573ee6ab",
   "metadata": {},
   "outputs": [
    {
     "data": {
      "text/plain": [
       "3"
      ]
     },
     "execution_count": 211,
     "metadata": {},
     "output_type": "execute_result"
    }
   ],
   "source": [
    "a = np.array([2,4,5])\n",
    "np.size(a)"
   ]
  },
  {
   "cell_type": "code",
   "execution_count": 101,
   "id": "874f8979",
   "metadata": {},
   "outputs": [
    {
     "ename": "ValueError",
     "evalue": "could not convert string to float: ''",
     "output_type": "error",
     "traceback": [
      "\u001b[0;31m---------------------------------------------------------------------------\u001b[0m",
      "\u001b[0;31mValueError\u001b[0m                                Traceback (most recent call last)",
      "Cell \u001b[0;32mIn[101], line 2\u001b[0m\n\u001b[1;32m      1\u001b[0m l1 \u001b[38;5;241m=\u001b[39m \u001b[38;5;124m\"\u001b[39m\u001b[38;5;124m86.03331084 37.7285648  48.64908087 87.16563062 38.40852563 37.20006318\u001b[39m\u001b[38;5;124m\"\u001b[39m\u001b[38;5;241m.\u001b[39msplit(\u001b[38;5;124m\"\u001b[39m\u001b[38;5;124m \u001b[39m\u001b[38;5;124m\"\u001b[39m)\n\u001b[0;32m----> 2\u001b[0m a \u001b[38;5;241m=\u001b[39m \u001b[43mnp\u001b[49m\u001b[38;5;241;43m.\u001b[39;49m\u001b[43marray\u001b[49m\u001b[43m(\u001b[49m\u001b[43ml1\u001b[49m\u001b[43m,\u001b[49m\u001b[43m \u001b[49m\u001b[43mdtype\u001b[49m\u001b[38;5;241;43m=\u001b[39;49m\u001b[38;5;124;43m\"\u001b[39;49m\u001b[38;5;124;43mfloat\u001b[39;49m\u001b[38;5;124;43m\"\u001b[39;49m\u001b[43m)\u001b[49m\n\u001b[1;32m      3\u001b[0m a\n",
      "\u001b[0;31mValueError\u001b[0m: could not convert string to float: ''"
     ]
    }
   ],
   "source": [
    "l1 = \"86.03331084 37.7285648  48.64908087 87.16563062 38.40852563 37.20006318\".split(\" \")\n",
    "a = np.array(l1, dtype=\"float\")\n",
    "a"
   ]
  },
  {
   "cell_type": "code",
   "execution_count": 115,
   "id": "b3d61c92",
   "metadata": {},
   "outputs": [
    {
     "data": {
      "text/plain": [
       "array([[0.        , 1.        , 2.        , 3.        , 4.        ],\n",
       "       [5.        , 6.        , 7.        , 8.        , 9.        ],\n",
       "       [1.        , 1.        , 1.        , 1.        , 1.        ],\n",
       "       [1.        , 1.        , 1.        , 1.        , 1.        ],\n",
       "       [0.10117373, 0.1677244 , 0.73764059, 0.83166097, 0.48985695],\n",
       "       [0.44581567, 0.13502419, 0.55692335, 0.16479622, 0.61193593]])"
      ]
     },
     "execution_count": 115,
     "metadata": {},
     "output_type": "execute_result"
    }
   ],
   "source": [
    "def makearr(*arg):\n",
    "    opt = np.vstack(arg)\n",
    "    return opt\n",
    "\n",
    "\n",
    "a= [[0,1,2,3,4],\n",
    " [5,6,7,8,9]]\n",
    "\n",
    "b= [[1,1,1,1,1],\n",
    " [1,1,1,1,1]]\n",
    "\n",
    "c= [[0.10117373, 0.1677244 , 0.73764059, 0.83166097 ,0.48985695],\n",
    " [0.44581567, 0.13502419, 0.55692335, 0.16479622, 0.61193593]] \n",
    "\n",
    "\n",
    "res = makearr(a,b,c)\n",
    "res"
   ]
  },
  {
   "cell_type": "code",
   "execution_count": 117,
   "id": "18260a79",
   "metadata": {},
   "outputs": [
    {
     "data": {
      "text/plain": [
       "array([[ 0,  1,  2,  3],\n",
       "       [ 4,  5,  6,  7],\n",
       "       [ 8,  9, 10, 11]])"
      ]
     },
     "execution_count": 117,
     "metadata": {},
     "output_type": "execute_result"
    }
   ],
   "source": [
    "a = np.arange(12).reshape(3,4)\n",
    "a"
   ]
  },
  {
   "cell_type": "code",
   "execution_count": 128,
   "id": "6ae2f95b",
   "metadata": {},
   "outputs": [
    {
     "name": "stdout",
     "output_type": "stream",
     "text": [
      "[[1.5]\n",
      " [5.5]\n",
      " [9.5]]\n",
      "[[-1.5 -0.5  0.5  1.5]\n",
      " [-1.5 -0.5  0.5  1.5]\n",
      " [-1.5 -0.5  0.5  1.5]]\n"
     ]
    }
   ],
   "source": [
    "row_mean  = np.mean(a, axis=1,  keepdims=True)\n",
    "print(row_mean)\n",
    "print(a - row_mean)\n"
   ]
  },
  {
   "cell_type": "code",
   "execution_count": 126,
   "id": "fe475733",
   "metadata": {},
   "outputs": [
    {
     "data": {
      "text/plain": [
       "array([[-1.5, -0.5,  0.5,  1.5],\n",
       "       [-1.5, -0.5,  0.5,  1.5],\n",
       "       [-1.5, -0.5,  0.5,  1.5]])"
      ]
     },
     "execution_count": 126,
     "metadata": {},
     "output_type": "execute_result"
    }
   ],
   "source": []
  },
  {
   "cell_type": "code",
   "execution_count": 129,
   "id": "f787dbc0",
   "metadata": {},
   "outputs": [
    {
     "data": {
      "text/plain": [
       "array([[ 0,  1,  2,  3],\n",
       "       [ 4,  5,  6,  7],\n",
       "       [ 8,  9, 10, 11]])"
      ]
     },
     "execution_count": 129,
     "metadata": {},
     "output_type": "execute_result"
    }
   ],
   "source": [
    "a"
   ]
  },
  {
   "cell_type": "code",
   "execution_count": 178,
   "id": "c0d44ae7",
   "metadata": {
    "scrolled": true
   },
   "outputs": [
    {
     "data": {
      "text/plain": [
       "array([[ 0,  1,  2,  3],\n",
       "       [ 4,  5,  6,  7],\n",
       "       [ 8,  9, 10, 11]])"
      ]
     },
     "execution_count": 178,
     "metadata": {},
     "output_type": "execute_result"
    }
   ],
   "source": [
    "a1 = np.arange(12).reshape(3,4)\n",
    "a1"
   ]
  },
  {
   "cell_type": "code",
   "execution_count": 179,
   "id": "a2f9220e",
   "metadata": {},
   "outputs": [
    {
     "data": {
      "text/plain": [
       "array([[ 0,  1,  2,  3],\n",
       "       [ 4,  5,  6,  7],\n",
       "       [ 8,  9, 10, 11]])"
      ]
     },
     "execution_count": 179,
     "metadata": {},
     "output_type": "execute_result"
    }
   ],
   "source": [
    "a1"
   ]
  },
  {
   "cell_type": "code",
   "execution_count": 182,
   "id": "ec763e61",
   "metadata": {},
   "outputs": [],
   "source": [
    "a1[:,[1,0]] = a1[:,[0,1]]"
   ]
  },
  {
   "cell_type": "code",
   "execution_count": 183,
   "id": "8dc919eb",
   "metadata": {},
   "outputs": [
    {
     "data": {
      "text/plain": [
       "array([[ 1,  0,  2,  3],\n",
       "       [ 5,  4,  6,  7],\n",
       "       [ 9,  8, 10, 11]])"
      ]
     },
     "execution_count": 183,
     "metadata": {},
     "output_type": "execute_result"
    }
   ],
   "source": [
    "a1"
   ]
  },
  {
   "cell_type": "code",
   "execution_count": 8,
   "id": "2ff8ff63",
   "metadata": {},
   "outputs": [
    {
     "data": {
      "text/plain": [
       "array([6, 3, 1, 7, 8])"
      ]
     },
     "execution_count": 8,
     "metadata": {},
     "output_type": "execute_result"
    }
   ],
   "source": [
    "a=np.array([6,3,1,5,8])\n",
    "b=np.array([3,2,1,7,2])\n",
    "a,b\n",
    "res = np.maximum(a,b)\n",
    "res"
   ]
  },
  {
   "cell_type": "code",
   "execution_count": 19,
   "id": "10539495",
   "metadata": {},
   "outputs": [
    {
     "data": {
      "text/plain": [
       "array([6, 3, 1, 7, 8])"
      ]
     },
     "execution_count": 19,
     "metadata": {},
     "output_type": "execute_result"
    }
   ],
   "source": [
    "a=np.array([6,3,1,5,8])\n",
    "b=np.array([3,2,1,7,2])\n",
    "\n",
    "# a[b>a] = b[a<b]\n",
    "# a\n",
    "a[b>a] = b[a<b]\n",
    "a"
   ]
  },
  {
   "cell_type": "code",
   "execution_count": 7,
   "id": "cfd31d99",
   "metadata": {},
   "outputs": [
    {
     "data": {
      "text/plain": [
       "array([[ 0, -1,  2],\n",
       "       [-1,  4, -1],\n",
       "       [ 6, -1,  8],\n",
       "       [-1, 10, -1]])"
      ]
     },
     "execution_count": 7,
     "metadata": {},
     "output_type": "execute_result"
    }
   ],
   "source": [
    "# a = np.arange(12).reshape(4,3)\n",
    "# it = np.nditer(a)\n",
    "# l1 = []\n",
    "# for x in it:\n",
    "#     if x % 2 != 0:\n",
    "#         l1.append(-1)\n",
    "#     else:\n",
    "#         l1.append(x)\n",
    "        \n",
    "# res = np.array(l1).reshape(4,3)\n",
    "# res\n",
    "\n",
    "a = np.arange(12).reshape(4,3)\n",
    "a[a%2 == 1] = -1\n",
    "a"
   ]
  },
  {
   "cell_type": "code",
   "execution_count": null,
   "id": "74da3ad7",
   "metadata": {},
   "outputs": [],
   "source": []
  },
  {
   "cell_type": "code",
   "execution_count": 40,
   "id": "e373bb6f",
   "metadata": {
    "scrolled": true
   },
   "outputs": [
    {
     "data": {
      "text/plain": [
       "array([[5164, 5113, 4561, 6972, 8355],\n",
       "       [8002, 9647, 2877, 2267, 7049],\n",
       "       [ 156, 9008, 7577, 3867, 2758],\n",
       "       [1712, 7539, 2368,  724, 9399],\n",
       "       [3330, 8214, 4207, 8690, 2196],\n",
       "       [4280, 7368, 4186,  115, 1451],\n",
       "       [1675, 9932, 4280, 7445, 7724],\n",
       "       [3546, 2453, 6076, 2902, 7398]])"
      ]
     },
     "execution_count": 40,
     "metadata": {},
     "output_type": "execute_result"
    }
   ],
   "source": [
    "arr1=np.random.randint(low=1, high=10000, size=40).reshape(8,5)\n",
    "arr1"
   ]
  },
  {
   "cell_type": "code",
   "execution_count": 49,
   "id": "9e450f96",
   "metadata": {},
   "outputs": [],
   "source": [
    "x = arr1[0:, 0::2]"
   ]
  },
  {
   "cell_type": "code",
   "execution_count": 51,
   "id": "947ebd92",
   "metadata": {},
   "outputs": [
    {
     "data": {
      "text/plain": [
       "array([[0.54181543, 0.47657687, 0.88704966],\n",
       "       [0.8488586 , 0.29438494, 0.74575354],\n",
       "       [0.        , 0.80287785, 0.28151033],\n",
       "       [0.16834361, 0.23931624, 1.        ],\n",
       "       [0.343395  , 0.43827762, 0.22070756],\n",
       "       [0.44617548, 0.43600563, 0.14010603],\n",
       "       [0.16434058, 0.44617548, 0.81878178],\n",
       "       [0.36676404, 0.64048469, 0.78351185]])"
      ]
     },
     "execution_count": 51,
     "metadata": {},
     "output_type": "execute_result"
    }
   ],
   "source": [
    "(x - x.min()) / (x.max() - x.min())"
   ]
  },
  {
   "cell_type": "code",
   "execution_count": null,
   "id": "59ee406b",
   "metadata": {},
   "outputs": [],
   "source": []
  },
  {
   "cell_type": "code",
   "execution_count": 217,
   "id": "7920e02b",
   "metadata": {},
   "outputs": [
    {
     "data": {
      "text/plain": [
       "array([[1., 0., 0., 0., 0.],\n",
       "       [0., 1., 0., 0., 0.],\n",
       "       [0., 0., 1., 0., 0.],\n",
       "       [0., 0., 0., 1., 0.],\n",
       "       [0., 0., 0., 0., 1.]])"
      ]
     },
     "execution_count": 217,
     "metadata": {},
     "output_type": "execute_result"
    }
   ],
   "source": [
    "np.eye(5)"
   ]
  },
  {
   "cell_type": "code",
   "execution_count": 222,
   "id": "f8ea11bf",
   "metadata": {},
   "outputs": [
    {
     "data": {
      "text/plain": [
       "25"
      ]
     },
     "execution_count": 222,
     "metadata": {},
     "output_type": "execute_result"
    }
   ],
   "source": [
    "np.eye(5).size"
   ]
  },
  {
   "cell_type": "code",
   "execution_count": 20,
   "id": "c3fe09d5",
   "metadata": {},
   "outputs": [],
   "source": [
    "a = np.array([1,2,3])"
   ]
  },
  {
   "cell_type": "code",
   "execution_count": 21,
   "id": "a9a3c2f2",
   "metadata": {},
   "outputs": [
    {
     "data": {
      "text/plain": [
       "array([1, 2, 3])"
      ]
     },
     "execution_count": 21,
     "metadata": {},
     "output_type": "execute_result"
    }
   ],
   "source": [
    "a"
   ]
  },
  {
   "cell_type": "code",
   "execution_count": 31,
   "id": "adaaebc2",
   "metadata": {},
   "outputs": [
    {
     "data": {
      "text/plain": [
       "array([1, 1, 1, 2, 2, 2, 3, 3, 3, 1, 2, 3, 1, 2, 3, 1, 2, 3])"
      ]
     },
     "execution_count": 31,
     "metadata": {},
     "output_type": "execute_result"
    }
   ],
   "source": [
    "np.hstack([np.repeat(a,3),np.tile(a,3)])"
   ]
  },
  {
   "cell_type": "code",
   "execution_count": 52,
   "id": "9b45f43d",
   "metadata": {},
   "outputs": [
    {
     "data": {
      "text/plain": [
       "34"
      ]
     },
     "execution_count": 52,
     "metadata": {},
     "output_type": "execute_result"
    }
   ],
   "source": [
    "def func(arr,n):\n",
    "    if n > len(arr):\n",
    "        raise IndexError(\"Index error\")\n",
    "    \n",
    "    arr.sort()\n",
    "    return arr[-n]\n",
    "    \n",
    "func([12,34,40,7,1,0], 2)"
   ]
  },
  {
   "cell_type": "code",
   "execution_count": 79,
   "id": "9ec120cb",
   "metadata": {},
   "outputs": [
    {
     "name": "stdout",
     "output_type": "stream",
     "text": [
      "['2020-09-25' '2020-09-26' '2020-09-27' '2020-09-28' '2020-09-29'\n",
      " '2020-09-30' '2020-10-01' '2020-10-02' '2020-10-03' '2020-10-04'\n",
      " '2020-10-05']\n"
     ]
    }
   ],
   "source": [
    "def date_array(**kwargs):\n",
    "    start = np.datetime64(kwargs['start'])\n",
    "    end   = np.datetime64(kwargs['end']) + + np.timedelta64(1, 'D')\n",
    "    arr= np.arange(start, end,  dtype='datetime64[D]')\n",
    "    print(arr)\n",
    "    \n",
    "\n",
    "date_array(start = '2020-09-25', end = '2020-10-05')"
   ]
  },
  {
   "cell_type": "code",
   "execution_count": 82,
   "id": "2900217f",
   "metadata": {},
   "outputs": [],
   "source": [
    "l1 = np.array([86.03331084 ,37.7285648,  48.64908087, 87.16563062 ,38.40852563 ,37.20006318])"
   ]
  },
  {
   "cell_type": "code",
   "execution_count": null,
   "id": "3069bb7b",
   "metadata": {},
   "outputs": [],
   "source": []
  },
  {
   "cell_type": "code",
   "execution_count": 89,
   "id": "7f233468",
   "metadata": {},
   "outputs": [
    {
     "data": {
      "text/plain": [
       "array([2.43733248e-01, 2.56112114e-22, 1.41628283e-17, 7.56266752e-01,\n",
       "       5.05514197e-22, 1.50974911e-22])"
      ]
     },
     "execution_count": 89,
     "metadata": {},
     "output_type": "execute_result"
    }
   ],
   "source": [
    "np.exp(l1) / np.sum(np.exp(l1))"
   ]
  },
  {
   "cell_type": "code",
   "execution_count": 91,
   "id": "cd003cdf",
   "metadata": {},
   "outputs": [
    {
     "data": {
      "text/plain": [
       "3"
      ]
     },
     "execution_count": 91,
     "metadata": {},
     "output_type": "execute_result"
    }
   ],
   "source": [
    "np.size(np.array([1,2,3]))"
   ]
  },
  {
   "cell_type": "code",
   "execution_count": 92,
   "id": "b2cf5ca9",
   "metadata": {},
   "outputs": [
    {
     "data": {
      "text/plain": [
       "array([[1., 0., 0., 0., 0.],\n",
       "       [0., 1., 0., 0., 0.],\n",
       "       [0., 0., 1., 0., 0.],\n",
       "       [0., 0., 0., 1., 0.],\n",
       "       [0., 0., 0., 0., 1.]])"
      ]
     },
     "execution_count": 92,
     "metadata": {},
     "output_type": "execute_result"
    }
   ],
   "source": [
    "np.eye(5)"
   ]
  },
  {
   "cell_type": "code",
   "execution_count": 101,
   "id": "c1200b6d",
   "metadata": {},
   "outputs": [],
   "source": [
    "arr = np.arange(336).reshape(6,7,8)"
   ]
  },
  {
   "cell_type": "code",
   "execution_count": 102,
   "id": "fe04a314",
   "metadata": {},
   "outputs": [
    {
     "data": {
      "text/plain": [
       "array([[[  0,   1,   2,   3,   4,   5,   6,   7],\n",
       "        [  8,   9,  10,  11,  12,  13,  14,  15],\n",
       "        [ 16,  17,  18,  19,  20,  21,  22,  23],\n",
       "        [ 24,  25,  26,  27,  28,  29,  30,  31],\n",
       "        [ 32,  33,  34,  35,  36,  37,  38,  39],\n",
       "        [ 40,  41,  42,  43,  44,  45,  46,  47],\n",
       "        [ 48,  49,  50,  51,  52,  53,  54,  55]],\n",
       "\n",
       "       [[ 56,  57,  58,  59,  60,  61,  62,  63],\n",
       "        [ 64,  65,  66,  67,  68,  69,  70,  71],\n",
       "        [ 72,  73,  74,  75,  76,  77,  78,  79],\n",
       "        [ 80,  81,  82,  83,  84,  85,  86,  87],\n",
       "        [ 88,  89,  90,  91,  92,  93,  94,  95],\n",
       "        [ 96,  97,  98,  99, 100, 101, 102, 103],\n",
       "        [104, 105, 106, 107, 108, 109, 110, 111]],\n",
       "\n",
       "       [[112, 113, 114, 115, 116, 117, 118, 119],\n",
       "        [120, 121, 122, 123, 124, 125, 126, 127],\n",
       "        [128, 129, 130, 131, 132, 133, 134, 135],\n",
       "        [136, 137, 138, 139, 140, 141, 142, 143],\n",
       "        [144, 145, 146, 147, 148, 149, 150, 151],\n",
       "        [152, 153, 154, 155, 156, 157, 158, 159],\n",
       "        [160, 161, 162, 163, 164, 165, 166, 167]],\n",
       "\n",
       "       [[168, 169, 170, 171, 172, 173, 174, 175],\n",
       "        [176, 177, 178, 179, 180, 181, 182, 183],\n",
       "        [184, 185, 186, 187, 188, 189, 190, 191],\n",
       "        [192, 193, 194, 195, 196, 197, 198, 199],\n",
       "        [200, 201, 202, 203, 204, 205, 206, 207],\n",
       "        [208, 209, 210, 211, 212, 213, 214, 215],\n",
       "        [216, 217, 218, 219, 220, 221, 222, 223]],\n",
       "\n",
       "       [[224, 225, 226, 227, 228, 229, 230, 231],\n",
       "        [232, 233, 234, 235, 236, 237, 238, 239],\n",
       "        [240, 241, 242, 243, 244, 245, 246, 247],\n",
       "        [248, 249, 250, 251, 252, 253, 254, 255],\n",
       "        [256, 257, 258, 259, 260, 261, 262, 263],\n",
       "        [264, 265, 266, 267, 268, 269, 270, 271],\n",
       "        [272, 273, 274, 275, 276, 277, 278, 279]],\n",
       "\n",
       "       [[280, 281, 282, 283, 284, 285, 286, 287],\n",
       "        [288, 289, 290, 291, 292, 293, 294, 295],\n",
       "        [296, 297, 298, 299, 300, 301, 302, 303],\n",
       "        [304, 305, 306, 307, 308, 309, 310, 311],\n",
       "        [312, 313, 314, 315, 316, 317, 318, 319],\n",
       "        [320, 321, 322, 323, 324, 325, 326, 327],\n",
       "        [328, 329, 330, 331, 332, 333, 334, 335]]])"
      ]
     },
     "execution_count": 102,
     "metadata": {},
     "output_type": "execute_result"
    }
   ],
   "source": [
    "arr"
   ]
  },
  {
   "cell_type": "code",
   "execution_count": 104,
   "id": "4f02186a",
   "metadata": {},
   "outputs": [
    {
     "data": {
      "text/plain": [
       "(1, 5, 4)"
      ]
     },
     "execution_count": 104,
     "metadata": {},
     "output_type": "execute_result"
    }
   ],
   "source": [
    "np.unravel_index(100,(6,7,8))"
   ]
  },
  {
   "cell_type": "code",
   "execution_count": 137,
   "id": "c5113300",
   "metadata": {},
   "outputs": [
    {
     "data": {
      "text/plain": [
       "array([[83, 73],\n",
       "       [ 9, 95],\n",
       "       [11, 35],\n",
       "       [13, 32],\n",
       "       [33, 56],\n",
       "       [25,  7],\n",
       "       [93, 36],\n",
       "       [56, 95],\n",
       "       [97, 34],\n",
       "       [83, 61]])"
      ]
     },
     "execution_count": 137,
     "metadata": {},
     "output_type": "execute_result"
    }
   ],
   "source": [
    "arr = np.random.randint(1,100, size= (10,2))\n",
    "arr"
   ]
  },
  {
   "cell_type": "code",
   "execution_count": 141,
   "id": "746adc70",
   "metadata": {},
   "outputs": [
    {
     "data": {
      "text/plain": [
       "array([2, 3])"
      ]
     },
     "execution_count": 141,
     "metadata": {},
     "output_type": "execute_result"
    }
   ],
   "source": [
    "point = np.array([2,3]) \n",
    "point"
   ]
  },
  {
   "cell_type": "code",
   "execution_count": 139,
   "id": "335c7718",
   "metadata": {},
   "outputs": [
    {
     "data": {
      "text/plain": [
       "array([[6561, 4900],\n",
       "       [  49, 8464],\n",
       "       [  81, 1024],\n",
       "       [ 121,  841],\n",
       "       [ 961, 2809],\n",
       "       [ 529,   16],\n",
       "       [8281, 1089],\n",
       "       [2916, 8464],\n",
       "       [9025,  961],\n",
       "       [6561, 3364]])"
      ]
     },
     "execution_count": 139,
     "metadata": {},
     "output_type": "execute_result"
    }
   ],
   "source": []
  },
  {
   "cell_type": "code",
   "execution_count": 144,
   "id": "0dadb951",
   "metadata": {},
   "outputs": [
    {
     "data": {
      "text/plain": [
       "array([107,  92,  33,  31,  61,  23,  96, 106,  99,  99], dtype=int32)"
      ]
     },
     "execution_count": 144,
     "metadata": {},
     "output_type": "execute_result"
    }
   ],
   "source": [
    "np.sqrt(np.sum((arr - point)**2 , axis=1)).astype('int32')"
   ]
  },
  {
   "cell_type": "code",
   "execution_count": 147,
   "id": "7b3d5373",
   "metadata": {},
   "outputs": [
    {
     "data": {
      "text/plain": [
       "10000112"
      ]
     },
     "execution_count": 147,
     "metadata": {},
     "output_type": "execute_result"
    }
   ],
   "source": [
    "import sys\n",
    "a = np.arange(10000000, dtype=\"int8\")\n",
    "sys.getsizeof(a)"
   ]
  },
  {
   "cell_type": "code",
   "execution_count": 148,
   "id": "48f17cee",
   "metadata": {},
   "outputs": [
    {
     "data": {
      "text/plain": [
       "array([  0,   1,   2, ..., 125, 126, 127], dtype=int8)"
      ]
     },
     "execution_count": 148,
     "metadata": {},
     "output_type": "execute_result"
    }
   ],
   "source": [
    "a"
   ]
  },
  {
   "cell_type": "code",
   "execution_count": 308,
   "id": "497e9ff5",
   "metadata": {},
   "outputs": [
    {
     "data": {
      "text/plain": [
       "array([10, 17, 24, 31, 38, 45,  2, 52, 59])"
      ]
     },
     "execution_count": 308,
     "metadata": {},
     "output_type": "execute_result"
    }
   ],
   "source": [
    "l = np.array([10,17 ,24 ,31, 38, 45,2, 52, 59])\n",
    "a = 37\n",
    "\n",
    "l"
   ]
  },
  {
   "cell_type": "code",
   "execution_count": null,
   "id": "6c99f7ce",
   "metadata": {},
   "outputs": [],
   "source": []
  },
  {
   "cell_type": "code",
   "execution_count": 309,
   "id": "f3829094",
   "metadata": {},
   "outputs": [
    {
     "data": {
      "text/plain": [
       "38"
      ]
     },
     "execution_count": 309,
     "metadata": {},
     "output_type": "execute_result"
    }
   ],
   "source": [
    "l[np.argmin(abs(l-a)) ]"
   ]
  },
  {
   "cell_type": "code",
   "execution_count": null,
   "id": "c44f5406",
   "metadata": {},
   "outputs": [],
   "source": []
  },
  {
   "cell_type": "code",
   "execution_count": null,
   "id": "c8f1f0cc",
   "metadata": {},
   "outputs": [],
   "source": []
  },
  {
   "cell_type": "code",
   "execution_count": null,
   "id": "6cbd56f5",
   "metadata": {},
   "outputs": [],
   "source": []
  },
  {
   "cell_type": "code",
   "execution_count": 171,
   "id": "d87a8bed",
   "metadata": {},
   "outputs": [
    {
     "data": {
      "text/plain": [
       "array([1, 2, 3, 4, 5, 6, 7, 9])"
      ]
     },
     "execution_count": 171,
     "metadata": {},
     "output_type": "execute_result"
    }
   ],
   "source": [
    "arr=np.array([1 ,2, 3, 4, 5, 6, 7, 9])\n",
    "arr"
   ]
  },
  {
   "cell_type": "code",
   "execution_count": 181,
   "id": "532d27af",
   "metadata": {},
   "outputs": [
    {
     "data": {
      "text/plain": [
       "array([1, 2, 0, 4, 0, 0, 7, 0])"
      ]
     },
     "execution_count": 181,
     "metadata": {},
     "output_type": "execute_result"
    }
   ],
   "source": [
    "arr[(arr % 3 == 0) | (arr % 5 == 0)] = 0\n",
    "\n",
    "arr"
   ]
  },
  {
   "cell_type": "code",
   "execution_count": 189,
   "id": "ec0d6e33",
   "metadata": {},
   "outputs": [
    {
     "name": "stdout",
     "output_type": "stream",
     "text": [
      "[ 0  1  2  6  8  5  6  7  8 18]\n"
     ]
    }
   ],
   "source": [
    "arr = np.arange(10)\n",
    "indexes = [0,3,4,9]\n",
    "arr[indexes] = arr[indexes] *2\n",
    "print(arr)\n"
   ]
  },
  {
   "cell_type": "code",
   "execution_count": 205,
   "id": "5266dd48",
   "metadata": {},
   "outputs": [
    {
     "data": {
      "text/plain": [
       "array([1, 2, 3])"
      ]
     },
     "execution_count": 205,
     "metadata": {},
     "output_type": "execute_result"
    }
   ],
   "source": [
    "a = np.array([1,2,3])\n",
    "a"
   ]
  },
  {
   "cell_type": "code",
   "execution_count": 206,
   "id": "3d2d8706",
   "metadata": {},
   "outputs": [
    {
     "data": {
      "text/plain": [
       "array([1, 1, 1, 2, 2, 2, 3, 3, 3])"
      ]
     },
     "execution_count": 206,
     "metadata": {},
     "output_type": "execute_result"
    }
   ],
   "source": [
    "np.repeat(a,3)"
   ]
  },
  {
   "cell_type": "code",
   "execution_count": 214,
   "id": "ffa1a55b",
   "metadata": {},
   "outputs": [
    {
     "data": {
      "text/plain": [
       "array([1, 1, 1, 2, 2, 2, 3, 3, 3])"
      ]
     },
     "execution_count": 214,
     "metadata": {},
     "output_type": "execute_result"
    }
   ],
   "source": [
    "a[[0,0,0,1,1,1,2,2,2]]"
   ]
  },
  {
   "cell_type": "code",
   "execution_count": 215,
   "id": "9d49488c",
   "metadata": {},
   "outputs": [],
   "source": [
    "arr=np.array([[1,2,np.nan],[4,2,6],[np.nan,np.nan,5]])"
   ]
  },
  {
   "cell_type": "code",
   "execution_count": 216,
   "id": "975be8d8",
   "metadata": {},
   "outputs": [
    {
     "data": {
      "text/plain": [
       "array([[ 1.,  2., nan],\n",
       "       [ 4.,  2.,  6.],\n",
       "       [nan, nan,  5.]])"
      ]
     },
     "execution_count": 216,
     "metadata": {},
     "output_type": "execute_result"
    }
   ],
   "source": [
    "arr"
   ]
  },
  {
   "cell_type": "code",
   "execution_count": 217,
   "id": "6ce239b1",
   "metadata": {},
   "outputs": [
    {
     "data": {
      "text/plain": [
       "2"
      ]
     },
     "execution_count": 217,
     "metadata": {},
     "output_type": "execute_result"
    }
   ],
   "source": [
    "arr.argmax()"
   ]
  },
  {
   "cell_type": "code",
   "execution_count": 221,
   "id": "8cad3c79",
   "metadata": {},
   "outputs": [
    {
     "data": {
      "text/plain": [
       "array([[1., 2., 2.],\n",
       "       [4., 2., 6.],\n",
       "       [2., 2., 5.]])"
      ]
     },
     "execution_count": 221,
     "metadata": {},
     "output_type": "execute_result"
    }
   ],
   "source": [
    "arr[np.isnan(arr)] = 2\n",
    "\n",
    "arr"
   ]
  },
  {
   "cell_type": "code",
   "execution_count": 232,
   "id": "92234974",
   "metadata": {},
   "outputs": [],
   "source": [
    "a = np.array([[3, 2, np.nan, 1],\n",
    "          [10, 12, 10, 9],\n",
    "          [5, np.nan, 1, np.nan]])"
   ]
  },
  {
   "cell_type": "code",
   "execution_count": 235,
   "id": "dcc528ea",
   "metadata": {},
   "outputs": [
    {
     "name": "stdout",
     "output_type": "stream",
     "text": [
      "[[ 3.  2.  0.  1.]\n",
      " [10. 12. 10.  9.]\n",
      " [ 5.  0.  1.  0.]]\n"
     ]
    }
   ],
   "source": [
    "print(a)\n"
   ]
  },
  {
   "cell_type": "code",
   "execution_count": 236,
   "id": "1f0f7690",
   "metadata": {},
   "outputs": [
    {
     "data": {
      "text/plain": [
       "array([[ 3.,  2.,  0.,  1.],\n",
       "       [10., 12., 10.,  9.],\n",
       "       [ 5.,  0.,  1.,  0.]])"
      ]
     },
     "execution_count": 236,
     "metadata": {},
     "output_type": "execute_result"
    }
   ],
   "source": [
    "np.nan_to_num(a)"
   ]
  },
  {
   "cell_type": "code",
   "execution_count": 234,
   "id": "e9847882",
   "metadata": {},
   "outputs": [
    {
     "name": "stdout",
     "output_type": "stream",
     "text": [
      "[[ 3.  2.  0.  1.]\n",
      " [10. 12. 10.  9.]\n",
      " [ 5.  0.  1.  0.]]\n"
     ]
    }
   ],
   "source": [
    "a[np.isnan(a)] = 0\n",
    "print(a)"
   ]
  },
  {
   "cell_type": "code",
   "execution_count": 312,
   "id": "2f382a8a",
   "metadata": {},
   "outputs": [],
   "source": [
    "x = np.array([1,2,3,4]).reshape((-1, 1))\n",
    "y = np.array([5,6,7])"
   ]
  },
  {
   "cell_type": "code",
   "execution_count": null,
   "id": "12d8abb4",
   "metadata": {},
   "outputs": [],
   "source": []
  },
  {
   "cell_type": "code",
   "execution_count": null,
   "id": "763ad2d2",
   "metadata": {},
   "outputs": [],
   "source": []
  },
  {
   "cell_type": "code",
   "execution_count": null,
   "id": "a4ca4d7c",
   "metadata": {},
   "outputs": [],
   "source": []
  },
  {
   "cell_type": "code",
   "execution_count": 251,
   "id": "06e5787a",
   "metadata": {},
   "outputs": [
    {
     "data": {
      "text/plain": [
       "(array([[1],\n",
       "        [2],\n",
       "        [3],\n",
       "        [4]]),\n",
       " array([5, 6, 7]))"
      ]
     },
     "execution_count": 251,
     "metadata": {},
     "output_type": "execute_result"
    }
   ],
   "source": [
    "x,y"
   ]
  },
  {
   "cell_type": "code",
   "execution_count": 253,
   "id": "6636c805",
   "metadata": {},
   "outputs": [
    {
     "data": {
      "text/plain": [
       "array([[-0.25      , -0.2       , -0.16666667],\n",
       "       [-0.33333333, -0.25      , -0.2       ],\n",
       "       [-0.5       , -0.33333333, -0.25      ],\n",
       "       [-1.        , -0.5       , -0.33333333]])"
      ]
     },
     "execution_count": 253,
     "metadata": {},
     "output_type": "execute_result"
    }
   ],
   "source": [
    "1/(x-y)"
   ]
  },
  {
   "cell_type": "code",
   "execution_count": 256,
   "id": "6f83683e",
   "metadata": {},
   "outputs": [
    {
     "data": {
      "text/plain": [
       "[<matplotlib.lines.Line2D at 0x7f7ab93d75f0>]"
      ]
     },
     "execution_count": 256,
     "metadata": {},
     "output_type": "execute_result"
    },
    {
     "data": {
      "image/png": "[encoded data removed]",
      "text/plain": [
       "<Figure size 640x480 with 1 Axes>"
      ]
     },
     "metadata": {},
     "output_type": "display_data"
    }
   ],
   "source": [
    "x = np.linspace(-10,10,100)\n",
    "y = (np.exp(x) - np.exp(-x) ) / (np.exp(x) + np.exp(-x) ) \n",
    "\n",
    "import matplotlib.pyplot as plt\n",
    "\n",
    "plt.plot(x,y)"
   ]
  },
  {
   "cell_type": "code",
   "execution_count": 260,
   "id": "9e5e9073",
   "metadata": {},
   "outputs": [
    {
     "data": {
      "text/plain": [
       "[<matplotlib.lines.Line2D at 0x7f7ab923fe90>]"
      ]
     },
     "execution_count": 260,
     "metadata": {},
     "output_type": "execute_result"
    },
    {
     "data": {
      "image/png": "[encoded data removed]",
      "text/plain": [
       "<Figure size 640x480 with 1 Axes>"
      ]
     },
     "metadata": {},
     "output_type": "display_data"
    }
   ],
   "source": [
    "x = np.linspace(-2,10,100)\n",
    "y = np.sqrt(36 - (x - 4)**2) + 2 \n",
    "y\n",
    "\n",
    "plt.plot(x,y)"
   ]
  },
  {
   "cell_type": "code",
   "execution_count": 299,
   "id": "2e55a1b1",
   "metadata": {},
   "outputs": [],
   "source": [
    "a = np.array((3,2,2))\n",
    "b= np.array( (3,2))\n"
   ]
  },
  {
   "cell_type": "code",
   "execution_count": 300,
   "id": "4cd96644",
   "metadata": {
    "scrolled": true
   },
   "outputs": [
    {
     "data": {
      "text/plain": [
       "False"
      ]
     },
     "execution_count": 300,
     "metadata": {},
     "output_type": "execute_result"
    }
   ],
   "source": [
    "def check_broadcast(a,b):\n",
    "    try:\n",
    "        np.broadcast(a,b)\n",
    "        return True\n",
    "    except Exception as e:\n",
    "        return False\n",
    "\n",
    "check_broadcast(a,b)"
   ]
  },
  {
   "cell_type": "code",
   "execution_count": 532,
   "id": "0c71944e",
   "metadata": {},
   "outputs": [],
   "source": [
    "import numpy as np"
   ]
  },
  {
   "cell_type": "code",
   "execution_count": 536,
   "id": "564163b5",
   "metadata": {},
   "outputs": [
    {
     "data": {
      "text/plain": [
       "array([[39, 90, 32],\n",
       "       [21, 36,  6],\n",
       "       [98, 40, 54],\n",
       "       [20, 20, 72]])"
      ]
     },
     "execution_count": 536,
     "metadata": {},
     "output_type": "execute_result"
    }
   ],
   "source": [
    "a = np.random.randint(0,100,(4,3))\n",
    "a"
   ]
  },
  {
   "cell_type": "code",
   "execution_count": 537,
   "id": "3340059d",
   "metadata": {},
   "outputs": [
    {
     "name": "stdout",
     "output_type": "stream",
     "text": [
      "[[32 39 90]\n",
      " [ 6 21 36]\n",
      " [40 54 98]\n",
      " [20 20 72]]\n"
     ]
    }
   ],
   "source": [
    "print(np.sort(a))"
   ]
  },
  {
   "cell_type": "code",
   "execution_count": 540,
   "id": "1fdec5d5",
   "metadata": {},
   "outputs": [
    {
     "name": "stdout",
     "output_type": "stream",
     "text": [
      "[[20 20 72]\n",
      " [21 36  6]\n",
      " [98 40 54]\n",
      " [39 90 32]]\n"
     ]
    }
   ],
   "source": [
    "print(a[a[:,1].argsort()])"
   ]
  },
  {
   "cell_type": "code",
   "execution_count": 545,
   "id": "39464b61",
   "metadata": {},
   "outputs": [
    {
     "data": {
      "text/plain": [
       "array([[39, 90, 32],\n",
       "       [21, 36,  6],\n",
       "       [98, 40, 54],\n",
       "       [20, 20, 72]])"
      ]
     },
     "execution_count": 545,
     "metadata": {},
     "output_type": "execute_result"
    }
   ],
   "source": [
    "a"
   ]
  },
  {
   "cell_type": "code",
   "execution_count": 543,
   "id": "2667f9b3",
   "metadata": {},
   "outputs": [
    {
     "data": {
      "text/plain": [
       "array([[21, 36,  6],\n",
       "       [20, 20, 72],\n",
       "       [39, 90, 32],\n",
       "       [98, 40, 54]])"
      ]
     },
     "execution_count": 543,
     "metadata": {},
     "output_type": "execute_result"
    }
   ],
   "source": [
    "np.array(sorted(a, key= lambda x:max(x)))"
   ]
  },
  {
   "cell_type": "code",
   "execution_count": 544,
   "id": "956d6807",
   "metadata": {},
   "outputs": [
    {
     "data": {
      "text/plain": [
       "[array([21, 36,  6]),\n",
       " array([20, 20, 72]),\n",
       " array([39, 90, 32]),\n",
       " array([98, 40, 54])]"
      ]
     },
     "execution_count": 544,
     "metadata": {},
     "output_type": "execute_result"
    }
   ],
   "source": [
    "sorted(a, key= lambda x:max(x))"
   ]
  },
  {
   "cell_type": "code",
   "execution_count": 546,
   "id": "8db62c3d",
   "metadata": {},
   "outputs": [
    {
     "data": {
      "text/plain": [
       "array([[39, 90, 32],\n",
       "       [21, 36,  6],\n",
       "       [98, 40, 54],\n",
       "       [20, 20, 72]])"
      ]
     },
     "execution_count": 546,
     "metadata": {},
     "output_type": "execute_result"
    }
   ],
   "source": [
    "a"
   ]
  },
  {
   "cell_type": "code",
   "execution_count": 549,
   "id": "2824ac45",
   "metadata": {},
   "outputs": [
    {
     "data": {
      "text/plain": [
       "array([[ 6, 20, 20],\n",
       "       [21, 32, 36],\n",
       "       [39, 40, 54],\n",
       "       [72, 90, 98]])"
      ]
     },
     "execution_count": 549,
     "metadata": {},
     "output_type": "execute_result"
    }
   ],
   "source": [
    "np.sort(a, axis=None).reshape(4,3)"
   ]
  },
  {
   "cell_type": "code",
   "execution_count": 562,
   "id": "5eec023a",
   "metadata": {},
   "outputs": [
    {
     "data": {
      "text/plain": [
       "array([[13, 10,  9, 33, 41],\n",
       "       [63, 46, 90, 42, 87],\n",
       "       [39, 76, 13, 29, 72],\n",
       "       [82,  9, 29, 78, 36],\n",
       "       [67, 61, 59, 36, 92]])"
      ]
     },
     "execution_count": 562,
     "metadata": {},
     "output_type": "execute_result"
    }
   ],
   "source": [
    "marks = np.array([[13, 10,  9, 33],\n",
    "       [63, 46, 90, 42],\n",
    "       [39, 76, 13, 29],\n",
    "       [82,  9, 29, 78],\n",
    "       [67, 61, 59, 36]])\n",
    "\n",
    "extra_subject = np.array([41, 87, 72, 36, 92]).reshape(-1,1)\n",
    "\n",
    "a = np.concatenate([marks,extra_subject], axis=1)\n",
    "a"
   ]
  },
  {
   "cell_type": "code",
   "execution_count": 563,
   "id": "c18f3bcc",
   "metadata": {},
   "outputs": [],
   "source": [
    "rec1 = [77, 83, 98, 95, 89]\n",
    "rec2 = [92, 71, 52, 61, 53]"
   ]
  },
  {
   "cell_type": "code",
   "execution_count": 577,
   "id": "1e4b877d",
   "metadata": {},
   "outputs": [
    {
     "data": {
      "text/plain": [
       "array([[13, 10,  9, 33, 41],\n",
       "       [63, 46, 90, 42, 87],\n",
       "       [39, 76, 13, 29, 72],\n",
       "       [82,  9, 29, 78, 36],\n",
       "       [67, 61, 59, 36, 92],\n",
       "       [77, 83, 98, 95, 89],\n",
       "       [92, 71, 52, 61, 53]])"
      ]
     },
     "execution_count": 577,
     "metadata": {},
     "output_type": "execute_result"
    }
   ],
   "source": [
    "b = np.append(a, [rec1,rec2] ,axis=0 )\n",
    "b"
   ]
  },
  {
   "cell_type": "code",
   "execution_count": 578,
   "id": "8ac35ce5",
   "metadata": {},
   "outputs": [],
   "source": [
    "c = np.sum(b, axis=1, keepdims=True)"
   ]
  },
  {
   "cell_type": "code",
   "execution_count": 582,
   "id": "847ae4ef",
   "metadata": {},
   "outputs": [
    {
     "data": {
      "text/plain": [
       "array([[ 13,  10,   9,  33,  41, 106],\n",
       "       [ 63,  46,  90,  42,  87, 328],\n",
       "       [ 39,  76,  13,  29,  72, 229],\n",
       "       [ 82,   9,  29,  78,  36, 234],\n",
       "       [ 67,  61,  59,  36,  92, 315],\n",
       "       [ 77,  83,  98,  95,  89, 442],\n",
       "       [ 92,  71,  52,  61,  53, 329]])"
      ]
     },
     "execution_count": 582,
     "metadata": {},
     "output_type": "execute_result"
    }
   ],
   "source": [
    "marks = np.concatenate([b,c], axis=1)\n",
    "marks"
   ]
  },
  {
   "cell_type": "code",
   "execution_count": 585,
   "id": "d6967052",
   "metadata": {},
   "outputs": [
    {
     "data": {
      "text/plain": [
       "array([[ 77,  83,  98,  95,  89, 442],\n",
       "       [ 92,  71,  52,  61,  53, 329],\n",
       "       [ 63,  46,  90,  42,  87, 328],\n",
       "       [ 67,  61,  59,  36,  92, 315],\n",
       "       [ 82,   9,  29,  78,  36, 234],\n",
       "       [ 39,  76,  13,  29,  72, 229],\n",
       "       [ 13,  10,   9,  33,  41, 106]])"
      ]
     },
     "execution_count": 585,
     "metadata": {},
     "output_type": "execute_result"
    }
   ],
   "source": [
    "marks = np.array(sorted(marks, key=lambda x:x[-1], reverse=True))\n",
    "marks"
   ]
  },
  {
   "cell_type": "code",
   "execution_count": 587,
   "id": "2d264212",
   "metadata": {},
   "outputs": [
    {
     "data": {
      "text/plain": [
       "array([[ 77,  83,  98,  95,  89, 442],\n",
       "       [ 92,  71,  52,  61,  53, 329]])"
      ]
     },
     "execution_count": 587,
     "metadata": {},
     "output_type": "execute_result"
    }
   ],
   "source": [
    "marks[0:2,:]"
   ]
  },
  {
   "cell_type": "code",
   "execution_count": 533,
   "id": "bdf977b0",
   "metadata": {
    "scrolled": true
   },
   "outputs": [
    {
     "data": {
      "text/plain": [
       "array([1.+0.j, 2.+0.j, 3.+0.j])"
      ]
     },
     "execution_count": 533,
     "metadata": {},
     "output_type": "execute_result"
    }
   ],
   "source": [
    "np.array([1,2,3], dtype=\"complex\")"
   ]
  },
  {
   "cell_type": "code",
   "execution_count": 534,
   "id": "33b50668",
   "metadata": {},
   "outputs": [
    {
     "data": {
      "text/plain": [
       "array([[ 9,  5,  9,  7],\n",
       "       [11, 10,  9,  2],\n",
       "       [ 5,  6,  7, 11]])"
      ]
     },
     "execution_count": 534,
     "metadata": {},
     "output_type": "execute_result"
    }
   ],
   "source": [
    "a = np.random.randint(12, size=(3,4))\n",
    "a"
   ]
  },
  {
   "cell_type": "code",
   "execution_count": 339,
   "id": "5ea6b9e2",
   "metadata": {},
   "outputs": [
    {
     "data": {
      "text/plain": [
       "array([[ 1,  4, 10, 11],\n",
       "       [ 2,  8, 10, 11],\n",
       "       [ 1,  3,  4,  5]])"
      ]
     },
     "execution_count": 339,
     "metadata": {},
     "output_type": "execute_result"
    }
   ],
   "source": [
    "np.sort(a)"
   ]
  },
  {
   "cell_type": "code",
   "execution_count": 341,
   "id": "c24ddda8",
   "metadata": {},
   "outputs": [
    {
     "data": {
      "text/plain": [
       "array([[ 1,  1,  2,  3],\n",
       "       [ 4,  5,  4,  8],\n",
       "       [11, 10, 10, 11]])"
      ]
     },
     "execution_count": 341,
     "metadata": {},
     "output_type": "execute_result"
    }
   ],
   "source": [
    "np.sort(a, axis=0)"
   ]
  },
  {
   "cell_type": "code",
   "execution_count": 343,
   "id": "9b61c12d",
   "metadata": {},
   "outputs": [
    {
     "data": {
      "text/plain": [
       "array([[ 4,  1, 10, 11],\n",
       "       [11, 10,  2,  8],\n",
       "       [ 1,  5,  4,  3]])"
      ]
     },
     "execution_count": 343,
     "metadata": {},
     "output_type": "execute_result"
    }
   ],
   "source": [
    "a"
   ]
  },
  {
   "cell_type": "code",
   "execution_count": 347,
   "id": "c388914a",
   "metadata": {},
   "outputs": [
    {
     "data": {
      "text/plain": [
       "array([[ 1,  1,  2,  3],\n",
       "       [ 4,  4,  5,  8],\n",
       "       [10, 10, 11, 11]])"
      ]
     },
     "execution_count": 347,
     "metadata": {},
     "output_type": "execute_result"
    }
   ],
   "source": [
    "np.sort(np.ravel(a)).reshape(3,4)"
   ]
  },
  {
   "cell_type": "code",
   "execution_count": 620,
   "id": "e585a0c9",
   "metadata": {},
   "outputs": [
    {
     "data": {
      "text/plain": [
       "array([[0.64 , 0.486, 0.712],\n",
       "       [0.186, 0.663, 0.205],\n",
       "       [0.559, 0.631, 0.407]])"
      ]
     },
     "execution_count": 620,
     "metadata": {},
     "output_type": "execute_result"
    }
   ],
   "source": [
    "a = np.random.rand(3,3)\n",
    "a = np.round(a, 3)\n",
    "a"
   ]
  },
  {
   "cell_type": "code",
   "execution_count": 621,
   "id": "af1f63f1",
   "metadata": {},
   "outputs": [
    {
     "data": {
      "text/plain": [
       "0.186"
      ]
     },
     "execution_count": 621,
     "metadata": {},
     "output_type": "execute_result"
    }
   ],
   "source": [
    "np.percentile(a, 0)"
   ]
  },
  {
   "cell_type": "code",
   "execution_count": 622,
   "id": "3d9ee0fa",
   "metadata": {},
   "outputs": [
    {
     "data": {
      "text/plain": [
       "True"
      ]
     },
     "execution_count": 622,
     "metadata": {},
     "output_type": "execute_result"
    }
   ],
   "source": [
    "np.percentile(a, 0) == np.min(a)"
   ]
  },
  {
   "cell_type": "code",
   "execution_count": 623,
   "id": "893c5cd5",
   "metadata": {
    "scrolled": true
   },
   "outputs": [
    {
     "data": {
      "text/plain": [
       "0.712"
      ]
     },
     "execution_count": 623,
     "metadata": {},
     "output_type": "execute_result"
    }
   ],
   "source": [
    "np.percentile(a, 100) "
   ]
  },
  {
   "cell_type": "code",
   "execution_count": 625,
   "id": "6eea575d",
   "metadata": {},
   "outputs": [
    {
     "data": {
      "text/plain": [
       "True"
      ]
     },
     "execution_count": 625,
     "metadata": {},
     "output_type": "execute_result"
    }
   ],
   "source": [
    "np.percentile(a, 100) == np.max(a)"
   ]
  },
  {
   "cell_type": "code",
   "execution_count": 364,
   "id": "6564c424",
   "metadata": {},
   "outputs": [
    {
     "data": {
      "text/plain": [
       "0.5212369012732665"
      ]
     },
     "execution_count": 364,
     "metadata": {},
     "output_type": "execute_result"
    }
   ],
   "source": [
    "np.percentile(a, 51) "
   ]
  },
  {
   "cell_type": "code",
   "execution_count": 626,
   "id": "aa217ed0",
   "metadata": {
    "scrolled": true
   },
   "outputs": [
    {
     "data": {
      "text/plain": [
       "0.559"
      ]
     },
     "execution_count": 626,
     "metadata": {},
     "output_type": "execute_result"
    }
   ],
   "source": [
    "np.percentile(a, 50) "
   ]
  },
  {
   "cell_type": "code",
   "execution_count": 627,
   "id": "265fccfe",
   "metadata": {},
   "outputs": [
    {
     "data": {
      "text/plain": [
       "0.56476"
      ]
     },
     "execution_count": 627,
     "metadata": {},
     "output_type": "execute_result"
    }
   ],
   "source": [
    "np.percentile(a, 51) "
   ]
  },
  {
   "cell_type": "code",
   "execution_count": 628,
   "id": "91054eea",
   "metadata": {},
   "outputs": [
    {
     "data": {
      "text/plain": [
       "0.005759999999999987"
      ]
     },
     "execution_count": 628,
     "metadata": {},
     "output_type": "execute_result"
    }
   ],
   "source": [
    "np.percentile(a, 51) - np.percentile(a, 50)"
   ]
  },
  {
   "cell_type": "code",
   "execution_count": 366,
   "id": "402e3579",
   "metadata": {},
   "outputs": [
    {
     "data": {
      "text/plain": [
       "0.0024344100650606215"
      ]
     },
     "execution_count": 366,
     "metadata": {},
     "output_type": "execute_result"
    }
   ],
   "source": [
    "0.5212369012732665 - 0.5188024912082059"
   ]
  },
  {
   "cell_type": "code",
   "execution_count": 613,
   "id": "532bf3ef",
   "metadata": {},
   "outputs": [
    {
     "data": {
      "text/plain": [
       "array([1567, 1756, 1279, 1195, 1015, 1074, 1561,  635,  693, 1625,  320,\n",
       "        665, 1446, 1446,  813,  654,  769,  871,  880, 1259,    7, 1924,\n",
       "        883,  454, 1242, 1776,  786, 1208, 1729, 1744,  706,  257, 1677,\n",
       "        724, 1298,  367,  944,  988, 1960,  664,  153, 1489, 1908,  464,\n",
       "        999,  501,  437,  999, 1579,  546,   93, 1516,  609, 1049, 1755,\n",
       "       1989,  160,  685,  332, 1951, 1848, 1785, 1698, 1473, 1030, 1730,\n",
       "       1184, 1577,  533,  553, 1286,  124, 1215,  482,  428, 1974, 1635,\n",
       "       1379, 1084,  746,   48,  934,  800,  793,  647,  439,  866, 1519,\n",
       "       1756, 1023, 1963, 1648,  343,  775, 1128,  379, 1591, 1570, 1350,\n",
       "        115,   86, 1111, 1237, 1076,  241,  494,  573,  960,  470, 1442,\n",
       "       1349,  539,  572, 1285,  665, 1390,  441,  562,  134,  476,  231,\n",
       "       1056,  790,  890,  341, 1958,  692, 1277, 1192, 1060,  532,  252,\n",
       "        479,  641,  940, 1497,  690,  235,  524,  579, 1674, 1928, 1870,\n",
       "       1676, 1629, 1568, 1791,  276,  194, 1671,  284,  178,  157, 1425,\n",
       "        313, 1548,  832,  193, 1492, 1039,  525,  817,  799,  811,  585,\n",
       "       1025, 1471,  493, 1618,  262, 1758, 1558,  244,  466,  575,  619,\n",
       "       1582, 1700, 1865, 1613, 1085, 1554, 1688, 1974, 1316,  832, 1995,\n",
       "       1281, 1713,   69, 1260, 1034, 1083,  664, 1367, 1758,  270,  820,\n",
       "       1765, 1686, 1210,  362,  928,  582,  944, 1506, 1081,  934,  169,\n",
       "       1657, 1148, 1101, 1213,  281,  217,  205,    1,  275,  422, 1075,\n",
       "       1114,  110,  863, 1219, 1667, 1893, 1941, 1048,   20,  106,  268,\n",
       "        310,  372,  981, 1973,  549, 1206, 1244,  626, 1435, 1971,  168,\n",
       "        968,  653, 1769, 1352, 1192,   38, 1144,  897,  315, 1239,  883,\n",
       "        851, 1883,  323,  911,   20, 1608, 1701, 1780,  554, 1662,  298,\n",
       "       1381, 1837, 1998, 1784,  696, 1620, 1920,  100,   33, 1552, 1637,\n",
       "       1451,  283, 1405,  212, 1873, 1483,  971,  978,  477,  848, 1245,\n",
       "       1025,  750, 1391,  626,  880,   22, 1556, 1861, 1456, 1314, 1306,\n",
       "        234,  245,  408, 1368, 1584, 1515, 1624,  839,  755, 1740, 1465,\n",
       "       1588, 1209, 1720,  612, 1037, 1516,  488, 1181, 1420, 1812,  367,\n",
       "       1296,  734, 1434,  307, 1809,   33, 1611, 1080,  262,  752,  469,\n",
       "       1886, 1189,  808,  784, 1375,  366,   74,  667,  543, 1495,  503,\n",
       "        210, 1676,  143,  329, 1774,  933,  987, 1610,  786, 1848,  221,\n",
       "       1948,  232,  569,   34, 1126,  974, 1340, 1790, 1038,  367,  960,\n",
       "        621,  825,  700, 1236,  856, 1710,  318,  375, 1268,  449, 1420,\n",
       "       1754,   26, 1476, 1734, 1683,  301, 1987,  716,  788, 1506,  827,\n",
       "       1979, 1681, 1057,  174, 1580,  718,  178,   89, 1904,  426, 1096,\n",
       "        922,  808, 1071,  388, 1734, 1818, 1360, 1755, 1430, 1860,  709,\n",
       "       1360, 1615,  849, 1870,  657,  396, 1348,  416,  750, 1744, 1974,\n",
       "        682,  435, 1866,  291,    9,  478, 1555, 1183, 1382, 1416, 1661,\n",
       "       1254,  187, 1113, 1444, 1276,  233, 1402,  868, 1858,  543,   72,\n",
       "        829, 1170, 1895,  580, 1058,  866,  966, 1262, 1464, 1540,  325,\n",
       "        847, 1750,  700, 1366,  273,  644,  586, 1795, 1728,  515,   53,\n",
       "        992,   34,  227,  914,  221, 1476,  762,  732, 1220, 1032,  911,\n",
       "        498,  527,   51, 1324,  807, 1817,  378,  677, 1388,  236, 1079,\n",
       "       1671, 1282,  801,   96, 1415, 1203,  632, 1235,  643, 1507, 1820,\n",
       "       1898,  681, 1628,  891,  681])"
      ]
     },
     "execution_count": 613,
     "metadata": {},
     "output_type": "execute_result"
    }
   ],
   "source": [
    "a = np.random.randint(0,2000,500)\n",
    "a"
   ]
  },
  {
   "cell_type": "code",
   "execution_count": 614,
   "id": "2328ac2b",
   "metadata": {},
   "outputs": [
    {
     "data": {
      "text/plain": [
       "array([200, 200, 200, 200, 200, 200, 200, 200, 200, 200, 200, 200, 200,\n",
       "       200, 200, 200, 200, 200, 200, 200, 100, 200, 200, 200, 200, 200,\n",
       "       200, 200, 200, 200, 200, 200, 200, 200, 200, 200, 200, 200, 200,\n",
       "       200, 153, 200, 200, 200, 200, 200, 200, 200, 200, 200, 100, 200,\n",
       "       200, 200, 200, 200, 160, 200, 200, 200, 200, 200, 200, 200, 200,\n",
       "       200, 200, 200, 200, 200, 200, 124, 200, 200, 200, 200, 200, 200,\n",
       "       200, 200, 100, 200, 200, 200, 200, 200, 200, 200, 200, 200, 200,\n",
       "       200, 200, 200, 200, 200, 200, 200, 200, 115, 100, 200, 200, 200,\n",
       "       200, 200, 200, 200, 200, 200, 200, 200, 200, 200, 200, 200, 200,\n",
       "       200, 134, 200, 200, 200, 200, 200, 200, 200, 200, 200, 200, 200,\n",
       "       200, 200, 200, 200, 200, 200, 200, 200, 200, 200, 200, 200, 200,\n",
       "       200, 200, 200, 200, 200, 194, 200, 200, 178, 157, 200, 200, 200,\n",
       "       200, 193, 200, 200, 200, 200, 200, 200, 200, 200, 200, 200, 200,\n",
       "       200, 200, 200, 200, 200, 200, 200, 200, 200, 200, 200, 200, 200,\n",
       "       200, 200, 200, 200, 200, 200, 200, 100, 200, 200, 200, 200, 200,\n",
       "       200, 200, 200, 200, 200, 200, 200, 200, 200, 200, 200, 200, 200,\n",
       "       169, 200, 200, 200, 200, 200, 200, 200, 100, 200, 200, 200, 200,\n",
       "       110, 200, 200, 200, 200, 200, 200, 100, 106, 200, 200, 200, 200,\n",
       "       200, 200, 200, 200, 200, 200, 200, 168, 200, 200, 200, 200, 200,\n",
       "       100, 200, 200, 200, 200, 200, 200, 200, 200, 200, 100, 200, 200,\n",
       "       200, 200, 200, 200, 200, 200, 200, 200, 200, 200, 200, 100, 100,\n",
       "       200, 200, 200, 200, 200, 200, 200, 200, 200, 200, 200, 200, 200,\n",
       "       200, 200, 200, 200, 200, 100, 200, 200, 200, 200, 200, 200, 200,\n",
       "       200, 200, 200, 200, 200, 200, 200, 200, 200, 200, 200, 200, 200,\n",
       "       200, 200, 200, 200, 200, 200, 200, 200, 200, 200, 200, 200, 100,\n",
       "       200, 200, 200, 200, 200, 200, 200, 200, 200, 200, 200, 100, 200,\n",
       "       200, 200, 200, 200, 200, 143, 200, 200, 200, 200, 200, 200, 200,\n",
       "       200, 200, 200, 200, 100, 200, 200, 200, 200, 200, 200, 200, 200,\n",
       "       200, 200, 200, 200, 200, 200, 200, 200, 200, 200, 200, 100, 200,\n",
       "       200, 200, 200, 200, 200, 200, 200, 200, 200, 200, 200, 174, 200,\n",
       "       200, 178, 100, 200, 200, 200, 200, 200, 200, 200, 200, 200, 200,\n",
       "       200, 200, 200, 200, 200, 200, 200, 200, 200, 200, 200, 200, 200,\n",
       "       200, 200, 200, 200, 200, 200, 100, 200, 200, 200, 200, 200, 200,\n",
       "       200, 187, 200, 200, 200, 200, 200, 200, 200, 200, 100, 200, 200,\n",
       "       200, 200, 200, 200, 200, 200, 200, 200, 200, 200, 200, 200, 200,\n",
       "       200, 200, 200, 200, 200, 200, 100, 200, 100, 200, 200, 200, 200,\n",
       "       200, 200, 200, 200, 200, 200, 200, 100, 200, 200, 200, 200, 200,\n",
       "       200, 200, 200, 200, 200, 200, 100, 200, 200, 200, 200, 200, 200,\n",
       "       200, 200, 200, 200, 200, 200])"
      ]
     },
     "execution_count": 614,
     "metadata": {},
     "output_type": "execute_result"
    }
   ],
   "source": [
    "b = np.clip(a , a_min=100, a_max=200)\n",
    "b"
   ]
  },
  {
   "cell_type": "code",
   "execution_count": 615,
   "id": "8ff17d20",
   "metadata": {},
   "outputs": [
    {
     "data": {
      "text/plain": [
       "array([100, 100, 100, 100, 100, 100, 100, 100, 100, 100, 100, 100, 100,\n",
       "       100, 100, 100, 100, 100, 100, 100, 100, 100, 100, 106, 110, 115,\n",
       "       124, 134, 143, 153, 157, 160, 168, 169, 174, 178, 178, 187, 193,\n",
       "       194, 200, 200, 200, 200, 200, 200, 200, 200, 200, 200, 200, 200,\n",
       "       200, 200, 200, 200, 200, 200, 200, 200, 200, 200, 200, 200, 200,\n",
       "       200, 200, 200, 200, 200, 200, 200, 200, 200, 200, 200, 200, 200,\n",
       "       200, 200, 200, 200, 200, 200, 200, 200, 200, 200, 200, 200, 200,\n",
       "       200, 200, 200, 200, 200, 200, 200, 200, 200, 200, 200, 200, 200,\n",
       "       200, 200, 200, 200, 200, 200, 200, 200, 200, 200, 200, 200, 200,\n",
       "       200, 200, 200, 200, 200, 200, 200, 200, 200, 200, 200, 200, 200,\n",
       "       200, 200, 200, 200, 200, 200, 200, 200, 200, 200, 200, 200, 200,\n",
       "       200, 200, 200, 200, 200, 200, 200, 200, 200, 200, 200, 200, 200,\n",
       "       200, 200, 200, 200, 200, 200, 200, 200, 200, 200, 200, 200, 200,\n",
       "       200, 200, 200, 200, 200, 200, 200, 200, 200, 200, 200, 200, 200,\n",
       "       200, 200, 200, 200, 200, 200, 200, 200, 200, 200, 200, 200, 200,\n",
       "       200, 200, 200, 200, 200, 200, 200, 200, 200, 200, 200, 200, 200,\n",
       "       200, 200, 200, 200, 200, 200, 200, 200, 200, 200, 200, 200, 200,\n",
       "       200, 200, 200, 200, 200, 200, 200, 200, 200, 200, 200, 200, 200,\n",
       "       200, 200, 200, 200, 200, 200, 200, 200, 200, 200, 200, 200, 200,\n",
       "       200, 200, 200, 200, 200, 200, 200, 200, 200, 200, 200, 200, 200,\n",
       "       200, 200, 200, 200, 200, 200, 200, 200, 200, 200, 200, 200, 200,\n",
       "       200, 200, 200, 200, 200, 200, 200, 200, 200, 200, 200, 200, 200,\n",
       "       200, 200, 200, 200, 200, 200, 200, 200, 200, 200, 200, 200, 200,\n",
       "       200, 200, 200, 200, 200, 200, 200, 200, 200, 200, 200, 200, 200,\n",
       "       200, 200, 200, 200, 200, 200, 200, 200, 200, 200, 200, 200, 200,\n",
       "       200, 200, 200, 200, 200, 200, 200, 200, 200, 200, 200, 200, 200,\n",
       "       200, 200, 200, 200, 200, 200, 200, 200, 200, 200, 200, 200, 200,\n",
       "       200, 200, 200, 200, 200, 200, 200, 200, 200, 200, 200, 200, 200,\n",
       "       200, 200, 200, 200, 200, 200, 200, 200, 200, 200, 200, 200, 200,\n",
       "       200, 200, 200, 200, 200, 200, 200, 200, 200, 200, 200, 200, 200,\n",
       "       200, 200, 200, 200, 200, 200, 200, 200, 200, 200, 200, 200, 200,\n",
       "       200, 200, 200, 200, 200, 200, 200, 200, 200, 200, 200, 200, 200,\n",
       "       200, 200, 200, 200, 200, 200, 200, 200, 200, 200, 200, 200, 200,\n",
       "       200, 200, 200, 200, 200, 200, 200, 200, 200, 200, 200, 200, 200,\n",
       "       200, 200, 200, 200, 200, 200, 200, 200, 200, 200, 200, 200, 200,\n",
       "       200, 200, 200, 200, 200, 200, 200, 200, 200, 200, 200, 200, 200,\n",
       "       200, 200, 200, 200, 200, 200, 200, 200, 200, 200, 200, 200, 200,\n",
       "       200, 200, 200, 200, 200, 200, 200, 200, 200, 200, 200, 200, 200,\n",
       "       200, 200, 200, 200, 200, 200])"
      ]
     },
     "execution_count": 615,
     "metadata": {},
     "output_type": "execute_result"
    }
   ],
   "source": [
    "c = np.sort(b)\n",
    "c"
   ]
  },
  {
   "cell_type": "code",
   "execution_count": 616,
   "id": "82e2d92d",
   "metadata": {},
   "outputs": [
    {
     "data": {
      "text/plain": [
       "array([  100,   200,   300,   400,   500,   600,   700,   800,   900,\n",
       "        1000,  1100,  1200,  1300,  1400,  1500,  1600,  1700,  1800,\n",
       "        1900,  2000,  2100,  2200,  2300,  2406,  2516,  2631,  2755,\n",
       "        2889,  3032,  3185,  3342,  3502,  3670,  3839,  4013,  4191,\n",
       "        4369,  4556,  4749,  4943,  5143,  5343,  5543,  5743,  5943,\n",
       "        6143,  6343,  6543,  6743,  6943,  7143,  7343,  7543,  7743,\n",
       "        7943,  8143,  8343,  8543,  8743,  8943,  9143,  9343,  9543,\n",
       "        9743,  9943, 10143, 10343, 10543, 10743, 10943, 11143, 11343,\n",
       "       11543, 11743, 11943, 12143, 12343, 12543, 12743, 12943, 13143,\n",
       "       13343, 13543, 13743, 13943, 14143, 14343, 14543, 14743, 14943,\n",
       "       15143, 15343, 15543, 15743, 15943, 16143, 16343, 16543, 16743,\n",
       "       16943, 17143, 17343, 17543, 17743, 17943, 18143, 18343, 18543,\n",
       "       18743, 18943, 19143, 19343, 19543, 19743, 19943, 20143, 20343,\n",
       "       20543, 20743, 20943, 21143, 21343, 21543, 21743, 21943, 22143,\n",
       "       22343, 22543, 22743, 22943, 23143, 23343, 23543, 23743, 23943,\n",
       "       24143, 24343, 24543, 24743, 24943, 25143, 25343, 25543, 25743,\n",
       "       25943, 26143, 26343, 26543, 26743, 26943, 27143, 27343, 27543,\n",
       "       27743, 27943, 28143, 28343, 28543, 28743, 28943, 29143, 29343,\n",
       "       29543, 29743, 29943, 30143, 30343, 30543, 30743, 30943, 31143,\n",
       "       31343, 31543, 31743, 31943, 32143, 32343, 32543, 32743, 32943,\n",
       "       33143, 33343, 33543, 33743, 33943, 34143, 34343, 34543, 34743,\n",
       "       34943, 35143, 35343, 35543, 35743, 35943, 36143, 36343, 36543,\n",
       "       36743, 36943, 37143, 37343, 37543, 37743, 37943, 38143, 38343,\n",
       "       38543, 38743, 38943, 39143, 39343, 39543, 39743, 39943, 40143,\n",
       "       40343, 40543, 40743, 40943, 41143, 41343, 41543, 41743, 41943,\n",
       "       42143, 42343, 42543, 42743, 42943, 43143, 43343, 43543, 43743,\n",
       "       43943, 44143, 44343, 44543, 44743, 44943, 45143, 45343, 45543,\n",
       "       45743, 45943, 46143, 46343, 46543, 46743, 46943, 47143, 47343,\n",
       "       47543, 47743, 47943, 48143, 48343, 48543, 48743, 48943, 49143,\n",
       "       49343, 49543, 49743, 49943, 50143, 50343, 50543, 50743, 50943,\n",
       "       51143, 51343, 51543, 51743, 51943, 52143, 52343, 52543, 52743,\n",
       "       52943, 53143, 53343, 53543, 53743, 53943, 54143, 54343, 54543,\n",
       "       54743, 54943, 55143, 55343, 55543, 55743, 55943, 56143, 56343,\n",
       "       56543, 56743, 56943, 57143, 57343, 57543, 57743, 57943, 58143,\n",
       "       58343, 58543, 58743, 58943, 59143, 59343, 59543, 59743, 59943,\n",
       "       60143, 60343, 60543, 60743, 60943, 61143, 61343, 61543, 61743,\n",
       "       61943, 62143, 62343, 62543, 62743, 62943, 63143, 63343, 63543,\n",
       "       63743, 63943, 64143, 64343, 64543, 64743, 64943, 65143, 65343,\n",
       "       65543, 65743, 65943, 66143, 66343, 66543, 66743, 66943, 67143,\n",
       "       67343, 67543, 67743, 67943, 68143, 68343, 68543, 68743, 68943,\n",
       "       69143, 69343, 69543, 69743, 69943, 70143, 70343, 70543, 70743,\n",
       "       70943, 71143, 71343, 71543, 71743, 71943, 72143, 72343, 72543,\n",
       "       72743, 72943, 73143, 73343, 73543, 73743, 73943, 74143, 74343,\n",
       "       74543, 74743, 74943, 75143, 75343, 75543, 75743, 75943, 76143,\n",
       "       76343, 76543, 76743, 76943, 77143, 77343, 77543, 77743, 77943,\n",
       "       78143, 78343, 78543, 78743, 78943, 79143, 79343, 79543, 79743,\n",
       "       79943, 80143, 80343, 80543, 80743, 80943, 81143, 81343, 81543,\n",
       "       81743, 81943, 82143, 82343, 82543, 82743, 82943, 83143, 83343,\n",
       "       83543, 83743, 83943, 84143, 84343, 84543, 84743, 84943, 85143,\n",
       "       85343, 85543, 85743, 85943, 86143, 86343, 86543, 86743, 86943,\n",
       "       87143, 87343, 87543, 87743, 87943, 88143, 88343, 88543, 88743,\n",
       "       88943, 89143, 89343, 89543, 89743, 89943, 90143, 90343, 90543,\n",
       "       90743, 90943, 91143, 91343, 91543, 91743, 91943, 92143, 92343,\n",
       "       92543, 92743, 92943, 93143, 93343, 93543, 93743, 93943, 94143,\n",
       "       94343, 94543, 94743, 94943, 95143, 95343, 95543, 95743, 95943,\n",
       "       96143, 96343, 96543, 96743, 96943])"
      ]
     },
     "execution_count": 616,
     "metadata": {},
     "output_type": "execute_result"
    }
   ],
   "source": [
    "np.cumsum(c)"
   ]
  },
  {
   "cell_type": "code",
   "execution_count": 588,
   "id": "7e1ad373",
   "metadata": {},
   "outputs": [
    {
     "data": {
      "text/plain": [
       "array([[448, 563, 418, 240, 507, 362, 345, 236, 719, 291, 298, 639, 458,\n",
       "        387, 262, 613, 267, 882, 181, 425, 790, 635, 889, 818, 872, 967,\n",
       "        277, 470, 336, 920, 917, 295, 557, 830, 506, 385, 353, 975, 592,\n",
       "        997, 137, 340, 222, 215, 472, 459, 617, 649, 935, 956, 914, 932,\n",
       "        645, 952, 921, 490, 527, 972, 278, 307, 840, 958, 246, 449, 251,\n",
       "        957, 103, 627, 920, 824, 356, 825, 173, 323, 372, 960, 710, 464,\n",
       "        244, 782, 763, 635, 436, 774, 171, 469, 178, 458, 624, 211, 771,\n",
       "        270, 308, 231, 952, 514, 699, 702, 433, 900, 373, 318, 998, 265,\n",
       "        503, 320, 230, 324, 922, 967, 620, 743, 527, 117, 566, 804, 123,\n",
       "        946, 587, 227, 853, 757, 944, 328, 855, 930, 325, 729, 426, 514,\n",
       "        296, 879, 575, 936, 705, 209, 191, 743, 510, 513, 628, 559, 658,\n",
       "        528, 395, 525, 922, 136, 496, 225, 895, 975, 263, 908, 420, 711,\n",
       "        800, 976, 786, 235, 930, 859, 618, 226, 695, 460, 218, 483, 490,\n",
       "        803, 621, 453, 193, 607, 677, 637, 728, 724, 534, 748, 291, 194,\n",
       "        761, 875, 687, 569, 228, 482, 781, 554, 654, 739, 885, 197, 266,\n",
       "        228, 892, 207, 883, 588]])"
      ]
     },
     "execution_count": 588,
     "metadata": {},
     "output_type": "execute_result"
    }
   ],
   "source": [
    "np.random.seed(400)\n",
    "arr = np.random.randint(100, 1000, 200).reshape((1, 200))\n",
    "arr"
   ]
  },
  {
   "cell_type": "code",
   "execution_count": 594,
   "id": "b1ecfae8",
   "metadata": {},
   "outputs": [
    {
     "data": {
      "text/plain": [
       "102"
      ]
     },
     "execution_count": 594,
     "metadata": {},
     "output_type": "execute_result"
    }
   ],
   "source": [
    "np.argmax(arr)"
   ]
  },
  {
   "cell_type": "code",
   "execution_count": 595,
   "id": "a36d0b14",
   "metadata": {},
   "outputs": [
    {
     "data": {
      "text/plain": [
       "66"
      ]
     },
     "execution_count": 595,
     "metadata": {},
     "output_type": "execute_result"
    }
   ],
   "source": [
    "np.argmin(arr)"
   ]
  },
  {
   "cell_type": "code",
   "execution_count": 599,
   "id": "4789265f",
   "metadata": {},
   "outputs": [
    {
     "data": {
      "text/plain": [
       "998"
      ]
     },
     "execution_count": 599,
     "metadata": {},
     "output_type": "execute_result"
    }
   ],
   "source": [
    "arr.max()"
   ]
  },
  {
   "cell_type": "code",
   "execution_count": 600,
   "id": "5377cfb6",
   "metadata": {},
   "outputs": [
    {
     "data": {
      "text/plain": [
       "103"
      ]
     },
     "execution_count": 600,
     "metadata": {},
     "output_type": "execute_result"
    }
   ],
   "source": [
    "arr.min()"
   ]
  },
  {
   "cell_type": "code",
   "execution_count": 601,
   "id": "15315da9",
   "metadata": {},
   "outputs": [
    {
     "data": {
      "text/plain": [
       "array([448, 563, 418, 240, 507, 362, 345, 236, 719, 291, 298, 639, 458,\n",
       "       387, 262, 613, 267, 882, 181, 425, 790, 635, 889, 818, 872, 967,\n",
       "       277, 470, 336, 920, 917, 295, 557, 830, 506, 385, 353, 975, 592,\n",
       "       997, 137, 340, 222, 215, 472, 459, 617, 649, 935, 956, 914, 932,\n",
       "       645, 952, 921, 490, 527, 972, 278, 307, 840, 958, 246, 449, 251,\n",
       "       957, 627, 920, 824, 356, 825, 173, 323, 372, 960, 710, 464, 244,\n",
       "       782, 763, 635, 436, 774, 171, 469, 178, 458, 624, 211, 771, 270,\n",
       "       308, 231, 952, 514, 699, 702, 433, 900, 373, 318, 265, 503, 320,\n",
       "       230, 324, 922, 967, 620, 743, 527, 117, 566, 804, 123, 946, 587,\n",
       "       227, 853, 757, 944, 328, 855, 930, 325, 729, 426, 514, 296, 879,\n",
       "       575, 936, 705, 209, 191, 743, 510, 513, 628, 559, 658, 528, 395,\n",
       "       525, 922, 136, 496, 225, 895, 975, 263, 908, 420, 711, 800, 976,\n",
       "       786, 235, 930, 859, 618, 226, 695, 460, 218, 483, 490, 803, 621,\n",
       "       453, 193, 607, 677, 637, 728, 724, 534, 748, 291, 194, 761, 875,\n",
       "       687, 569, 228, 482, 781, 554, 654, 739, 885, 197, 266, 228, 892,\n",
       "       207, 883, 588])"
      ]
     },
     "execution_count": 601,
     "metadata": {},
     "output_type": "execute_result"
    }
   ],
   "source": [
    "a = np.delete(arr, [np.argmin(arr), np.argmax(arr)])\n",
    "a"
   ]
  },
  {
   "cell_type": "code",
   "execution_count": 602,
   "id": "00741936",
   "metadata": {},
   "outputs": [
    {
     "data": {
      "text/plain": [
       "997"
      ]
     },
     "execution_count": 602,
     "metadata": {},
     "output_type": "execute_result"
    }
   ],
   "source": [
    "a.max()"
   ]
  },
  {
   "cell_type": "code",
   "execution_count": 603,
   "id": "853fd6a7",
   "metadata": {
    "scrolled": true
   },
   "outputs": [
    {
     "data": {
      "text/plain": [
       "117"
      ]
     },
     "execution_count": 603,
     "metadata": {},
     "output_type": "execute_result"
    }
   ],
   "source": [
    "a.min()"
   ]
  },
  {
   "cell_type": "code",
   "execution_count": 455,
   "id": "558dd8b9",
   "metadata": {
    "scrolled": true
   },
   "outputs": [
    {
     "data": {
      "text/plain": [
       "array([117, 123, 136, 137, 171, 173, 178, 181, 191, 193, 194, 197, 207,\n",
       "       209, 211, 215, 218, 222, 225, 226, 227, 228, 228, 230, 231, 235,\n",
       "       236, 240, 244, 246, 251, 262, 263, 265, 266, 267, 270, 277, 278,\n",
       "       291, 291, 295, 296, 298, 307, 308, 318, 320, 323, 324, 325, 328,\n",
       "       336, 340, 345, 353, 356, 362, 372, 373, 385, 387, 395, 418, 420,\n",
       "       425, 426, 433, 436, 448, 449, 453, 458, 458, 459, 460, 464, 469,\n",
       "       470, 472, 482, 483, 490, 490, 496, 503, 506, 507, 510, 513, 514,\n",
       "       514, 525, 527, 527, 528, 534, 554, 557, 559, 563, 566, 569, 575,\n",
       "       587, 588, 592, 607, 613, 617, 618, 620, 621, 624, 627, 628, 635,\n",
       "       635, 637, 639, 645, 649, 654, 658, 677, 687, 695, 699, 702, 705,\n",
       "       710, 711, 719, 724, 728, 729, 739, 743, 743, 748, 757, 761, 763,\n",
       "       771, 774, 781, 782, 786, 790, 800, 803, 804, 818, 824, 825, 830,\n",
       "       840, 853, 855, 859, 872, 875, 879, 882, 883, 885, 889, 892, 895,\n",
       "       900, 908, 914, 917, 920, 920, 921, 922, 922, 930, 930, 932, 935,\n",
       "       936, 944, 946, 952, 952, 956, 957, 958, 960, 967, 967, 972, 975,\n",
       "       975, 976, 997])"
      ]
     },
     "execution_count": 455,
     "metadata": {},
     "output_type": "execute_result"
    }
   ],
   "source": [
    "np.delete(c, [np.argmin(c), np.argmax(c)])\n"
   ]
  },
  {
   "cell_type": "code",
   "execution_count": 462,
   "id": "eb8ec2a2",
   "metadata": {},
   "outputs": [],
   "source": [
    "arr1 = np.arange(3)\n",
    "arr2 = np.arange(3,7)\n",
    "arr3 = np.arange(7,10)"
   ]
  },
  {
   "cell_type": "code",
   "execution_count": 463,
   "id": "834d0d26",
   "metadata": {},
   "outputs": [
    {
     "data": {
      "text/plain": [
       "array([0, 1, 2])"
      ]
     },
     "execution_count": 463,
     "metadata": {},
     "output_type": "execute_result"
    }
   ],
   "source": [
    "arr1"
   ]
  },
  {
   "cell_type": "code",
   "execution_count": 464,
   "id": "3eba9e73",
   "metadata": {},
   "outputs": [
    {
     "data": {
      "text/plain": [
       "array([3, 4, 5, 6])"
      ]
     },
     "execution_count": 464,
     "metadata": {},
     "output_type": "execute_result"
    }
   ],
   "source": [
    "arr2"
   ]
  },
  {
   "cell_type": "code",
   "execution_count": 465,
   "id": "b34b26f2",
   "metadata": {},
   "outputs": [
    {
     "data": {
      "text/plain": [
       "array([7, 8, 9])"
      ]
     },
     "execution_count": 465,
     "metadata": {},
     "output_type": "execute_result"
    }
   ],
   "source": [
    "arr3"
   ]
  },
  {
   "cell_type": "code",
   "execution_count": 466,
   "id": "2c24e5fc",
   "metadata": {},
   "outputs": [
    {
     "data": {
      "text/plain": [
       "array([0, 1, 2, 3, 4, 5, 6, 7, 8, 9])"
      ]
     },
     "execution_count": 466,
     "metadata": {},
     "output_type": "execute_result"
    }
   ],
   "source": [
    "np.concatenate((arr1, arr2, arr3))"
   ]
  },
  {
   "cell_type": "code",
   "execution_count": 522,
   "id": "29fea214",
   "metadata": {},
   "outputs": [
    {
     "data": {
      "text/plain": [
       "array([[ 1,  2,  3,  4,  5],\n",
       "       [10, -3, 30,  4,  5],\n",
       "       [30,  2,  5, -4,  5],\n",
       "       [ 9,  7,  3,  6,  5]])"
      ]
     },
     "execution_count": 522,
     "metadata": {},
     "output_type": "execute_result"
    }
   ],
   "source": [
    "arr = np.array( [[1,2,3,4,5],[10,-3,30,4,5], [30,2,5,-4,5],  [9,7,3,6,5]] )\n",
    "\n",
    "X = 6\n",
    "\n",
    "arr"
   ]
  },
  {
   "cell_type": "code",
   "execution_count": 523,
   "id": "73e94107",
   "metadata": {},
   "outputs": [
    {
     "data": {
      "text/plain": [
       "array([10, 30, 30,  9,  7])"
      ]
     },
     "execution_count": 523,
     "metadata": {},
     "output_type": "execute_result"
    }
   ],
   "source": [
    "arr[arr > X]"
   ]
  },
  {
   "cell_type": "code",
   "execution_count": 525,
   "id": "ac326bec",
   "metadata": {
    "scrolled": true
   },
   "outputs": [
    {
     "data": {
      "text/plain": [
       "array([1, 2, 3])"
      ]
     },
     "execution_count": 525,
     "metadata": {},
     "output_type": "execute_result"
    }
   ],
   "source": [
    "np.where(np.any(arr > X, axis=1))[0]"
   ]
  },
  {
   "cell_type": "code",
   "execution_count": 517,
   "id": "0c61699a",
   "metadata": {},
   "outputs": [
    {
     "data": {
      "text/plain": [
       "(array([1, 1, 2, 3, 3]), array([0, 2, 0, 0, 1]))"
      ]
     },
     "execution_count": 517,
     "metadata": {},
     "output_type": "execute_result"
    }
   ],
   "source": []
  },
  {
   "cell_type": "code",
   "execution_count": null,
   "id": "1c2f4e57",
   "metadata": {},
   "outputs": [],
   "source": []
  },
  {
   "cell_type": "code",
   "execution_count": null,
   "id": "5f780259",
   "metadata": {},
   "outputs": [],
   "source": []
  },
  {
   "cell_type": "code",
   "execution_count": 471,
   "id": "8bbcc5c0",
   "metadata": {},
   "outputs": [
    {
     "data": {
      "text/plain": [
       "array([[ 0,  1,  2],\n",
       "       [ 3,  4,  5],\n",
       "       [ 6,  7,  8],\n",
       "       [ 9, 10, 11]])"
      ]
     },
     "execution_count": 471,
     "metadata": {},
     "output_type": "execute_result"
    }
   ],
   "source": [
    "a = np.arange(12).reshape(4,3)\n",
    "a"
   ]
  },
  {
   "cell_type": "code",
   "execution_count": 475,
   "id": "aa4f6587",
   "metadata": {},
   "outputs": [
    {
     "data": {
      "text/plain": [
       "array([[11, 10,  9],\n",
       "       [ 8,  7,  6],\n",
       "       [ 5,  4,  3],\n",
       "       [ 2,  1,  0]])"
      ]
     },
     "execution_count": 475,
     "metadata": {},
     "output_type": "execute_result"
    }
   ],
   "source": [
    "np.flip(a)"
   ]
  },
  {
   "cell_type": "code",
   "execution_count": 484,
   "id": "581b49c9",
   "metadata": {},
   "outputs": [
    {
     "data": {
      "text/plain": [
       "array([[1, 2, 3, 3, 1, 1],\n",
       "       [0, 9, 1, 2, 8, 8],\n",
       "       [1, 2, 3, 8, 8, 8],\n",
       "       [1, 2, 3, 3, 1, 1]])"
      ]
     },
     "execution_count": 484,
     "metadata": {},
     "output_type": "execute_result"
    }
   ],
   "source": [
    "arr2 = np.array([[1,2,3,3,1,1],\n",
    "                [0,9,1,2,8,8],\n",
    "                [1,2,3,8,8,8],\n",
    "                [1,2,3,3,1,1]])\n",
    "\n",
    "arr2"
   ]
  },
  {
   "cell_type": "code",
   "execution_count": 487,
   "id": "e85f8ba4",
   "metadata": {},
   "outputs": [
    {
     "data": {
      "text/plain": [
       "array([[1, 1, 2, 3, 3],\n",
       "       [0, 8, 9, 1, 2],\n",
       "       [1, 8, 2, 3, 8],\n",
       "       [1, 1, 2, 3, 3]])"
      ]
     },
     "execution_count": 487,
     "metadata": {},
     "output_type": "execute_result"
    }
   ],
   "source": [
    "c = np.unique(arr2, axis=1)\n",
    "c"
   ]
  },
  {
   "cell_type": "code",
   "execution_count": 486,
   "id": "66ffd239",
   "metadata": {},
   "outputs": [
    {
     "data": {
      "text/plain": [
       "array([[0, 9, 1, 2, 8, 8],\n",
       "       [1, 2, 3, 3, 1, 1],\n",
       "       [1, 2, 3, 8, 8, 8]])"
      ]
     },
     "execution_count": 486,
     "metadata": {},
     "output_type": "execute_result"
    }
   ],
   "source": [
    "np.unique(arr2, axis=0)"
   ]
  },
  {
   "cell_type": "code",
   "execution_count": null,
   "id": "281b4bfc",
   "metadata": {},
   "outputs": [],
   "source": []
  },
  {
   "cell_type": "code",
   "execution_count": null,
   "id": "b1d85c16",
   "metadata": {},
   "outputs": [],
   "source": []
  }
 ],
 "metadata": {
  "kernelspec": {
   "display_name": "Python 3 (ipykernel)",
   "language": "python",
   "name": "python3"
  },
  "language_info": {
   "codemirror_mode": {
    "name": "ipython",
    "version": 3
   },
   "file_extension": ".py",
   "mimetype": "text/x-python",
   "name": "python",
   "nbconvert_exporter": "python",
   "pygments_lexer": "ipython3",
   "version": "3.12.3"
  }
 },
 "nbformat": 4,
 "nbformat_minor": 5
}
